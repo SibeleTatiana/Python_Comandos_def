{
  "nbformat": 4,
  "nbformat_minor": 0,
  "metadata": {
    "colab": {
      "provenance": [],
      "authorship_tag": "ABX9TyOQcwlfD1lZ+3xE8cwdjECR",
      "include_colab_link": true
    },
    "kernelspec": {
      "name": "python3",
      "display_name": "Python 3"
    },
    "language_info": {
      "name": "python"
    }
  },
  "cells": [
    {
      "cell_type": "markdown",
      "metadata": {
        "id": "view-in-github",
        "colab_type": "text"
      },
      "source": [
        "<a href=\"https://colab.research.google.com/github/SibeleTatiana/WebAggregat/blob/main/Aula_06_08_24.ipynb\" target=\"_parent\"><img src=\"https://colab.research.google.com/assets/colab-badge.svg\" alt=\"Open In Colab\"/></a>"
      ]
    },
    {
      "cell_type": "code",
      "execution_count": 1,
      "metadata": {
        "colab": {
          "base_uri": "https://localhost:8080/",
          "height": 106
        },
        "id": "nmfeiqVbb9Jt",
        "outputId": "50ae4fb6-2e12-4c5d-eca0-81c0aa704615"
      },
      "outputs": [
        {
          "output_type": "error",
          "ename": "SyntaxError",
          "evalue": "invalid decimal literal (<ipython-input-1-510b5e3cd10d>, line 61)",
          "traceback": [
            "\u001b[0;36m  File \u001b[0;32m\"<ipython-input-1-510b5e3cd10d>\"\u001b[0;36m, line \u001b[0;32m61\u001b[0m\n\u001b[0;31m    0KB\u001b[0m\n\u001b[0m    ^\u001b[0m\n\u001b[0;31mSyntaxError\u001b[0m\u001b[0;31m:\u001b[0m invalid decimal literal\n"
          ]
        }
      ],
      "source": [
        "Célula de código <Gan6tsRe7A3N>\n",
        "# %% [code]\n",
        "import numpy as np\n",
        "from scipy import stats\n",
        "\n",
        "# Objetivo: testar se o diâmetro médio das bolas produzidas pela fábrica 1 é igual a fábrica 2\n",
        "\n",
        "# Levene e Shapiro\n",
        "# Teste-t eu tenho que ter 2 condições:\n",
        "\n",
        "# Shapiro\n",
        "# 1. A amostra tem que seguir a distribuição normal\n",
        "\n",
        "# Levene\n",
        "# 2. As amostras (quando tem mais do que 1 amostra) tem que ter a variância igual\n",
        "\n",
        "# Teste de Welch\n",
        "\n",
        "# declarei as minhas amostras\n",
        "amostra_fabrica_1 = [ 9.51182903, 7.19439452, 10.42818857, 8.48623977, 9.95392617, 9.08584036, 7.88828057, 9.13283083, 9.18172261, 7.04365586, 8.57382351, 8.81922503, 6.65734872, 9.14940375, 8.73708844, 9.24066128, 9.99249732, 8.03161223, 10.90146987, 9.35144555, 8.96127198]\n",
        "amostra_fabrica_2 = [11.10428279, 8.64756835, 10.3397984 , 8.89038564, 9.48686728, 10.71393526, 8.54601478, 10.58205223, 8.90051481, 9.54782322, 9.48101232, 9.22949207, 10.29398161, 11.69433187, 10.25764347, 9.06374192, 10.21169767, 9.51190852, 8.83224818, 9.57369906, 10.61416977, 12.06320768, 9.50302557, 8.82285133, 9.15629123]\n",
        "\n",
        "alpha = 0.05\n",
        "\n",
        "# Fiz o teste de Shapiro para testar se as amostras seguem distribuição normal\n",
        "estatistica_t, p_valor_1 = stats.shapiro(amostra_fabrica_1)\n",
        "estatistica_t, p_valor_2 = stats.shapiro(amostra_fabrica_2)\n",
        "\n",
        "# H0: os dados são normais\n",
        "# H1: os dados não são normais\n",
        "\n",
        "# P-Valor de shapiro tem que ser menor que alpha para que a amostra siga distribuição normal\n",
        "if (p_valor_1 >= alpha and p_valor_2 >= alpha):\n",
        "\tprint(\"Shapiro: ambas amostras seguem distribuição normal\")\n",
        "\n",
        "  # faço teste de Levene com as duas amostras\n",
        "\testatistica_t, p_valor_1 = stats.levene(amostra_fabrica_1, amostra_fabrica_2)\n",
        "\n",
        "  # H0: os dados tem variância igual\n",
        "\t# H1: os dados tem variância diferente\n",
        "\tif (p_valor_1 >= alpha):\n",
        "\t\tprint(\"Levene: tem variância igual\")\n",
        "\n",
        "\t\testatistica_t, p_valor = stats.ttest_ind(amostra_fabrica_1, amostra_fabrica_2)\n",
        "\n",
        "\t\t# modelar o teste de hipóteses\n",
        "\t\t# H0: média1 == média2\n",
        "\t\t# H1: média1 != média2\n",
        "\t\tprint(\"P-valor: \", p_valor)\n",
        "\t\tprint(\"Estatística-t: \", estatistica_t)\n",
        "\n",
        "\t\tif (p_valor < alpha):\n",
        "\t\t\tprint(\"Rejeito H0, as médias são diferentes com significância de 5%\")\n",
        "\t\telse:\n",
        "\t\t\tprint(\"Aceito H0, as médias são iguais com significância de 5%\")\n",
        "\telse:\n",
        "\t\tprint(\"Levene: tem HETEROCEDASTICIDADE\")\n",
        "lse:\n",
        "\tprint(\"Shapiro: as amostras não seguem distribuição normal\")\n",
        "Saída da execução\n",
        "0KB\n",
        "\tStream\n",
        "\t\tShapiro: as amostras não seguem distribuição normal\n",
        "\n",
        "Célula de texto <A4JpWts7Le28>\n",
        "# %% [markdown]\n",
        " apartamentos = [19,73....]\n",
        " consumo = [16,23,13...]\n",
        "\n",
        "\n",
        "\n",
        "\n"
      ]
    }
  ]
}