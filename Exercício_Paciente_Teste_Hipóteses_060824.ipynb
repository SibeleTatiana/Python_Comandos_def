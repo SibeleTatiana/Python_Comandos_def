{
  "nbformat": 4,
  "nbformat_minor": 0,
  "metadata": {
    "colab": {
      "provenance": [],
      "authorship_tag": "ABX9TyN6UPaJ94ChbMOPAy5fSiGd",
      "include_colab_link": true
    },
    "kernelspec": {
      "name": "python3",
      "display_name": "Python 3"
    },
    "language_info": {
      "name": "python"
    }
  },
  "cells": [
    {
      "cell_type": "markdown",
      "metadata": {
        "id": "view-in-github",
        "colab_type": "text"
      },
      "source": [
        "<a href=\"https://colab.research.google.com/github/SibeleTatiana/WebAggregat/blob/main/Exerc%C3%ADcio_Paciente_Teste_Hip%C3%B3teses_060824.ipynb\" target=\"_parent\"><img src=\"https://colab.research.google.com/assets/colab-badge.svg\" alt=\"Open In Colab\"/></a>"
      ]
    },
    {
      "cell_type": "markdown",
      "source": [
        "## 1)Para as amostras dadas, realizar um teste-t, verificando as características da amostra, que diga se os valores são estatísticamente iguais ou diferentes. Utilizar alpha de 10%."
      ],
      "metadata": {
        "id": "zl0VsvXnqeHz"
      }
    },
    {
      "cell_type": "code",
      "execution_count": null,
      "metadata": {
        "colab": {
          "base_uri": "https://localhost:8080/"
        },
        "id": "7KmEstI5TYxh",
        "outputId": "6574ae04-f14b-4a3d-bd36-05f58dc834e3"
      },
      "outputs": [
        {
          "output_type": "stream",
          "name": "stdout",
          "text": [
            "t-statistic: -2.0189617778806985\n",
            "p-value: 0.05098627840008265\n",
            "Rejeita a hipótese nula. As amostras são estatisticamente diferentes.\n"
          ]
        }
      ],
      "source": [
        "import scipy.stats as stats\n",
        "\n",
        "paciente1 = [794.1, 716.9, 993, 724.7, 760.9, 908.2, 659.3, 690.8, 768.7, 717.3, 630.7, 729.5, 714.1, 810.3, 583.5, 679.9, 865.1]\n",
        "paciente2 = [976.4, 656.4, 861.2, 706.8, 718.5, 717.1, 759.8, 894.6, 867.6, 805.6, 765.4, 800.3, 789.9, 875.3, 740, 795.2, 823.8, 791.7, 948.5, 791.7, 948.5]\n",
        "\n",
        "# Realizando o teste-t\n",
        "t_stat, p_value = stats.ttest_ind(paciente1, paciente2)\n",
        "\n",
        "# Definindo o nível de significância\n",
        "alpha = 0.10\n",
        "\n",
        "# Imprimir os resultados\n",
        "print(\"t-statistic:\", t_stat)\n",
        "print(\"p-value:\", p_value)\n",
        "\n",
        "# Verificando se rejeitará ou não a hipótese nula\n",
        "if p_value < alpha:\n",
        "    print(\"Rejeita a hipótese nula. As amostras são estatisticamente diferentes.\")\n",
        "else:\n",
        "    print(\"Não rejeita a hipótese nula. As amostras são estatisticamente iguais.\")"
      ]
    }
  ]
}