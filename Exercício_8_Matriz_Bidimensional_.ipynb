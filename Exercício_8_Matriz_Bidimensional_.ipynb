{
  "nbformat": 4,
  "nbformat_minor": 0,
  "metadata": {
    "colab": {
      "provenance": [],
      "authorship_tag": "ABX9TyPDZ+gTFIWHHDEOjMyrj4hs",
      "include_colab_link": true
    },
    "kernelspec": {
      "name": "python3",
      "display_name": "Python 3"
    },
    "language_info": {
      "name": "python"
    }
  },
  "cells": [
    {
      "cell_type": "markdown",
      "metadata": {
        "id": "view-in-github",
        "colab_type": "text"
      },
      "source": [
        "<a href=\"https://colab.research.google.com/github/SibeleTatiana/WebAggregat/blob/main/Exerc%C3%ADcio_8_Matriz_Bidimensional_.ipynb\" target=\"_parent\"><img src=\"https://colab.research.google.com/assets/colab-badge.svg\" alt=\"Open In Colab\"/></a>"
      ]
    },
    {
      "cell_type": "markdown",
      "source": [
        "# Exercício 8 - Matriz Bidimensional\n",
        "\n",
        "RM 552915\n",
        "\n",
        "Aluna_Sibele_Tatiana"
      ],
      "metadata": {
        "id": "1K59nPsYIOtg"
      }
    },
    {
      "cell_type": "markdown",
      "source": [
        "# Dada uma matriz bidimensional, indique quantos pares de números iguais adjacentes existem."
      ],
      "metadata": {
        "id": "ghbAsCtVIKZV"
      }
    },
    {
      "cell_type": "code",
      "source": [
        "def contar_pares_adjacentes(matriz):\n",
        "    if not matriz or not matriz[0]:\n",
        "        return 0\n",
        "\n",
        "    contagem = 0\n",
        "    num_linhas = len(matriz)\n",
        "    num_colunas = len(matriz[0])\n",
        "\n",
        "    # Contar pares horizontais\n",
        "    for i, linha in enumerate(matriz):\n",
        "        for j in range(num_colunas - 1):\n",
        "            if linha[j] == linha[j + 1]:\n",
        "                contagem += 1\n",
        "                print(f\"Pares horizontais iguais: {linha[j]} e {linha[j + 1]} na linha {i+1}\")\n",
        "\n",
        "    # Contar pares verticais\n",
        "    for i in range(num_linhas - 1):\n",
        "        for j in range(num_colunas):\n",
        "            if matriz[i][j] == matriz[i + 1][j]:\n",
        "                contagem += 1\n",
        "                print(f\"Pares verticais iguais: {matriz[i][j]} e {matriz[i + 1][j]} na coluna {j+1}\")\n",
        "\n",
        "    return contagem\n",
        "\n",
        "# Exemplo de uso\n",
        "matriz = [\n",
        "    [1, 2, 3, 4, 5],\n",
        "    [2, 3, 5, 4, 6],\n",
        "    [4, 4, 5, 6, 7]\n",
        "]\n",
        "\n",
        "print(\"Total de pares adjacentes iguais:\", contar_pares_adjacentes(matriz))"
      ],
      "metadata": {
        "colab": {
          "base_uri": "https://localhost:8080/"
        },
        "id": "xqSCQ9hyHOJk",
        "outputId": "c480ce5f-ba91-4c78-f5fd-622227755aaf"
      },
      "execution_count": 3,
      "outputs": [
        {
          "output_type": "stream",
          "name": "stdout",
          "text": [
            "Pares horizontais iguais: 4 e 4 na linha 3\n",
            "Pares verticais iguais: 4 e 4 na coluna 4\n",
            "Pares verticais iguais: 5 e 5 na coluna 3\n",
            "Total de pares adjacentes iguais: 3\n"
          ]
        }
      ]
    }
  ]
}