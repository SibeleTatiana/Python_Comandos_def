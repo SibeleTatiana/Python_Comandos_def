{
  "nbformat": 4,
  "nbformat_minor": 0,
  "metadata": {
    "colab": {
      "provenance": [],
      "authorship_tag": "ABX9TyOLp4YekIz5jy/nUTbuECDm",
      "include_colab_link": true
    },
    "kernelspec": {
      "name": "python3",
      "display_name": "Python 3"
    },
    "language_info": {
      "name": "python"
    }
  },
  "cells": [
    {
      "cell_type": "markdown",
      "metadata": {
        "id": "view-in-github",
        "colab_type": "text"
      },
      "source": [
        "<a href=\"https://colab.research.google.com/github/SibeleTatiana/WebAggregat/blob/main/Deep_Learning_08_08_24_Revis%C3%A3o_Python.ipynb\" target=\"_parent\"><img src=\"https://colab.research.google.com/assets/colab-badge.svg\" alt=\"Open In Colab\"/></a>"
      ]
    },
    {
      "cell_type": "code",
      "execution_count": null,
      "metadata": {
        "id": "CQNRMs-Yw5Fj"
      },
      "outputs": [],
      "source": []
    },
    {
      "cell_type": "markdown",
      "source": [
        "Crie uma função que receba dois números, x, y|x<y. A função deve imprimir, sequencialmente o valor x de, calculando a soma de todos os números anterioires. Exemplo: dado x = 2 e y=5, o programa deve imprimir:\n",
        "\n",
        "x = 2, soma = 2\n",
        "x = 3, soma soma = 5\n",
        "x = 4, soma = 9\n",
        "x = 5, soma = 14"
      ],
      "metadata": {
        "id": "Js6asrphxXTR"
      }
    },
    {
      "cell_type": "code",
      "source": [
        "def f(x,y):\n",
        "    if x >=y:\n",
        "      raise ValueError(\"x deve ser menor que y\")\n",
        "\n",
        "    soma_total=0\n",
        "    for i in range(x,y + 1):\n",
        "      soma_total +=i\n",
        "      print(f\"x = {i}, soma = {soma_total}\")\n",
        "\n",
        "f(2,5)"
      ],
      "metadata": {
        "colab": {
          "base_uri": "https://localhost:8080/"
        },
        "id": "R1aP1LHwybCk",
        "outputId": "41d28e22-de31-40fc-ea9f-18582772b525"
      },
      "execution_count": 24,
      "outputs": [
        {
          "output_type": "stream",
          "name": "stdout",
          "text": [
            "x = 2, soma = 2\n",
            "x = 3, soma = 5\n",
            "x = 4, soma = 9\n",
            "x = 5, soma = 14\n"
          ]
        }
      ]
    },
    {
      "cell_type": "markdown",
      "source": [
        "# Solução do professor"
      ],
      "metadata": {
        "id": "a_QS2nZM4a6G"
      }
    },
    {
      "cell_type": "code",
      "source": [
        "def f(x,y):\n",
        "  soma = 0\n",
        "  for i in range (y-x+1):\n",
        "    soma += x\n",
        "    print(\"x=\"+ str(x)+\"soma=\" +str(soma))\n",
        "    x +=1\n",
        "    print(\"Soma total:\", soma)\n",
        "\n",
        "f(2,5)"
      ],
      "metadata": {
        "id": "4GgNcG2h4fyu",
        "colab": {
          "base_uri": "https://localhost:8080/"
        },
        "outputId": "466a39fd-92b1-4b2d-9334-6a30efd00266"
      },
      "execution_count": 11,
      "outputs": [
        {
          "output_type": "stream",
          "name": "stdout",
          "text": [
            "x=2soma=2\n",
            "Soma total: 2\n",
            "x=3soma=5\n",
            "Soma total: 5\n",
            "x=4soma=9\n",
            "Soma total: 9\n",
            "x=5soma=14\n",
            "Soma total: 14\n"
          ]
        }
      ]
    },
    {
      "cell_type": "markdown",
      "source": [],
      "metadata": {
        "id": "jmrvCYpo8Cvw"
      }
    },
    {
      "cell_type": "markdown",
      "source": [
        "# FiBonacci\n",
        "\n",
        "1,1,2,3,5,8,13"
      ],
      "metadata": {
        "id": "aU5YKxNV74HI"
      }
    },
    {
      "cell_type": "code",
      "source": [
        "def fibonacci(n):\n",
        "    a,b = 1, 1\n",
        "    sequence = []\n",
        "\n",
        "    while len(sequence) < n:\n",
        "      sequence.append(a)\n",
        "      a,b = b, a + b\n",
        "    return sequence\n",
        "\n",
        "n = 7\n",
        "print(fibonacci(n))\n",
        "\n"
      ],
      "metadata": {
        "colab": {
          "base_uri": "https://localhost:8080/"
        },
        "id": "a6_i2YqV8D1Z",
        "outputId": "6de8419f-91a4-42d1-e26e-ba6d38a89335"
      },
      "execution_count": null,
      "outputs": [
        {
          "output_type": "stream",
          "name": "stdout",
          "text": [
            "[1, 1, 2, 3, 5, 8, 13]\n"
          ]
        }
      ]
    },
    {
      "cell_type": "markdown",
      "source": [
        "Revisão Python\n",
        "# 2. Dada uma lista de inteiros, verifique se a soma de todos os elementos da lista, exceto o último, é maior que o valor do último elemento."
      ],
      "metadata": {
        "id": "LR4aFPJlKWSd"
      }
    },
    {
      "cell_type": "code",
      "source": [
        "def verificar_soma(lista):\n",
        "    if len(lista) < 2:  # Verifica se a lista tem pelo menos 2 elementos\n",
        "        return \"A lista deve conter pelo menos 2 elementos.\"\n",
        "\n",
        "    soma = sum(lista[:-1])  # Soma todos os elementos, exceto o último\n",
        "    ultimo_elemento = lista[-1]  # Último elemento da lista\n",
        "\n",
        "    if soma > ultimo_elemento:\n",
        "        return \"A soma dos elementos, exceto o último, é maior que o último elemento.\"\n",
        "    else:\n",
        "        return \"A soma dos elementos, exceto o último, não é maior que o último elemento.\"\n",
        "\n",
        "# Exemplo de uso\n",
        "lista = [5, 10, 15, 3]\n",
        "resultado = verificar_soma(lista)\n",
        "print(resultado)"
      ],
      "metadata": {
        "colab": {
          "base_uri": "https://localhost:8080/"
        },
        "id": "3CQVXQLfonyA",
        "outputId": "20d6f503-1e15-46ea-86e4-71f924bf1111"
      },
      "execution_count": 23,
      "outputs": [
        {
          "output_type": "stream",
          "name": "stdout",
          "text": [
            "A soma dos elementos, exceto o último, é maior que o último elemento.\n"
          ]
        }
      ]
    },
    {
      "cell_type": "code",
      "source": [
        "lista = [1,2,3,4,11]\n",
        "soma = sum(lista)-lista[-1]\n",
        "soma\n",
        "if soma > lista [-1]:\n",
        " print(\"a soma é maior...\")\n",
        "else:\n",
        " print (\"A soma não é maior... \")"
      ],
      "metadata": {
        "colab": {
          "base_uri": "https://localhost:8080/"
        },
        "id": "7habva-UL1P9",
        "outputId": "af8386e3-016e-4c12-ed58-291a7995942b"
      },
      "execution_count": 25,
      "outputs": [
        {
          "output_type": "stream",
          "name": "stdout",
          "text": [
            "A soma não é maior... \n"
          ]
        }
      ]
    },
    {
      "cell_type": "markdown",
      "source": [
        "## **3.Crie um algorítmo que, dado um inteiro positivo maior que 1, imprima o seguinte padrão. No exemplo, x = 5:**\n",
        "1\n",
        "22\n",
        "333\n",
        "4444\n",
        "55555"
      ],
      "metadata": {
        "id": "C9jbO_f7M8uP"
      }
    },
    {
      "cell_type": "code",
      "source": [
        "def f(n):\n",
        "  for i in range(1,n):\n",
        "    print(str(i)*i)\n",
        "\n",
        "x = 5\n",
        "f(x)"
      ],
      "metadata": {
        "colab": {
          "base_uri": "https://localhost:8080/"
        },
        "id": "DFDeCZguOj9J",
        "outputId": "cf69d3bf-a794-40dc-ea85-4a77006c4984"
      },
      "execution_count": 19,
      "outputs": [
        {
          "output_type": "stream",
          "name": "stdout",
          "text": [
            "1\n",
            "22\n",
            "333\n",
            "4444\n"
          ]
        }
      ]
    },
    {
      "cell_type": "code",
      "source": [
        "def f(n):\n",
        "  for i in range(1,n +2):\n",
        "    print(str(i))\n",
        "x = 5\n",
        "f(x)"
      ],
      "metadata": {
        "colab": {
          "base_uri": "https://localhost:8080/"
        },
        "id": "n4rwyHxCPAQy",
        "outputId": "d342a93f-c3c6-42de-8b1c-b486b8c968b0"
      },
      "execution_count": 18,
      "outputs": [
        {
          "output_type": "stream",
          "name": "stdout",
          "text": [
            "1\n",
            "2\n",
            "3\n",
            "4\n",
            "5\n",
            "6\n"
          ]
        }
      ]
    },
    {
      "cell_type": "markdown",
      "source": [
        "# Esta respota é a correta"
      ],
      "metadata": {
        "id": "RKpMJgNImux6"
      }
    },
    {
      "cell_type": "code",
      "source": [
        "def f(n):\n",
        "  for i in range(1,n+1):\n",
        "    print(str(i)*i)\n",
        "x = 5\n",
        "f(x)\n"
      ],
      "metadata": {
        "colab": {
          "base_uri": "https://localhost:8080/"
        },
        "id": "kmvjCYVePab7",
        "outputId": "f7d7b5eb-109e-4b7b-c049-3c2c140518ea"
      },
      "execution_count": 17,
      "outputs": [
        {
          "output_type": "stream",
          "name": "stdout",
          "text": [
            "1\n",
            "22\n",
            "333\n",
            "4444\n",
            "55555\n"
          ]
        }
      ]
    },
    {
      "cell_type": "markdown",
      "source": [
        "6.Crie uma função que calcule o IR devido para um dados valor. A regra para o cálculo é:"
      ],
      "metadata": {
        "id": "bbidEJASQDez"
      }
    },
    {
      "cell_type": "code",
      "source": [
        "salario = int(input('Digite o salário: '))\n",
        "if salario < 2259.21:\n",
        "    print('Você é isento de IR.')\n",
        "elif salario >= 2259.21 and salario < 2826.66:\n",
        "    print (f'{salario * 0.075 - 169.44}')\n",
        "elif salario >= 2826.65 and salario < 3751.06:\n",
        "    print(f'{salario * 0.15 - 381.44}')\n",
        "elif salario >= 3751.05 and salario < 4664.69:\n",
        "    print(f'{salario * 0.225 -662.77}')\n",
        "else:\n",
        "    print(f'{salario * 0.275- 896.00}')\n"
      ],
      "metadata": {
        "colab": {
          "base_uri": "https://localhost:8080/"
        },
        "id": "y-rf-tTuTHoG",
        "outputId": "f6f02363-1a09-4d03-f498-d47a736ded63"
      },
      "execution_count": 29,
      "outputs": [
        {
          "output_type": "stream",
          "name": "stdout",
          "text": [
            "Digite o salário: 6000\n",
            "754.0000000000002\n"
          ]
        }
      ]
    },
    {
      "cell_type": "markdown",
      "source": [],
      "metadata": {
        "id": "sosO_iszXzDz"
      }
    },
    {
      "cell_type": "markdown",
      "source": [
        "# **7.Dada uma lista de inteiros positivos, determine o segundo maior valor existente na lista**"
      ],
      "metadata": {
        "id": "rpFTF2rFX1Rb"
      }
    },
    {
      "cell_type": "markdown",
      "source": [
        "# Código_Diego"
      ],
      "metadata": {
        "id": "1j4s3fYJajPd"
      }
    },
    {
      "cell_type": "code",
      "source": [
        "def f(x):\n",
        "    x.sort()\n",
        "    a = x[2]\n",
        "    print(a)\n",
        "lista = [5,1,9,3,7]\n",
        "f(lista)"
      ],
      "metadata": {
        "colab": {
          "base_uri": "https://localhost:8080/"
        },
        "id": "AbYHpA2Ham5b",
        "outputId": "5b31bd10-f199-433a-db1d-15468377f70b"
      },
      "execution_count": 15,
      "outputs": [
        {
          "output_type": "stream",
          "name": "stdout",
          "text": [
            "5\n"
          ]
        }
      ]
    },
    {
      "cell_type": "code",
      "source": [
        "def f(lista):\n",
        "\n",
        "    if len(lista) < 2:\n",
        "        return None\n",
        "    lista_unica = list(set(lista))\n",
        "    if len(lista_unica) < 2:\n",
        "        return None\n",
        "    lista_unica.sort(reverse=True)\n",
        "    return lista_unica[1]\n",
        "\n",
        "lista = [5, 3, 8, 8, 2, 3, 7]\n",
        "print(f(lista))"
      ],
      "metadata": {
        "colab": {
          "base_uri": "https://localhost:8080/"
        },
        "id": "8fGVqLQJYDlk",
        "outputId": "df7a2185-965b-40fb-fe2b-fa52adf24347"
      },
      "execution_count": 35,
      "outputs": [
        {
          "output_type": "stream",
          "name": "stdout",
          "text": [
            "7\n"
          ]
        }
      ]
    }
  ]
}