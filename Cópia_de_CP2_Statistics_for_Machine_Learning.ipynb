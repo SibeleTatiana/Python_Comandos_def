{
  "nbformat": 4,
  "nbformat_minor": 0,
  "metadata": {
    "colab": {
      "provenance": [],
      "authorship_tag": "ABX9TyOnpz/BALSDQE1KTO9Y6luE",
      "include_colab_link": true
    },
    "kernelspec": {
      "name": "python3",
      "display_name": "Python 3"
    },
    "language_info": {
      "name": "python"
    }
  },
  "cells": [
    {
      "cell_type": "markdown",
      "metadata": {
        "id": "view-in-github",
        "colab_type": "text"
      },
      "source": [
        "<a href=\"https://colab.research.google.com/github/SibeleTatiana/WebAggregat/blob/main/C%C3%B3pia_de_CP2_Statistics_for_Machine_Learning.ipynb\" target=\"_parent\"><img src=\"https://colab.research.google.com/assets/colab-badge.svg\" alt=\"Open In Colab\"/></a>"
      ]
    },
    {
      "cell_type": "code",
      "execution_count": null,
      "metadata": {
        "colab": {
          "base_uri": "https://localhost:8080/"
        },
        "id": "yluUUkVUDjCd",
        "outputId": "a446b1eb-86e6-4fd2-ec10-40e38faf184d"
      },
      "outputs": [
        {
          "output_type": "stream",
          "name": "stdout",
          "text": [
            "Média: 217.42857142857142\n",
            "Mediana: 118.5\n",
            "Moda: 150\n",
            "Percentil 45%: 117.55\n"
          ]
        }
      ],
      "source": [
        "import numpy as np\n",
        "import statistics\n",
        "\n",
        "# Dados\n",
        "dados = [1000, 100, 110, 109, 500, 118, 112, 114, 115, 150, 119, 122, 150, 225]\n",
        "\n",
        "# Média\n",
        "media = np.mean(dados)\n",
        "print(\"Média:\", media)\n",
        "\n",
        "# Mediana\n",
        "mediana = np.median(dados)\n",
        "print(\"Mediana:\", mediana)\n",
        "\n",
        "# Moda\n",
        "moda = statistics.mode(dados)\n",
        "print(\"Moda:\", moda)\n",
        "\n",
        "# Percentil 45%\n",
        "percentil_45 = np.percentile(dados, 45)\n",
        "print(\"Percentil 45%:\", percentil_45)"
      ]
    },
    {
      "cell_type": "code",
      "source": [
        "import numpy as np\n",
        "\n",
        "# Dados\n",
        "dados = [1, 100, 225, 109, 110, 112, 1000, 114, 115, 118, 119, 122, 150, 150, 500]\n",
        "\n",
        "# Calcular quartis\n",
        "q1 = np.percentile(dados, 25)\n",
        "q3 = np.percentile(dados, 75)\n",
        "\n",
        "# Calcular intervalo interquartil (IQR)\n",
        "iqr = q3 - q1\n",
        "\n",
        "# Definir limites para outliers\n",
        "limite_inferior = q1 - 1.5 * iqr\n",
        "limite_superior = q3 + 1.5 * iqr\n",
        "\n",
        "# Identificar outliers\n",
        "outliers = [x for x in dados if x < limite_inferior or x > limite_superior]\n",
        "\n",
        "# Quantidade de outliers\n",
        "quantidade_outliers = len(outliers)\n",
        "\n",
        "print(\"Quantidade de outliers:\", quantidade_outliers)"
      ],
      "metadata": {
        "colab": {
          "base_uri": "https://localhost:8080/"
        },
        "id": "5fgLfiseFIt6",
        "outputId": "085d1752-1c3e-45c8-8f5d-867ebc77178d"
      },
      "execution_count": null,
      "outputs": [
        {
          "output_type": "stream",
          "name": "stdout",
          "text": [
            "Quantidade de outliers: 4\n"
          ]
        }
      ]
    },
    {
      "cell_type": "code",
      "source": [
        "import math\n",
        "\n",
        "# Média de eventos por hora\n",
        "lamb = 2\n",
        "\n",
        "# Número de eventos desejado\n",
        "k = 5\n",
        "\n",
        "# Calculando a probabilidade usando a fórmula da distribuição de Poisson\n",
        "probabilidade = (math.exp(-lamb) * (lamb ** k)) / math.factorial(k)\n",
        "\n",
        "print(\"A probabilidade de Jorginho bater o dedinho do pé 5 vezes em uma hora é:\", probabilidade)"
      ],
      "metadata": {
        "colab": {
          "base_uri": "https://localhost:8080/"
        },
        "id": "Nc1_XTQyHNM8",
        "outputId": "699893ad-5cf2-4e4f-f3b0-bb1e6b53edc4"
      },
      "execution_count": null,
      "outputs": [
        {
          "output_type": "stream",
          "name": "stdout",
          "text": [
            "A probabilidade de Jorginho bater o dedinho do pé 5 vezes em uma hora é: 0.03608940886309672\n"
          ]
        }
      ]
    }
  ]
}