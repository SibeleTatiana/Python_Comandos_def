{
  "nbformat": 4,
  "nbformat_minor": 0,
  "metadata": {
    "colab": {
      "provenance": [],
      "authorship_tag": "ABX9TyPCHdxE+6PgMtbn8Z3amoln",
      "include_colab_link": true
    },
    "kernelspec": {
      "name": "python3",
      "display_name": "Python 3"
    },
    "language_info": {
      "name": "python"
    }
  },
  "cells": [
    {
      "cell_type": "markdown",
      "metadata": {
        "id": "view-in-github",
        "colab_type": "text"
      },
      "source": [
        "<a href=\"https://colab.research.google.com/github/SibeleTatiana/WebAggregat/blob/main/Exerc%C3%ADcio_IMDB.ipynb\" target=\"_parent\"><img src=\"https://colab.research.google.com/assets/colab-badge.svg\" alt=\"Open In Colab\"/></a>"
      ]
    },
    {
      "cell_type": "code",
      "source": [
        "import pandas as pd\n",
        "\n",
        "# Carregar o dataset usando o caminho correto do arquivo\n",
        "data = pd.read_csv('/home/imdb_top_1000.csv')\n",
        "\n",
        "# Lista de colunas que vamos manter (ajuste de acordo com as colunas informativas)\n",
        "relevant_columns = ['IMDB_Rating', 'Released_Year', 'Runtime', 'Genre', 'Director', 'Star1', 'Star2', 'Gross']\n",
        "\n",
        "# Filtrando o dataset\n",
        "data_filtered = data[relevant_columns].copy()\n",
        "\n",
        "# Convertendo 'Released_Year' para numérico\n",
        "data_filtered['Released_Year'] = pd.to_numeric(data_filtered['Released_Year'], errors='coerce')\n",
        "\n",
        "# Convertendo 'Gross' para numérico\n",
        "data_filtered['Gross'] = data_filtered['Gross'].str.replace(',', '').astype(float)\n",
        "\n",
        "# Aplicar One-Hot Encoding nas colunas categóricas (se houver)\n",
        "data_filtered = pd.get_dummies(data_filtered, drop_first=True)\n",
        "\n",
        "# Remover valores ausentes\n",
        "data_filtered = data_filtered.dropna()\n",
        "\n",
        "from sklearn.model_selection import train_test_split\n",
        "from sklearn.linear_model import LinearRegression\n",
        "from sklearn.metrics import r2_score\n",
        "\n",
        "# Dividir os dados em X e y\n",
        "X = data_filtered.drop(columns=['IMDB_Rating'])\n",
        "y = data_filtered['IMDB_Rating']\n",
        "\n",
        "# Dividir os dados em treino e teste\n",
        "X_train, X_test, y_train, y_test = train_test_split(X, y, test_size=0.25, random_state=42)\n",
        "\n",
        "# Treinar o modelo de Regressão Linear\n",
        "model = LinearRegression()\n",
        "model.fit(X_train, y_train)\n",
        "\n",
        "# Prever e calcular R^2\n",
        "y_train_pred = model.predict(X_train)\n",
        "y_test_pred = model.predict(X_test)\n",
        "\n",
        "r2_train = r2_score(y_train, y_train_pred)\n",
        "r2_test = r2_score(y_test, y_test_pred)\n",
        "\n",
        "print(f\"R^2 Treino: {r2_train}\")\n",
        "print(f\"R^2 Teste: {r2_test}\")\n",
        "\n",
        "# Verificar se houve overfitting\n",
        "overfit_threshold = 0.20\n",
        "r2_difference = abs(r2_train - r2_test) / r2_train\n",
        "if r2_difference > overfit_threshold:\n",
        "    print(f'Overfitting detectado! Diferença percentual de {r2_difference * 100:.2f}% entre R² de treino e teste.')\n",
        "else:\n",
        "    print(f'Nenhum overfitting detectado. Diferença percentual de {r2_difference * 100:.2f}% entre R² de treino e teste.')"
      ],
      "metadata": {
        "colab": {
          "base_uri": "https://localhost:8080/"
        },
        "id": "ReSAlvQsUNyK",
        "outputId": "c7b4e30a-91e1-4e5c-93ad-9346bbbfa72c"
      },
      "execution_count": 11,
      "outputs": [
        {
          "output_type": "stream",
          "name": "stdout",
          "text": [
            "R^2 Treino: 0.9999999999993353\n",
            "R^2 Teste: -0.24334338314574167\n",
            "Overfitting detectado! Diferença percentual de 124.33% entre R² de treino e teste.\n"
          ]
        }
      ]
    }
  ]
}