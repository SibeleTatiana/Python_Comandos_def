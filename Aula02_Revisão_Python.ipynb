{
  "nbformat": 4,
  "nbformat_minor": 0,
  "metadata": {
    "colab": {
      "provenance": [],
      "authorship_tag": "ABX9TyMjVs0kXemLYlmetjF+dsj/",
      "include_colab_link": true
    },
    "kernelspec": {
      "name": "python3",
      "display_name": "Python 3"
    },
    "language_info": {
      "name": "python"
    }
  },
  "cells": [
    {
      "cell_type": "markdown",
      "metadata": {
        "id": "view-in-github",
        "colab_type": "text"
      },
      "source": [
        "<a href=\"https://colab.research.google.com/github/SibeleTatiana/WebAggregat/blob/main/Aula02_Revis%C3%A3o_Python.ipynb\" target=\"_parent\"><img src=\"https://colab.research.google.com/assets/colab-badge.svg\" alt=\"Open In Colab\"/></a>"
      ]
    },
    {
      "cell_type": "markdown",
      "source": [
        "# 1) - Crie uma função que calcula a área de um hexágono de aresta X, onde ao menos 2 dos seus ângulos internos opostos são iguais a 90 graus.\n"
      ],
      "metadata": {
        "id": "hm5m_GEZ_g3T"
      }
    },
    {
      "cell_type": "code",
      "source": [
        "import math\n",
        "#Crie uma função que calcula a área de um hexágono regular de aresta X.\n",
        "\n",
        "def area_hexagono(x):\n",
        "  area = (3 * math.sqrt(3) /2) * (x ** 2)\n",
        "  print(f'A área do hexagono de aresta {x} é {area:.2f}')\n",
        "  return area\n",
        "area_hexagono(10)"
      ],
      "metadata": {
        "colab": {
          "base_uri": "https://localhost:8080/"
        },
        "id": "dxEW0oPh17MH",
        "outputId": "9ac4a74f-32ce-496c-a4a2-420511d16dcd"
      },
      "execution_count": null,
      "outputs": [
        {
          "output_type": "stream",
          "name": "stdout",
          "text": [
            "A área do hexagono de aresta 10 é 259.81\n"
          ]
        },
        {
          "output_type": "execute_result",
          "data": {
            "text/plain": [
              "259.8076211353316"
            ]
          },
          "metadata": {},
          "execution_count": 21
        }
      ]
    },
    {
      "cell_type": "markdown",
      "source": [
        "# 2) - Crie uma função que dada uma lista de inteiros positivos, indique quais números dessa lista são primos."
      ],
      "metadata": {
        "id": "0w--YIoQ_AZu"
      }
    },
    {
      "cell_type": "code",
      "source": [
        "def primo(lista):\n",
        "  primos = []\n",
        "  for i in lista:\n",
        "    primo = True\n",
        "    for j in range(2, i):\n",
        "      if i % j == 0:\n",
        "        primo = False\n",
        "        break\n",
        "    if primo:\n",
        "      primos.append(i)\n",
        "  print(primos)\n",
        "\n",
        "lista = [1, 2, 3, 4, 5, 6, 7, 8, 9, 10, 11, 12, 13, 14, 15]\n",
        "primo(lista)"
      ],
      "metadata": {
        "colab": {
          "base_uri": "https://localhost:8080/"
        },
        "id": "W4GVHNpAUjJy",
        "outputId": "fb339abf-b9f2-40b4-e4c2-01ea86260106"
      },
      "execution_count": null,
      "outputs": [
        {
          "output_type": "stream",
          "name": "stdout",
          "text": [
            "[1, 2, 3, 5, 7, 11, 13]\n"
          ]
        }
      ]
    },
    {
      "cell_type": "markdown",
      "source": [
        "# 3) - Crie uma função Python que calcule as raízes de uma equação de segundo grau completa, dado os seus coeficientes.\n"
      ],
      "metadata": {
        "id": "p9bPiZb3OMGS"
      }
    },
    {
      "cell_type": "code",
      "source": [
        "def equacao_2grau(a, b, c):\n",
        "  delta = b**2 - 4 * a * c\n",
        "  if delta < 0:\n",
        "    return \"A equação não possui raízes reais.\"\n",
        "  elif delta == 0:\n",
        "    x = -b / (2 * a)\n",
        "    return x\n",
        "  else:\n",
        "    x1 = (- b + (delta ** 0.5)) / (2 * a)\n",
        "    x2 = (- b - (delta ** 0.5)) / (2 * a)\n",
        "    return x1, x2\n",
        "\n",
        "equacao_2grau(1, 1, 0)"
      ],
      "metadata": {
        "colab": {
          "base_uri": "https://localhost:8080/"
        },
        "id": "fbWJOao07BjR",
        "outputId": "df648693-712b-4e39-89db-0c33a5965a42"
      },
      "execution_count": null,
      "outputs": [
        {
          "output_type": "execute_result",
          "data": {
            "text/plain": [
              "(0.0, -1.0)"
            ]
          },
          "metadata": {},
          "execution_count": 15
        }
      ]
    },
    {
      "cell_type": "markdown",
      "source": [
        "# 4) - Crie uma função que, dado um número de segundos x, converta o mesmo para horas, minutos e segundos.\n",
        "Exemplo: 7221 segundos, 2 horas, 0 minutos, e 21 segundos."
      ],
      "metadata": {
        "id": "ERTDZvBT_I_0"
      }
    },
    {
      "cell_type": "code",
      "source": [
        "def converter_segundos(tempo_em_segundos):\n",
        "    horas = tempo_em_segundos // 3600\n",
        "    minutos = (tempo_em_segundos % 3600) // 60\n",
        "    segundos = tempo_em_segundos % 60\n",
        "    return horas, minutos, segundos\n",
        "\n",
        "tempo = 7221\n",
        "horas, minutos, segundos = converter_segundos(tempo)\n",
        "print(f\"{tempo} segundos são equivalentes a {horas} horas, {minutos} minutos e {segundos} segundos.\")"
      ],
      "metadata": {
        "colab": {
          "base_uri": "https://localhost:8080/"
        },
        "id": "lX09neyz_O9R",
        "outputId": "4e1c05db-9aad-48d1-cb81-1359f3f548c4"
      },
      "execution_count": 1,
      "outputs": [
        {
          "output_type": "stream",
          "name": "stdout",
          "text": [
            "7221 segundos são equivalentes a 2 horas, 0 minutos e 21 segundos.\n"
          ]
        }
      ]
    },
    {
      "cell_type": "markdown",
      "source": [
        "# 5) - Crie uma função que receba um raio de círculo. Imagine que será criado um quadrado ao redor desse círculo e um quadrado interno a esse círculo, tal qual a imagem abaixo:\n",
        "\n",
        "![image.png](data:image/png;base64,iVBORw0KGgoAAAANSUhEUgAAAUQAAAEtCAIAAAD/c44DAAAgAElEQVR4Aey993cb19U2+v6l97d717pr3fslb5I3iZ3yxWlO4ibJkuW4qLjGkm1JLCoUSbCBBXUKOkDUaejAYPoMgG/tswfDIUiqmZYpCbPOAg+GgwHmzHlm77PLs/9rfMI2Go0syzIMQz+8maap67qmabhbI5txePN/4vB/Dt75j3mZ+pqm6Lp69Io0Q4emm4eaO7oq+Yj3Ov1pHGT3VTdVzfA3TTOmmq6b+sEX2Zp+YlM1a6oNdGugW/6PeN+lqLrXVM3QDF033Rt6+Bd7F6Ia+qFmGhr+tqd5PXzul+6dB6WnujJN0wzDsCxrOBx6CP4vrzfVOQnMCG/8BR7Uvc5T/aCX8mBNUwiepy/uh4AZn54IZt2wDj0OCG4BukcgPQHhNFwRvQjXKSQffet91+Rs7nMEL0c3p5/15LJPBDNgGTZ41jxxw4+8bK9HIYPPxSe8ztMBs//L8AcZhoHiWtf1A8k76fmPfxX6j37QTkYF/rrwRolNXv3jM5HGIP78zTAsw7D8e7A/AbP7OXWyTfZPS++T9k89F/DkR2feRJU4rG74rsVFu/+SZn3fCBw3pL5/P657+mD2vtFDtTdZvX/NOt4IeIODHT+YVV1TYe0CGx7vviHy1oOuYViPACE5DD49+Sz+fVIY45mPgBlOeDDzVA30DtQ+yCtchafSz8Ds3ewn7ng364k/AQeePpi93+FNQe8HaZqGssF/jL/vHTnVmZrxZ/bt1M9+xFuQwaBfqtjx3uo6IAPBgEqsBycPvThihqYbmm7qhqkbuqph0xT1UPMNrv/HTCT08X99H3K75Je6X4FfBN+uqyZoEqqpKpra1wc9Te2bqgy/RiOPIYQxQbV7LR7CD3f86ptJtjN7i0/lh/nvhb9/8Hz0733i/qmBGS/SPw8URcGf4V0/vj0K8sf+Wv9pz3L/pAvB33z4vwdryIl2quLSWtMU0LcnGABkE6UadWmiTpMzgbkJ8AyHqpo5wbOHaj9Sn3DQTvqI90UHqCai2NY1S1MBwErfUADJljYw9IGmKaBTTMCsagYayabW2AdvVfIImygg3kA94c9+4Q7zEHFSxxuBp+qcDpjxLDAFyYYSH2cGQvekHz21/6Sf/sLdrakf7A2Fbz+axAikUUdVB5o6cJVVMhB48IEk1HTLMFEUEwArpgqNwOkImDVDJXg6AIzP3H3SOCtkG6iKooG09fR83ffgcPGsKZo6wB9gqvJB0/q6JntPJdIBdQzPjOPgPzl+hfdf3/jAp/xvX6b+SeOPcMD/+q/3pOOn9p8amP2LKNQWVFXt9/uyLCuKgjfG+26/BPD3vQOmOlOYP7Nv/TfA38cR8F+pqg5UdeDKZAIMVZG1Azz7ADBQ1IECok7VbNNCPPvBTBDl6sDkK3RVhQbCUTcVw9R0WzFsVQP30sQ0DfZnjcAbXxHz8gC+aqBofdDWdRnO6h4J91cjTieNLL8VVVVkbOSBMrC0ganK+qCnDLr4SJpA2r2WwWCAoIVX38MC8Exw61e2cQKc2Rv9A3+Yf274+55p4/BUOcapOQUQfPukYB5NNsuyvIGeOqOigH5oGAbcLLI8lmW53+/X63VJkur1ukA26cXf6pPt2EuZ/BP++g8QJxsZDbFeFyVJkCRBFHmvSZJQr4t1UcIG/xQ4ga8JfE0UOEnk65LQbEjNhtSoi3VJwNaQ6pLUgFZvSvW20Gjz9RYnNaHVW7zU5uptTmxVhEaFq5drUrkmlWpCpSp4r6WaUOZEbBVeKvNSVahXxUZNbHBSkxcavCAJfEMQ4YtE/C5JIhcEP6lRF4/+KknkRYHDJok8NrwKvMxGQ8JBEARBFEUcK69Tr9exj+Mpka/zj+dL0PeminctzWZTkqRGo1Gv15vNJorDwWCAzzvUcVQV4H3sAhsBaNv2aDRCv/IxfuYJliFoRCfb1LkMw1BVFc+FYFYUpdPpJBKJ1dXVlZWVNbKtr6+vra2tk23j8La5ubn1gm+bJ2wbGxveheMhGxtr6+uB9fVAILCyvLy0tHR/aen+8vLS2toaHBxYW1sNuC2wskba6upyYGU1EFjZWFvf2toIBoNbWzCCgUDg4fLq0sPAvYerdx+sLi6tLjxYmVtaufNg+fa9ldv3Vu7cX719b+XW3dXvF1e+nX94c+7+zdt3p9o3t+9+c/su/Gvu/ncLS98vPsQPzj0IzC2tzC0uLdxbvvtg9f5yANuDlbWl1cDySmAlsLq6Fgiswz2d3MGNzc11aBtrcCVwyPLqysOV5SVvz1pgZX09sLkJF0LawY33D+HGxsbknHCAv3/wgUf28GyPPOSs/HNzc3ObbDhbVldXNzY28vm8p96Cz0BRENjPFcyqqg4GA5Zlr1+//o9//OPcuXOXLl26ePHipUuXLhze3ifbRbJh/wV9vXjx4km//MKFc+fOvXvu3Lnz5897g3Du3Ln3zp9799x7b7/7ztvvvvPOe+++e+69c+ffv3Dx/fPnz8MHyIafunDhwvn3L3z44UcXP7h04cLFcxfOv3fuwlvvvP3Xv735+z+98avX/vDL3/7+57/93c9+/fuf/fYP//36//7v3//pF3944+e/e+O/f//nX/z+b7/4/d9++fu//eJ3f/35a3/+2W/f+Nmv//SzX//xZ7/93177X7/54//6zR9//tqf/vt1+IjXfv67N372+p9++fqff/n6n37x2v/+2a9/////6vWf/eb1X732h9/+4Y0//uXNN/7+zzffevet9869c/7Ce+9fPHfx0vlLF8+/D78WrwIuc7JNrujdCxfOvf/++UuX3sfmv/ve7Dh//jz2j44qHu//FB7ziFtw9CRnag9e6fnJduHChbfffvtf//rX3NxcqVTq9/u4UkMwo7AkInX65TQlM54bv1iWZZqmP/7448uXLz948ADFMD57vNedw5u3/4x3gpPtEb/Tf2Xb21vB4GYwGNze3t4l2/b2dhB2bWHbCu4Et3e3d/awhSOxvVBkZze0sxva3tkLbu8GNrdX1rfm7y19P7f49c3vr335n0+uf3H5k6vnP/j3W+9/8Nd3Lvz1nYt/fe/S389ffvPiR299eO2dTz5/78qX//769kf/ufPJjcUr3967ehPalRt3r924e/3m4vWbi9e+u3v9+3vXv7937bu7V79dPGjf3b3y7eKnNxc+/mbu31/f/vCrW+evfHX+4y/e/uDqm+c/+su7F//y7sW/v/fBP85/8M8Ll9/98KNLn177+POvrn/z7de37ny3eG/hwfLG9s7mzm5wL7QTjuzuhXd2Q8Ht3c2t7fWNrfVNFLagWWxvb+E4EC3DlZCToXX/To0w7t3Z2Tl2v3+n/zz+/Weqjz/S0w329vbw0tbX12/cuPHOO+/cuHEDhbO3dD1qgfID+jTBjLZrsHAoSq/Xo2n6008/vXXrFsdxfbKh0o/9qdderze158y+7U22qV842e3+9f232++7zf2f3O/J/W5P7nT7rV6/1Rtga3blRqdfb/fEZoeTmhVeKlS4ZG4/zKa2Y/TaTnRlK/RgY+duYOtuYHtxzW3za9uLG6G7wcj9ndiDEL0cTa7SmQCT3UgUN5OlYLK6k+ZCGR5aWtxLCeGsEMmJkZwYzUvRvBTJiaGcuJcVtlO1nTS3k+V3c8JuTtjJ8sF0LZiurTOFNTq/Hs8EoqmVcOLBDnV3Mzy/tksa/IaFwObd9eBScG8jTO0yiT06QSWz6UK5WBNrUpMna3i+3mr3lVav3+70Wp12q91tddrtTq/T6/o3nAbykQ0HE0fPN7CP6T7t8Y853Y/w717Pvf5Op9NutxuNRqfTaTQa8Xj82rVrd+7cQcmM62QvUsMPYH//FMCMZjRP+qtk63a7LMt++umnd+/e7Xa7tm07ZDMMY+jbcKfjON4B3p6XoIMX6jjWcGiPRs5waNu2bVmW5dj20LHsoTkcWaOxNRobzljWrWZvILZ6ZamZrwnJQjWeKoSZzC6d2qHSQSq1FmI3IsmNeHqLzgbZwm6qFMpUIrlarCTGyxJVqVO1BlVrxGuteK0VrXViXDfOyzQns5zCckpi0tjagOUH8FZQErzK8gOWU2hOpmpwMMMrtKjQokqLCiUoDD+gOZmudalqh661Ga5H19qxUj1c4MIFLpKv7mVKwUR2LZ5aDdMrISoQotZD9EaY2Yom9ph0PLOfKfEloVVrdpo9pTPQZN3S7ZE5hKt2htD8tx77w+FwRDbfTIHuo+eJd/DZnzl4Lfg7YU6QWTEejx3HGY/HpmkWi8VvvvlmcXGxWCzKsowGKc/c7Qewv39qYPYcDGht7/V6iUTi6tWrDx8+7Pf7nnltfMKGN++FfvUmkzcXJ9c6HI/dNhqNhsOh7YxsZ6RZQ9V0BrrVVfRGd1ARGpn9CpXJB2PsRpha3YktBcPLO9HVML1FZ3cShViBp4oiXW2wXIvluyzfTQi9pNhPSXKqMUg1BonmgKn3KUmOi/24OKDrKgWYVGlBZwU9wbuN5TSGV/CV4aHP8BolKLSg48GUqFKiTolqXNDigsJIGisA2mm+xwpKsq6kJCUlyVS1xdSaLNdK8NChSkK0UAvnKttsfiuWXt2lH2xG7m+El4OR9RC9FWWo9H6qWClLzWZP6WuWag0NG55i9hAec5OHnWnb5nBoj8fD0cjxGg4gHuON89RswdGe2nn23+Ll4HMKc54Gg0GhUEAw7+/vy7KM8vJ5gBlyXkzTbzHXNK3X6zEM89lnnwUCgX6/b1kW4tmb6DjKk+kOf8/+uPt+oUP6+Ar4BIge3hzHwf0IYOiPR8PR2HZGuj1STaerGEKnn68JVCa/QyUJgCMPt0PLe3Qgktiis3uZUjTPxcsSU2uzXIfIxi7N92i+RwkDShjEeTnO94gE7lFCPyb0onw3yvfDQj8iyhFhEBEGUU6JckqspsQ5leEMVtApXvO3uABv44IW49UYjwDWouJBiwsKwFtS4OkgodxWWFHGxghdhuvgw4UV2gm+neC7iWqbKtYjOX4nWdyksoFIYiXEPNyOrO7Fg7FkJJlLFqr7XINvya2+qpqWaRugqjimYZmGoRHnCiDccSxPr/HgjaPqje3kpoBMI+Cf7HhB/nqX4wk8TdOKxeLNmzfv3r27v78/GAwQzF5cFspLv0zG/ilIZjyRX63XNK3b7TIMc/369ZWVlV6vhzmW/kxLP4x/6v6B5Dz6S3BKeKLVFRFjojmPrfHIGY+c0dDG5tjmIaXRGTnD8WgMzXbGmjVUdMAw1+znqxKdq+wwmZXd2N3Nvfs7kdUos8mkNxP53WwtVJDilTbN91DLZXjQeOP8AF4JtGKS6ra6EhcH2KLSAJqoHG1x8kGUtJM+nCouwMH4evRTR/dEhEGMhxbn5RjXj/MyJQwYfsAKCkt0cq+PbymuG6+0o6V6pCgFU8V1JrcaTSzv0cvb8ZXdWDCWjKULBU6oNqWOoqi2aQ5HuACBlQhZmo2Ho/EIUHoAbGdIRh3A7ol0Z2iQW2OP4AOH2tS9I2+P3ufnuufRzxnDMPL5/M2bN1HN9oP5KID9exDMlmXhxYxGo2fxM+u6/iqB2R6NreHIdIbG0DEcW3ds07FNy9SJGIGlHYhlMqfs8Vi3R7o1VnSn0VVLXIPJVnYo0EKXduJLe9RqNLHOZHdy5UiJp2p1imvGax1YwRLZG+PkaK0fqQ0itQFKTldm1vUoNBXaceg93Z0RSXEbkfaIZ3wF/RyVeVElGjs8dHxNBsDX+hTXTYoDqtqK7Iu72comnVsJMQ+2Yw+3I4FQZIdmmMJ+WWq0ZRWi1qyhYdqWPRlJN9ve1X6ISj4mJghAOOB5bI3HNrbR2CbtAM9nEMyP1kNnYP4hT1aUzCecASSDM5kQ9ti1WMHsIaYrQDUqhLiUGI3Glj20bFj2mcOxYjqN7oBv9HIlPsLmt8JsYJde3aWX95hNKrubKlFFEZadYocR2gTJLUboExOUQoGSLEcImEFVJmrwRAE+EL9TkvZ03049FFB194MZNQUPz5QAKj00To5xMtEmBoykMtKAFWWKa9NkycDU2tE8t53Y36KzD/ciK7uh1b3wVoyKprPZSk1odjuyOoBodBvtC7YzGhIVyHLsSXQTrMtQMntIPtLx61z+/gn3+jnufoRwPltg1nUd18wvlJp9zJ2EZQxR6QiYybN/BOj1TxqQ0mS9TMSxuyTWrGFPNcVWD5bE2eIek10P0Svb8bUQu8sUItlqrCAy5SZTayeJEYsVezTfoflOXOjE+R5ZDINMi3LQcCn7k4DZU8U9VB9o2q7qDitqP5jjnAqNyGdKgAWC92yiOFjzJ8V+uq4mhR5dbcXLUrRQC2WLQSazGqaXd8Jre7EQnaazhf2qILa6sgaCWrdHhgPGf8Q24pngAZ+zh4Sz7+74AezvH3Ovn/OuFw/M165d86+ZvSX+cx64Z/06EAYTMLtIHo/M0dgcg2OFaNpkdlmObVimMwSNemDYbdWoNTuJ/eoek96MJQKRxFo0uUllQukyVRQT1TZTa9OVToLrM1yP4XoU14W1JZi1+oxELFviAFEU40E4u0Ysn4Hqh4hfBNgTvj7JFxHrN1jOiQHc1SDAruaaxBVXIRdVNNoxQp/hB8TL1aVrXeLx6jC1Zqwk7mVKG/H0yi5Y8jfCTDSRy1XEWrPT6qvg03LGxsjFs+XYlgPQHnmeAnJTxqMDlXuCaj+Msf+sM+L0PnemwYwJzOjX9iTztWvXlpeXPQPYCwZmD8mgZiOYXSSPCZItRyeTaWyPQW5o1rAta5V6K1ms7VDp5Z3oym4MMJyphAtCvNxguQ7DdehaFzDMDxKi6lqJYHmsEGk8iPLgVYqLAw8bceEAHsSCBZbnJ8HYScc8IYy9w046z0n7cUVwFMyRWp9oGWiEd1+JN3sAtrRah+F6Cb5LV1vhbHWLza2F2ABxXG/TSbZQqTTbbd1UiYPaIk4B0waP/XAMwtl1YoFJkrTJEprcuLMI5qlls//tT69me2DGODBUs18IMKOpBBRqaLC51lAXzAeTYzQ2hyODLJVBJpgjyxoNrdFwYJoNWSmJjWSxtstmAxEG3Eux5G66GC9LCUFm+T74k7huvNaJVbo0JycaBlqnQUGVNFoyaAlEWUw6ZNBCk7Uf2N4a1QPb8+wcBbCnfnudw8uBAxdXVNRikh6vG+jBJkqHEuVkSlQjtX640o1UezAyopoUBwmhF80LQbawGmZXQtRGlA0ls6kKD5CWVdkwdNtBxdscOuBOGFqI58OaFFrFZmD2aRSeSnBS1hSmdPid2i8TmD1j6WhsOSPTGZn22LHHjj60VdvsqmpJrNP5/c0IvbIbu7cVWQ6xoUwlwXcz9QEEV9T60VovxsmUpLB1CMaIEbPWRDvV0ccb5ZSIoEZFLV43ENJobcI1qoci/BQNKissR5+twRMBvVyPe506v/czvI6HYa+D6sPEUOeCOSbpeHVRUfM62N+ryRFBjdctWjJgKMByBtbvhABxKbGSuJstr8VT97bDS3uxDYpNFMtg91Z1zXGMITxf0aE1hEcxxJkAnkH3tsejFwPMCDUPZT+9ZPa7pl4sNXsEWhpE0uFoQlgLeDJBc8NQJDRlW45pOQBjc2QZI2dg6mKvWxSkZKmyy6Yf7sbWoskgWwjlearSZLlOUhwkRfDBom4Z40HkxgWY3DFexQkdk/SYZMYkMyoaEUEnDfBM2qPs1VMYe6q3ft/yY/sIe+/8Hoa9jodhX+eQNJ5cjoYXGBb0sKBHRCMiGlHJjEom9iOiFRUN0mAR4a2uWb7L8C2qUg/lq2t0ZmmPWgvH99hkslSp1JstRdfskTEco5R2F9KTUJMJqsGnNbF7o0Lupvv6BNZP0MX5NoXk0WhkGMb+/v7NmzcXFhZKpdJP7Gd+4cAMcR2TDVzEEI1Awi6JG9MZQSi14diGY5vjoeY4XUPnWp1kqbzLJNbC8bUoG0zkSZh0HZfEEPxMlsSUAAFYEcFFL85sfDvB8xSY9cns/1HA/OTxIR44PSSjMPdgjB3vMF/nScGMeA5LVliyIiI2AnIR8IyhKWAXJA4tmmvGK81oUdhN5jdjzFo4vk0nk8Vard3taKZmjwDVaPEeOsRFDdFj6IjGjruuBrl9JrYZmE//NqAD04sz9eIEIfB9NLQcW7ct0OXGY81xeqZRbjTp/f0gxQSi1FqU3aAzO5lyvNJk+T6kLkDsxIDmDgInpsDsIdmvbbqSmQcRPQHzgXyews9jpeXR4/17fKg7eF48YufTg9l/2mOAHRFUTzhHRAPBHJaMsARIhiZp+HviItjGorUOmMeEbkIaJMU+XRZD6f2NeHI1TAdCVJBKpUqC0FUG1lizx5o90m3HHIL3Cp/RKJY94UxE9Ewyk/I0XhSoP45sKgLsxZLMEDI9EcyYzoJ4BiSjyWs4NoZj2XKETj9T5YJU4sFO6O7m3jqVjO8LLEQm9zGeMSFqrACBUBgvgSYuD8x+GHv9CXSJhikcqJqT/QAMPxSx/2iAHT3ev+cRuD36r6mv858H+0c/cnjP8WCO+JTtkKgjkl0wS1qENDwP4jle7cVrHXBT17qQZ8I1mVoznKusRpL3g9HVMBtOFcr1XqOvy9YQpTRkZbl4dhM2EM9ESoPm9ZP7VmaS+fQlMxqv0b3hOJYNxHmwGaYNxuvhuG86Yn+Q48VIOh+IMCsRNkCldzLlWAUs1QmJLIxrfQDY4RwGWlQZyU1gQBsvelw9yxbp+DVwgHRcwHbEBYUx2JNQjaO4OiN7/GD2/yT0QqOej8+ysKhGJC0sqthBDE9elTAPuSJwBlc+9+JV8AhADJnQZsGJ1YjsizvJ4losvRJitmJptlCrtfpt1egZtmI6ugPmMc8w5svcgMe1H0unP6ue4Iz+H4B9fJ2tmZ9g8E44xBmBr9J3pyH12iSqtWaPWope4BuRdH4jnlyPJdap9G62Eq80k2KfFWUGkx/4QaQiu5FPnIqQjnNgcKbdREIXmX4wR0Xl1QRzXHCNCABpF8yDw3iGUHAcHxwxomz3qFqf5uQ4aN0tzK9OcP0E36WK9b10ORBJrocTQSrFFipcW+6bjjoc68OhaR9aOXtqtoefE+bFj757BubTH2LQu4aG7ei2o6PN0xnBDJA1XWx1k/vlXTq1HmHWY6m9TAloAKoQPs2K4EGJcTKkAQt6jIcW5bQop8V4Pc6p0eogVgNZPYn0mGjL4iAmyDFBxuAQnKyTY/DgI5J5khflJUj5JZ5fEj62jx/0a+mP7fu/60n6rnrs0yD8X4GWrRhP0jNJigg80UjCJqDXy+iQlHgdVs4YA4cJJ+DemyR+Ao+C0AdmBb6f4PppvhcriJtU9uEuOKXjuWJRakiy0tVN3TRs25zoXIbjQDaufzv9KfVkZ8TfgMf6f89MMj96/I6GDXhlL+Ff4EAewi0HK+hoqNtOXzNLnBRPFdbC9GqYDbLADQB5xTyGXsKsAhzWIDxrohgbCGnUqCHPqQa+KBLVqLsw8MGSkogCiRmFENR1bCOPAN+nXDz7oPJYAPsPODtg9uzqgGTSMH8TZTJGy5B8bDk2UX+8DC18jBLKhEGs0qWqPYgz4fpUpRnJ1YJMbnkvvroXjWX3q422ak6oXQjtOCE/OFCzf8KV8wzMjwYt+S/aMd0DEauQFjccW9AguBrDdycIHzpDB9bIEGLtDPuaWam32EJlK55ciybXYumtZClaauLymBZJ/jDBUlRUSMyWjoFNnk1r0nFTf11FkYD2pP6TSLyX4xj/CBx7RX6DH4rlgzhQksuNZkWK1yByhtfi/IDIbVDCWVFOCL1YSQyyhUAksRFPh9hMvlyrtzuEAsHCCFCU0hg+gNEEEGoyifH2R1bCehutaPBvsvwmb93JdWimPcHMPHzIDMyHx+PYd74hBtciYNgcjk1IKx5qlq3ajobh+KOhbVsGsHHBMxtKlrf6apFvxkm4/3o8E0yVI8UGxXUhMYBk5EMENUnonxixwHyFTqYJhnEPqJHY/NP3pP6x0/ql3Okfgcde4CTPBFPHwBgGAXDEyugpMkQPgsgcZEoA/hMS4B3J1bbZwlY8uU0x8XS2zEs9RTUc8DVCRDehMUH122MschyL2EEPdF4EMEJ6BuafMtGC3BMAMzqYHFCfNcuGhncRWQQsCx7YqmaIzVYiu78VZTaibJDJRfMcBYauQbIOvHaEWGNADFqg+uKkxHwmfPWmF+lMVsg+fXhq7j7VtJ767Iv79smv2n8kBJCQkZwCs99HANZyHsxjDNdJif0E36ZLUiRb2aaT6+FoMEqliuVmb6BZoH8hp6JhQckfDCaxLFhngQDG2D/0TxKjtwdpT1AfK0SedudMMj/FiKFYJrmKBviYoEH0h2UBm5JhwQp5BEwgTnegVMUGm8lvhenVndg2m09Um2kJdDagCgCeLaTIQeu0C1Qy24A3y6PO8uH5KcD84iLzR/3lHoCnvoUmNGYeaRkZfN8dIXHdxB3dSfDdNN9hSvxuKrsWjgdCESqT59tdxXSTNAwLSsgSkxj4ot3AEhLMO8EyeLBmYAZCv58ka8rzG5NQ+0lO3MgaDU0IygRPsm3aFhivbUe1hg1ZyVZqOzS7GaF3mFQkW2Kr9bTUSwiEOq8GMMbke1yeHZ5brtWKEiFfwtceD+bD55kdPz0CHpgxt8QbLkwymShH8CR1A2w4WAEhlyhV68crbaragbTTWpOu1sO5ylo8EQhRoWS2SPI0FMPWbUiJRr4xIKgbjoa24+bMEfnsKdzeQvophMnjDp1J5seNENgnIKlxkoF8AOYx3DUICAG65jEEdXUGWq3ZiecK23QyEKW22Sxd5tNCOymAqoYhR8jFRfKNIesYaHEOmbJcOssZmD2w/didKTBj7gpJX5ksqpH8sNZH7jGa71Bcm+GB1WQ7WVgN00Eqwe6XxFZvoFuQV+WMTCBitD0Ye52jeHv8/HviI46eHPfMXFMHQ0iY1XnjiNAAACAASURBVJFbfoLkoTMeQmYcEMBB5isguaXoOU6IpPOrUWadTe/lS1RFSvAtVoAbT2YAsH8gg49LZ0VyjxHSLmfdJERkKvZryrP6Y8/vV+r87vj7jBEomWMS5KiEeciRRm8W0acIlRoJBU1IwCi4ldxfjSYCEYYtAIl3d6CpJkT7WTZo1q4gOLBtE9FAJhcurQ/m2cTK7d/zVP0ZmB87XENMOXZdUMg7AWAGDWpIeCo0e9wcaHmuvpfILe3F1hO5nXw1XmswQpu0Lj7LY1yXtD6wyUoaI0EqT6TWR5Xbhevh+M0DSPsyjV8ppD3JxU6pzY/9iKcK4ZEngdmDNHgKiQKFDGrg2eKhwXKJ78XKjd1sJZjIb8YSkWRuvyq0+4puAxsRPOgtB7S6w2BGX/QMzM/bmg0EyyPTGYOtC+zYQ6BhRvbq4RDIqxVzKHYUulBdi7Jr8dR2ukRx7RjfBiY9bIRWHmFMghNgEri+TQJRV81DwroZmH0S8rGwPJUDjgMzxH6iZEYHYZhXwrw/85Tkq4jArwaUL1VIkN5JFDZjiR0qnS0LbVkjeB4Dq+9o7FhAzQ183ch7TkSB3xftOZ9/SPrVTDI/RjITC7YNXmVHt2yNeA4JAwU8dwHJfEuOZ0rrsdQmnQsXuFi1CUUhhB6JrOpTgttIpQiEMTowDzg9ZmA+FUw+80lOAvMkzwyYTDznPyjeJJEDw+BAKSB4pmvguAqlS8F4Zo/JJgtVATRuG2pfWWOwqxCmQPRGI8nBRDJjGJJb22AG5scA8of8ezRy7KHhjIAVxLB0oFkeQ3UyxbA7A73W6FHZMtBlxtKRfTElyYmGGhMgnBAe7XWFkqC5IZMgkN1QBFepJpIZZyHqfj7ztd+U/YMI9555lr+yH/THq3qQJpRjQPwwSajUYhIW34JVNMV1U8IgUW2HM5WNSHI9RMdThWq929cs3XBMa2RZDokChUJ/tm1OBYrNJDNIyB8C1GM/O3XO0Whk2gBme2jppqGbhuFAfbZWX81VxHCqgOQ+8XLDC88M83JYdOP+AQ+TQOiJHRt0sykw+1ZxUxj23k47Wl5ZpD2HCz8JzMj0QLiZIOQ2JmE1PEKEWu0xnJwWlRTXjWSrG5HkZixBZcuFWr03MExrZJhDTXeLDUGor2V49AYkmH8mmX8cMHt4xkUIqkPAEGIaimHKuiX1BgW+sZfIoXYdKzfSdaC5jVW6wAsJYEZfJUQLIgEVllDCKE7vFeE98XCSkkskj+I4+TwD83McAfL8RZVqAuwDZRvtYd4zBR7EUPSnF6sA53FaVEjGFb+TKOzQuRCbK/PNnqKTGp1I5TtCLQ8jjnDlPJPMP5ZkPgpmh6hI5hB4oep9JVXidpjMTqIQylRi5QYEdXFyvAqMmW5uLfDUABEsGlqRzNnDsNdBMPvEspsUNQOzB5WfpjNRpuKiVzfPBXOYd5MoXcpuNNcRPANrarkTr3STvJwS+3RJ2k2VtqlshM2WOKk70BTDNCGM2yFGbogdJCk6szUzqf3loe5YhfnZdh41CULeBCx0hoYzbMtqplzbZdMb8WS4UKM5IBUA/0SlC6nIRA6DsYQwb3lgRtBC4QWvkUQLQkUAAhkzKNCCikZU/1KN9MF8iu2nmd/P3cj8HC8T1zJE8vtg7K2PoOPG9pBIWwLdSeErwjHslc6p9YHGvAa0vkmhFy83ItnqDpUMs6lcqdro9Qa6oVmElRWiE6C5uVYTJ/MPWTcenbq455UMGiEDeXhEIGNtOByblkPWyUpqv7YRpTfi6cg+Fys3wHZd60RrvThPUib4QbgqIwUsopHIWKxjiKYvcDJPtYgw8NbYuBI7gmSXj24G5h8H4ceD2U/5MPleONK1fhMAY6iPR3XA1nVGUsEBWeki4QRTa4fS+6t70a0YVeCEjqIolgGsrDbkY/jrY2Cg4aQ4zrNIosNTF9/B68sMZl9Go+95SPaS2PgRkfoHBgmDuKCE9oDOlbZi6S02F9kXoSYbKSkMHOsQj0liejklUlMnjAL6JAUH/uUGBk9qPuHkQLt3RFLCE9K5CWEVcNAdhfRx6rdnIZt1nnkEnm417jdeYlguBpNA1qSg0CQWCOwmQj8qDZiGQvOtnVx5lUoE2VS6ytX7A9UGrmUAMzQI8neDhcf2pIrgJDf+MaDGw9yDZmAmpsSD4rtQiRs4cTEObzQ2nXHfGFUafTpX2WXyu6lSZF+EymxCf5Ici9wgMJN8MHZ5f/x49nRpFLDwFjkxJC08aTMw/xQPrGcHsxuES9Yg3v2NCIOQIIcEOSIR92S9F+Uau/vVrVQulMlnarzUkxUDcuwmRRGgsi8m4U2ILuwJt8Gj0TwDM5HHmLZyEAGPRSdIgM5oNDbMIbj7x+OB4XBtJZ6tBiKJTSZLSj31WFGmRRDI5P6B4dpzV5AAfUSymzLhwzMsvdylrzRBsij7Aez5MD2xfNzkfrrJN1ERZ586nRHwq9n+TCw0ZIJMJg2xHRFlSpIpsUtx7dA+t8lkN6lUslgTu7JmQwItSWmGAgmWo9tDt0y3r2r3Ibg+GtmvlmR2lxGoXJM3mDjulo9xSFlke2iYtqbbJqmoKrX7dKG6zeY36Ey4wCWEXkKCoC60cx4L5gmDl0fW5al/MJk8MANDFTbgnXO5nWdgPvuPnikwe3g+CcywmOI6UF5X6O5mK6vRRJDJpKtCS9EHBhAbmKRiBtLFkTKgkM+D5rFJlNijUez+91UEs0vX4gMzpEzYDqQlwwb5LpYNtZEbbZnNlbfo7FZyP1zgGK7DilD0GIha+b4LS2JkRr44JHN9jCyd2EvRvoKxYv5TeZxVODlcRc5vbjmUMvkUxGB4wtnrE47ASY8VjwgVzd0xQca8iwjXi/J9fBvhegdvSYF7SlQTDZ3iujvZ2laysJsupKsC3+3L1lB3YLIBXYkNLK7E/4y1QSeVKF06sQNIH+uXfoXAjJfq8Ty4V+6Wc4NkRgSyZQ/tMXB8NXuDdKG8FWWCifxenkdCXJDJEHpN7t/EV+SHIpkoxIHhoxbA2eO6NwgtLiLZxfOE3AsVs6mpNgPz1ID85G89l5VLh0omQ4TrhWtdD8zhWjdc6yKeoxzwNGKxzjgPhL7hIr9GZ7bYTJqX2pqtDrEIDsmycsAG5q2f/ckYB1A+bLf19r9yYCY5prBQwSEAbA+HjoNiGcLiLXuM0ZqpYmUnzuwwqfi+ECu3oIAbULRCQ1j6n9xuFh5Jo/FbO/3HeJPAQ7K757AL1/u4H8Y0B+WmsOLUTz6bX7YfcOTxijfIu19P0oGPAO35MQ2qFxDSz0gVstkT0iBWbQYzpTU6E86VCmKzqULpSZPMPdsZHZLMU8SvIKJhm0lmeHIhmD3XvAdm4Fi0h854rFnDRlfOVfmtGLUWitBFLsF3sfgT1mF0ExhJQWNYLxESZlI4RqVFhTQVU5QhHcrX6LpK11VMvTj06j9GPPisdxIa6j8etKnT+r9i1n+WESDJMIfuyBPs8RCOH4SbK0KQ9oTdjTz0yVtaVKO1frzap0WFkVQgqKi1aK65nS6tU8mdRK4oNfomKQ1tgXCGmG3Mt3WR7Fm2D4xhrzqYPdYlePYR1mKvQ5bJwN5kDkdtWc3XhHAiG0nnY9n9NFQV6zCczJKYLQRVQgRqAYaH6J8JzBQs9cZAzuN0WAjumUAdAQ/28EnDPQev7qkmUWJe+Cd2Dp/n4FOz/ac7AifdR7BOT1pc7MfFg0RXSujjPQWCXhE0anLLFKomJ3is5gl8BlQV+GeoSj2SL2/Ek7FMriw1+5rpDMe6YemmRsxg4C/1qkBPPFWIZ5jAXkNZ7U1vV3R7q8qXNWjEvUAyEB7LqUMIBxzCqqmYTlGoh5PpIJVgyrVERUzxLbbWI1VLBvDqk5CsoCZEjTQ1KWIbJCQopMxIj20DRvLa9MEJUX1EY+varD23ETh6K+n6wGuIagQw5q4fBXNCUFhOgeq8gpIUBylJSUlyqt7LNmSmIu0kcjtUMpbK1qSmRnjYLRArkP2M0WCHl80zMOMyw3tWEbGMDzZwJjvgB7DHY1kzuXprJ84EdqN7iVxWaKWFNtT75LEEEYA5wateY2oDaJzMcDJd6zNcj+GAf5MGoq/HNDzMfeVk+mnaiRLjBI1gdvwPHwFMRHdfMafqhNFGrcqvW9G1PlXuUuUuXekx1W6C66fEPsu1clIfJlhZ2GPSm+EYk85L7V5PhRxb3basESz6UIWcxJa4SCZS+mDl/EpI5qk0DMQylN4kRc8RzLBOJjxeA93g6q213fDla19+/NW33z9cv78Tu7OxNxeMzAfp+SDrtq3E/KQtBJO4c26Lmdui5rao+SA9t03fClKPbXeC1EHbYu48Tbu9zc7acx6BW0HGa99v0d8F6e+3Dpr3r9vb7FzwULuzxSxsJxa22IUtdjGYWNii726zD/ZS81ux+9vxLTaX5lpUvrJLp3Zols0Xa822rFuKZRnO0Ca1bECFhFTfIYn9dPyeZ5zDryiYwfo1BPQiExOKZUJbP5Ja3Xgic+Wrb/6fn/3q//vNH944d/lvH1x548JHb350/a8ffPaXy5/95YMvptpfL3/518tfws7L5AB4vfbXD6+/cfmzY5vvMO/4Z+oc+SVTP2z29ulG4OD2Pf52/OmD629c/uJo+/OHZCYcd2veeP/6ny9+9pf3P/vbpS/eOH/tzxeu/uPDL//43r//9v6VK98uhjIVtiwxJXGbTm9E2XSZr/eVvmkbUAMJWAHRWAuAHtojADiJ6D7ieX7J18xHJTN6oVAaEy/UEHXs7kArVLjATuiDq1/8X//vz/7vX7z+1wsfv3v167eufPnW1f+8dfUGtCvfTrV/fXoT2pVv/nHlm8nr1/+4+vU/yJ6jr/8ih53CK37v7PW0RuBp78u17/51XJuaHgdvP735ztXv3r3y3YXP7rzz6bfvXvnu/c/n/nrx+s//+Nafz328Gkknqs2M0N1NF5fDTCi9XxRbLUU3hsDfbBAK/fEYTGHAJDnB82Qh7UllonUT5RN3oR6Kry9D1tRJYLYd4EiEaBsIhx31FL1UFelUbmMv/uX38//zp7//7cJH3y8HV+Pph9H0vXBiKZa9P93y92P5B/HCg3hhico/oPPuK51dOq4tU/lnaEsUnPZoe4ZTzT5yiiOwFM0/Ybsfg3lyL5S9H87d282sxIoPQrn7e9mV6P7X97b/8M4nr/3zg6VQmqm1SfKztJ0ubdCZSDpflBpd3cLIMNOCiCYQzI6FeD4snL1awkQdn3DvvCpgRt+yadqGaaumwzc68VRhO56IJAu3H67/6Z1LH3zx3QabT4p9DN5E+ySxag78tk2gZRSBr4/YNlW6PnBtm8TayUhg8/SZrOFgcqrpV9+Z8fwHr+QMcGZGcl/JCdXZ6/MZgePuF/iKGQncDd4rFHYWwTfp7fE8GrSopOpGUtJZTsk2rJSoJwUtJerL0f1z12795p+X74dSdK1LVTtQTlDortKZh7sxKlsUuopsDRXTGeiGYRECwOPBfCCcEcAvumQ+sPJ5zreDzsi1Gbh8iLDqsIemMR6NNd2sSS06V9mkMnvpMlOu317f+927l8599m2ALcRIniPb1N1wApHEe/gCPA7iEyRSGdQXaYC8nB475/QZvOO9c56wB84gqv5XONXjPjU75kccgckEwNCdR7/iDGEkqPw8iVCAp0BS0u6Hs+9c/e61tz9a3E0x/CApaTGuH6l2Y9X2ejyzEU8y+5Vqq6M7Y8MZOqOh40AtpKFjkOLBMOFR8fTCnzxM+2Xyi6hmPwrMxI7vHgCWwKE9to2xbQxtp9mV6UxxPZzYpHNMrR2vNG+th19/9/L5L78PJMuYGkXXgVfgqZqb+3Y44nq286UZgaeaDBgjCJRS3IDhQXonRDXdMB7GCm9d+fa1tz+a30tBwLYEBCZAclDrRfbFTSa7RadzfL2jmcDV7kAQ2GhoAo3BCNIk0Ts1Zc0+KpNfRDB7T6VDncma+QDJECjnWADmkSPLSq5UC8aSa9FkZJ9P1wfRUvO7QPi1dz648NWt9XQVMpYxavcEMHv8ElMdL6N11nkpR2DqdntvTwQ5QLRP1WSqJjMQd6SkG8ZyfP9fn958/Z2PF0LpGOeWKIJIfh7q/u6lyyshJpYtlcSGYkI9Mw/MiGfPADaZ5Acz/0WXzAdXgj3veshbNzFqCNnKUEvZhirYdk1shJnMRiQZylSyDQjKiZaa366Gfvv2pfNffo9gjvL9CNc78SadAPKXRgTNLuTYEThpPhxKqvEnz7jcnQBmqgYBnqm6/jBW+OcnN3737icLoXS01qNg1Q2R/CCluR5VaQbZwnosFUsX6n0Fcp5ty4E1s+E2SO0jCD/O4uXN/xdPMh9VNvAaJsAmNa+JWX/oWJZlKKre6g0S2f3teGoLasoImQbE2UUrrZuB0G/euvje599upCq06OapnniT/DfM1/dnRM76L98IPO18QJ4wmhsgmGlOTkraUjT/r09v/u7dTxbDGSSEhMMEBUg/q72kOKCrrUA0tRVPZipCTzVUk3BuE9cUsWlPaMPAJPSY7UVyTU2BGa8MIr3INiTlfWCpTGJoLMuSNTNTrm1G2CCTi+9L8Uqb5fsJQY5V29+tR3779qX3Pv92PVmmRVJN5jAF35PcyJdv+s6uyD8CTzIHDh1DUusQzDQHmnaqrqOajWCOcX0EPMp8SoDw/qQ42E5XtujsNp0uiY2+ZhpQdNQNBXMXz4QM8DFQfrESLY6CGcmAkN8LA0VwaeE4jqLqXL29x2QDe8xeupwSBilJo6o9hh8gmF97C6zZCGaI6ZWemjjKf+Nn/ZdvBA4B1aeRnbifgJnhFZKRfgjMuGaG0rCgYGNJE+K/4KDGIMV1t9Ol1TAbTeWrjTZyAJL4EXti1gYmwJcKzEOXUdNdOcO1EXa+KTAjgXCrNwgzmfVwYjuxHy1KkMsiqrFKlxWUaKX17VoYwbyWKBFSERnSVp/khvmOefmm7+yK/CPwtPMBSSYYXiF4BjAnJe1hrPCvT2++9vZHC6E0+KjrOoKZEtUoJ++VO+FKN9HQ9/L8cjS5GqaZfLlDyri7birHmpi17WPB7EV3vmC82ciTO1khE/oBwukFyaC2PRpBuDrGuMoDNV0oL2/Ht5j9WKkOpd5EFQsFAX9IrfPtWvj1tz84//l3a4kSyXyCZbNn8PDuIu7x3s46sxF41AhMJDPB8wDB/CCS89bMJPpIxTUzJUL52N1qNwoFUpRYtb2dqW6xuY14Ms+LXd0ETivbrSMJeB5ZHsMs8T0fQBuDQKHyoWnm9ws3vr05v7iwXyoqiqLrukE2/ZEbHmNZlgeu/3Ilpu+P94WWZeHZDMOYOq2qqrqua5qGnV6vxzDMtWvHFFs/qmYTLnsHwew4EK1uOyPdHvH11h6VCkSSezluQgPklpsACggfmANs0QMzVhXyID3rvOIj8Cjc+hS0g8MmYCau5seAmfC3aljRCmJOBFj97WYrgVgynMrV2l3dIVVtHBvczyQm7KUCs+8pAQ+jMYkMgUBW1xnlGBBGM27LWipfWt2JBdlCvNJOiirNyZOKQQO2rsGaObD32luXzn/+3QGYCbXiDM+vOICf5PIP0DsF6ceBeWrNHBWhSB2eja1r6aYWLzfWYunVMJ0o1TqaYQHhpAOVhgme/WDGPgpLNz1jPDKssyqZV1ZWer3e0Fc4zpPzYOWaINm2TQDzkCB5OO5rVqFW36NS6+FEuCDQfC8xATPUl+H6rCjHKy6YSTgnSuYBhgR493JSQMy1VZx4/6Zu5+ztqzwCBMzIx4jET0lJexDJ/fOTG6+/8/FiODMF5oighnkSDUY07XTDoGvdrWRpLZ7aSeRK9ebAHhqjkeHYLi+lvx4L6b8YYL5+/bofzBNIH0RfI5gdBxYVCGZrNNbsMdfsh9jcRpTdS5XoWpcwe0DFcyRbwzJfsXLru8De797+AMFMWGBgTBHJM9zORuAZR4AEjUz4VV0D2FI0fxKYoVJKrR+p9UGQQDzJgOZ70VI9mCquRhPRTEHsD9ThGB3N4KoaDr0qDpAP6PpkIWobEifPrGQ+FswYCuO+EsmM6oczGprDke6MW4rOFmqBELURT9MlKSEATU+0BjF0bF0HyUxq9sXKDQ/Ma0yRJDkdBGY/4418lSXS7NpxBI6AOVXXHwtmlCKRajdShYKSCWmwm+MeRthAhElV+LZuaqOxOQKaDUiQnBRXcjtENL+QYJ7EqZIYbOJG98BsOMOBYZfERpBKrYbZSLaa4KF2LniVOdmrwxqv9hihHys3vp9IZgQzI2lYwNErQTKD9GwEnnoEnhbMhFU/Lg6grk21G61BbbNkXYmW6lvJ/dUwu5fIlBst2SLsvENw3/jB/GJLZmRFcl+hcA8pf2vbRMEetRQ9WaythJhNOpestdKiQtXcgJtwtUcgDd55RujHy41ba6Hfv3P53GffB5gypBBDeU7Nv2D2buQM3t5QvGodbz5MdU4chwmYqRqohP7Y7GPXzFjsBsFMgsMI36vQZ7hOvCxtMlkQziWurZsmIaIETXoimcEANgnwPBOS2dB0Q9Mf7ZpyHAcKr0IpZVIOfWi7GVFDBwKwDXM0Gum2M7CHRbG1SaU24hmqWE/zQH9NC3pcMGK8GiG1KeJQhqIPlJpEMr/+9ofnP78VYMoQ/iWqMQkOiwgDDBs46Yb9oKCCmTr6ko4Aoh3KWXDEjQxE6BA64lez74UyYMEhBPr+GiZYXIHskSHRqqklhF6+pYRzlbUoG0mCJUx3IBlyNBpDXpUN3GCEJMwiKVY2AMQB2l7dsNDPPHdvfr9UeK5+5seCudvtIpEKodYEMIOmjW3ojG0As+OMVNNpDrRoprgWTW4nSkleZmtyUtAo0YyKRkTQEaKQyA4V+kAyf7e6+9pbl899cWuNrWCC+wzMJz2/ZvsfOwLPAGavxCQuAyfRYyCcU5KSluT4vrCTyAWpBLtfaquGboNAcywb8EzSqtwcSSjgTgxgUJ/YLhT3b3x7887duXz5bICZpmkMGpkGM+ESccHs2GPbsk3LtJyeauyL9eWdaCCSiOT4XEOnK72EaMQFA8GM4hR4f0j9gXi5cXN5+zf/vHTui1sbyRqUkhFVLOzoyvDHCZBHS+/H3vvZAS/ZCDwazBgBNiWZEczEXQo2nUkjNnBxwHKdRLVJ7fMbUXabYir1Vk81gNOOFEuzbdN2dFKqyoQCN6QY03g8tiwHwTx3bx7BrGnac4oAO0kynwRmLOHhEhfawK7iOI6mm2KrF03l7wejQbZAldspSaOrMsNrCGZSzRyqJfvBfONh8Nf/uHjui1ubKY5paCS2DiuqP1GE9gzMLxkaf+DlPBuYIUibhDPFOHkiqCGBD7TxWhcsuNXmFp1e3YvSuVK9I5sWEc4OLC/9YCa80kD3Z5q2G855f6FY3h8MBgjmqZjLo29PIZzzJDB74Zwomb01M4B57BIXYqXl4XDcHSiZci0Qiq1T6WhRYPk+pIlKepxTjwVzQhrEy41vlrb+5833z395O5gRmIYWFxQvPd1/X71CjRhP6/1rBmZvKGYdL77o8JoZwjlxzXySZHYLBpPQw7gASVQwmDw4UCFXl4A5mqsGQtR6hMlXJZkUqRqOR5ZjOkMDJTMgwt3Gum7mCvkb3968e3+xVCmeLTD3ej2fAQy4B8Zjwgc0huRl24Z6jnyjHWGzD3dj0TzH8t2ENIiU2umGeRTMcXHgqdn/ebD5q79fuPDVne2syDTAjh3mZcSzf3bOwOwfjVn/pBE4TjIfgPmtK9/+7t1PptRsiGLCiu0EzOg0QTxHqj2oesP36WqLCOfs/WA0kiyIrZ5hQqEWMCERweYMDUAEqVU8HI41zcgV8je/+/bu/cUpyaxp2lGB7O15fpIZMh2JfoFgRvoBUjPdljUzuQ910rfYDFNrMkKXFcFlB7Rph9XsiADePEog4Zyl1tf3tn7194vvf7WwnZVoSYtycpg/JgLsJDCfdFNn+1/NEXDBDHIVwg3jYM32gfnqjd+995EfzEjejGDGOLAQ1yf2GlASCZFYH5XtpNCL5rmHe8xmNJUtCz1FhwLtpOKcM7JtR0cwE9kMkrlQ3P/u1vd37y/m93OyLKOrCBOZPOge7fyIYD5hzew4DvAVAlMfscWrmtHsKSE2sxFl40We5bsxrgsE12Q4Yjyq2RqumSOEtQ/BHCs2v7639T9vXrr49eJOro6ZpTMwv5o4PJWrfmYwg5OZBHXuVrshrk8ilyBXN1TuYB5lkhjDtpj9QCRBpUuN7kC3wRdLSppaBMyukj0awZq5WC59f/vW4r2FTC59JsDMsuzVq1eXl5dbrdZkOTByRuBhJnoFrPVte9juw2p5PULtJvdjJZEVe0gAFMOno6DEeDUqajFJB0u1CPQDNImwiZdaN5Z2fvm39y98OY+SmZY0z46Nqo4nk4F+TYAHBLZTufezk7xkI4BgRov0IcncUJdi2X9d+QYkczgFxUBdP7MMOY8+TlgiclDwaFFOoQkFN1Xrs3w/KQ4ihTrwhBHhLOuQdmwOIeV3PB7atuuaGo3GhmGVq5U783NzC/OZXLbf76MQVlXVs4QdzUH2cp5/UD7zSQYwBPPKykq73Uaz+3A8IjXyINEC4D0a64ZT78jbUQhhjeRqVLUFlSVEBQboMJjRWIWS+RnA7MF4BuaXDIGneDmnC+YYr1KijgRDDD8A1rpic4vZXwuxVHpf6g2M0cgkVNJILYR+5hcMzMOxMxoPLQfsXn3V2OelxdXgOpWmKnVG6DLSIC4OcB2CxmdQYCYRXRMwA3lQvNS5sbTnXzOjZPZHbuLzdQrJeNpTnASzU70cI/BsYMYq0O5nBQgo9uQzJeo498ASJijxSjtcEAKRZDCWzFclxXTAvwx1nSFjcAyRncOzC+Zr166trq52Oh2/ZAZNezyy7KFmDesdA7v5fgAAIABJREFUOZrILQZ2dyHVsY1VKdDWHxPAC4/5yQjmiDAIC31iAIMIm2PBHBWVGZhfDmg9/6v4IWCe8PsdAnNUBEsYKXaj0HyP4XpMrR1k8qt78Vi60Byo+hCSE0gmlTUF5rmF+bOlZk+BGWOzrdHQGg0NZyjr1j7XWA5G1mOpaFGg+Q6COUqEM1Dz8YQKmwNvE4Z2TYH55sPQlGSeArO3/pkSzs9/osy+8eyPwGEww/RzrdmPXDPTnBf4NYgflswIZpdOiGQHpSQ5nK2u7FBb0URZaiqW5YWQQEEb4L4bGYZRrVbn588SmDFoxJPMpNAl1NSyxyNzPNbskdiV6Vzp3nooXuDpaovmezGhF5UGBwXcBILnE8AcK7ZvLO39z5uX0DVFiZA1dSyY0dPgx/PZn1izX/j8R+CZwXyA5+PATMRSL1rr0HwnJcl0SVqPpQIhKlEst1QFwQxq9gTMpmkimOcXF86KAQzBHAgEOp0OOsRtsN0NrdHYGI26ip6tcLt0ai3EJqpNyBcDMMtRaeBJZkIeApo2SGZpEBFl/5rZD+ZgRsQSfh6YEbqTWFlwGx5tz3+6zL7xLI/A04BZRgJJcDVz0NyZRsCM8pl4VUHNhlld60RrHYprJ4Qey7X2UsW1MB1KpGrNtmaZ9tAia2bIIBwPR5ZhVqvc/PziGQIzTdNXr16dArM1GmqOg2I5lsltRti9VJGpNRNCD5VqyPAmhWagPBcEu4Ix7BFg/tXfL178aiGYEWHUJEi0cKNwCHpnYD7L4Dlrv+1HALOCec5QLLLahgAKvpMS+1RRXIuymzFmnxf7uk7wTPw7tnOGwKzqmqIB526v10sw7PWr11aXV3qdLjJvjsaEi2A0knWrLDW3YtR6LMFUJFZoJ+vAnwR53hgWRyLXyQMPajuiTEaJ7RnAovut/9zf+fXfLxEwC3RdRamOPi2/ZMZnp18yn7VpNPs9Z2EEDoMZ48AGlDBIHVkzs6IM3mYeAjYh4phTYzXScSUzlFUBZ6pn/RFdH0201ksIvQTfDibyKyFqh0pyra5qOsPR2MEqVM7QNq1KpbawcPfO3EIuv/+T+Zn9YGZp5vrVa2vLK/0usHOatjUcA6uIPhy2FC1Vrq6F45tUiqpIDN9iRZDMEJ6OVT+Ik5nhQTc+Cmbw2olqpND8+t72r/9+6f0v57fS/BSYvSgRIBsiitAMzGcBMGf5N3hzzwvnBMaLJwKzfgyYycIQnDKTKitwfkIsmxT7oXxtNZrYiLKFWr2vmJYNAVTD4RiyFSZgvn1nPpsrnCEwB1ZWex0gJzAs0xkNddvSh0Oh09tjkyvh2G66QFfrrNBmhC4UqZhcth94GGEDurfkRtt4YP7qbvB//nbxwhdzCGZ3UU0eBLSoIp6PNWif5Sk1+20/1QicLpg9E483q2EByMusKKckmeVawCgUoqKpfL0j64ZjE5MS1DE2zUqlsri4eHvuzk9pADsqmVeXV7rtDoLZHo/04VC2nKJUD4QigSgVL9YYvpWQ+uiU8i7bW+uC+46Eyz0hmMF3dRjM/ueC1/+ppsvse8/yCJwumN1F30Qy48nJ5BwwQj8lyTuZ8mqYXdujSlxjoFumNYLYTts2DKNcLi8uLt6ZnztzYO602vC8sS1nPNaHw4aiMvulh9uhTSZJ10RcMHseZvQn45W762eMfZ28Rnmof+2p2eBn/nIe85kjooxgRk+9p2l7GPY6OKVm+cxnGVrP/7edLphj9YM1szefUTjHa52ENIiW6ht05v7mHp0pdhVdt4FF27ZtXddLpdLi4uL8/HwulztDavbKw+V2uw2S2bGt8Ui2rWK9uUkzS7vhULZIcw1GaLMNOSb08OI9gHlPMpTMbqIZoTV1wVxsfX1v+1d/v0gSLSCfOS6SEDEeaEY83B7bmYH5+UPl7H/jqYM5Vp9Ys31VkyBauQYWIobrhDKV+8HoDpUUOn3VAt54ywEwF4vFMwpm4mceA8H9cNhUFaZcub8TCsRYqirQXIPmW0y9Hxf7oJaIxAY4eXXxTGSymwLO9w8kc7H11f1jwIx05B6GpyJG/FPKe3D4d876r+wInC6YMfzJdU0dpi6gJAUtYbFSfSXCroXpPFfH+uz20NFNo1gsLCzMzc3dzmbTZ0IyMxSNrqlutzscAZhV2xZ6/Uhu//bG1jqbTojteK0RFzp0HYqke0j2qH9OAnOch9qukWLry3tBv2SOCaBmz8D8yqLxB174qYPZc6bigtElFaprTMuM1PqMpFLV1jqTe7hLscVqWzU0ewQhVZZZKu3Pz9+5c+dWJpN6rmAmzIEWEpqouqbqwCTY6/VYmvni2vXlpYeyLNvOyByCezlb4wIxeiXOhvJVVmjFa40Y36brYOXyiDUhoYIHzpAwLyMyMYrdxfbEaxUutL68u/3rNy9f+s89jABD5557Swg1pyefvQ7eb+/BERXBJThrsxHwOMA89wfR6Z7dNeVZszGf15u9MQlIo2M8pPpS1U60KK2G2W06Xa13SYbzSDP0Uml/YWFuYf5WJp1EMBuGgfnMmNv8Y+UzHwWzruv9bi85AXO/37dIIbyWotGF4tJebD2RiVclRmhHuRYw2tdVBLMfz558xsE9GAsCZkpQQvmmH8yQOEoI/WZgniHz2UbAnTmEMXeSPPvsYPYHJvtnLwGzisXZGX4QrzQD0dRalM1zdXU4NobjgW4UyyUC5jvZiWR+TmDWddMwXMmskc3Q1X6vk6DoL65dX3m42u32LRuqZgmd/i6bvLcd3smVE2KHEdoglkUZlhD8wMsCjQgQlek1HNajEA3lm18sBn/95uUPvrkPTCPiQdU4jOg81gyGt9k7+UwyP9u8fyk/9eOBGYcLz0+JOpDnQNElcMqwfHeDyi7v0Wyh1jNsczSWNb1UKS8szM3P3c7nMs9VMj8WzJ1Oz7LhkVOWmoEodW8vGinxCalLce04YWBB7GHR6oigemCOSVBuBjVk/+zBPXsFF8yXbzzYydVnYPYP0az/DCPw44EZz+yen4R8YgWMhKgmBDmYKj/cpULJvCQr+tgF8zzkQP5EYFZ1TTN0TdNUVfUk8+cQmx3odHqGM5YtJ12pLYeiASodqwKpSLzWArEsQHlb2i3gCEgmzbVsPxrMny1u/frNyx/eXEIw4wJ7MmQHK+Gjj4OZZH6Guf7Sf+TUwYxJflNrZooHzlkMMU4QLt5wQViLJrfiyZLU1kagZpcq5Tt37pwVMPe67STNfHblamBlrdvta9awOVDj2fxKOLaTK8drDRDLtQ5h4TwezEhI4KnK/pnkSWYE879vzMB88OTyD9Ss/1QjcLpgPskAhmBmeIXmBglBoWtdutraYvKBSIItVGRrONCtYqly+/bthbn53MQ19VzXzCiZVbIZutrrtlMMe/3TK6vLgW5PVgy72mjvUEkg7isJjNCFMo61DgayRzkZFxIuRynvrn7dO4ElfIjNGZe4CObQfsuVzN+Amg3UvJx8YJN8pI16Jpmfapa/IgefLpg9A9hRyUxzKoI5Kap0rZsUerup0vIevUMl26ox0K39YvnWrVuL8wvZ9HNfM5umeRTMaTZx5ZNPV1YC3Z4iq1ahVt8IU4EYG6tITB1Y7GNcF0rygBUai6SrjwUzzio/mH/15ge4Zob8qhmYH/kIe0Uw+cyXeUpgdrUkD8yYcYAnh9hsXqNqCuI5Kel0rZ+SlN1sZWknHghR9Z4m61auWPn+1p27C4vPH8y6YRjEz6yquqLqimFovV4nwbCfX//s4cOVRqffljUmX364HdlJ7dN8J0aoCEjOI+EAgVWEgW0CbMIqTijvPb8fYth73S22rt3d+uU/L3/w7VIwD5LZLas5m9CzEXimETgNME/WOyJw43j5zBiSjCI6zqmsZMZqEwr3KuRFQ5w2lX2wHclUhIasFMq1ufnFhbn5bDojyz1NU3RdxVddB76AH8vPjKfGb1K0gaINDEPr97sszXz22WcPl9cabbneUaKp/eXt+G62EuPbUb6Ll+dmR3F6nNMRzBPh7IIZWO8nfj8PxtiZgfmZRdDsg8eOwKmBGakITgYzI1pRDqo7AP9srcfwg1i5sc7k7m7uxbL7fLuXL1Xn5hfn78wdC2aPCn+qQs0plKfBU6OHeaDKA1XWdbXf7zIMgHl5ZV1q9ipSJ0ilVkJMtCjE+DZIZnLBbjnMmvYMYN7Zb6JkvnTzwUwyHzs7ZzufagSeE5gFjRLNKKcQPANdAcMPqGprO126u7kXpBIlsZEvVecX7t65dTuTSstyj0jjA8n8vMEsyz2GYa5f/3xldUOodwq1+lqYXo+lqEodmNBEiPqC8ugT1hVPzZ6SzFHpeC4+SlCmwIylA2YE9081fWcH+0fg+YMZnKkCEPrStXZkn8dlc74mIJhvf3/rJDBPyWQvxtMwjB9ansYyTDydp2YjmK9dA8lcFZuZEr+6Fw8m8vFqHTg3JQXBDCnHxO1GXo04B8ExpIGajauOKe3ae4tg/sU/PkDJPAOzf17O+s8wAs8HzCQ4So8IaogD5tm4SGpNcp1YSVyNJh5uR9Klana/PL9w9/b3t1DNPiqZf0QwmzoawHTPAAZrZpa9eg3WzMVanc0B8TdWk8L4TTTx+ZAMmvZjwezPZ5yB+Rnm6+wjjxiB5wnmqKghmKHCIS8zQj9aqm8y2fube1R6P5nZX1h8cOfWXC6TPWoAO6lK8ymsmQ3NNHULS8hCEJgBprZut8swiavXPlt6GMgWuUiysLQTp0sSXWtjNSkcOAiFEXSsVe+yHPolM4nQ9ghDXGvZJNFiZ795dXFzJpkfMTtn/3qqEXg+YI5JephXYpKOYIbYR65P8z2q2tpLl++u7e1RqTiTXlh8MHd7PpfJ9vtdz5ptGBoxax9fcv10wGxopqIoYAMjYNZ1vdPpMEzi2vUv7z9cS+bKu3TufjCWqLYZrsfWgRIEMzwRzH48e2q2S1YqQqkeVK1nYH6qqTk7+GlH4HmAWZARzPG6EeYhzMkFMydDmcgCf3dtLxhJROKphcWluTt3Myko6Xr6YB6Px5ZlHVO+XTUMzQQc66aiqQNV0Qy9J/fZROr6Z1/dWwrsUanVXXo3VYqV6lA+S4IAr0iNMO/xGgrkOOcunv03AOO0vEXyVGdnv3llYeOX/7x8+buHwTwkWiDa3VvyTJ5G/7fP+q/aCJwumP0cYMg34nqbodK45uUgEFawAUVCR6J5YSOeWdmObu7Gbt+5uzB/P512wYwy+fQl87TKPgGzYViqrrlg7g8YNn31s6/n769uR5Oru8xeukqV21CJC3IqQDJDfvZEx/YWz/4J9LRgPpos6T/brD8bgUePwOmC+figEULC4YHZzcDlAcxJUY2V6juJ/ZXt6Orm3s3v5+fm72UyQOinaRCIpeuAtNNUs9GfjMY0RDWumZGiAMGsaka3JyOYby0sre1Ry3tMKM9DSUsgWAB7NTrNEcP+sBD/cD8DmCEODGn0Z5J5NgJPOQLPB8xe+gDJ/IUSsKROg8zyA6bWjuZqy9vxxeWtr2/cml+4n8nm/WCemLVPac08BWZYJhMDGKrZCGZF1TvdPoL5m+/uLgdjKyE2WpQSUHIZBHKUUyI1eHV1bGD6l92FsQ+NTwtmXF3PwOx/IM76Tz4CPxKYD2I5kS6aCJvJLHXBHOfBQZUQZLrUeBiM3b4X+Pw/388tLnlg9sI5NQ2MU6fjmjoWzIZmqxAxaiqqPlA0RdXbnR6dzFy5/tXnX99+sBEORFOxciMhQbwLMX1B+MtRME9xfWEW5NRS2Xu7XWh4a+btQoORtBmYn3zizo48OgI/EpgPLZhBnkHJyENg5sDcw/CDpDhgK62lnfi3i8tXv/p27t7DdL7Ykw8MYAjpHwvMEJit2R6YVc04AHMi+9HVLz+6/s29QGiDykOql6RFwe4FaVKYUOEulQUs0kUqS02ukxAJAXmQh96pTjBf/3R+/Zf/vPzh98szMB+dmrM9TzsCPx6Y3eDlSQgzgpn8PCKZOTXGyQyvJASZqbVXQuyNhZWPPv/P94sPM4USgpmkMrnpFqcZzjn1YPDADExgRDirmtHu9OJM+oOPr1/8+POF1d3tRInheh6YKVGnRD0uEMoFQUdDNMpVb0XhUm1OaIOmkEwJigfmf99a2dlvsnU4z2zN/LQzeHa8NwLPB8xQUw1qJEKcMko1KCLJyTQ3AMct11mLpv4z9/Dip5/duHMvXSj1B5Ds4IEZDWA/NGvqqGvK0HRD003dMnXH5ejUTVUzVM3odAdROvH+h5+8e/nK/Mr2bqrC8v1jwQzCmUhmLPXmjSygWlKhhPoJ5Sm2chJK5n/fWtktthDMPgVmkoz2lFYQ/w+Y9V+pEfhRwUxJitugsqRP3+S1WE0Bfr+aTNX6Ca6/Hs98Obd07t9Xvr415wczWr+eDsyj8dhrY7KNyDYejmzTQtu4C2NV01UwgIEVTLVUxdQ1W9fsgWJ0e0qMSb5z6cO/n790Z3UrlK/BUwcLoPtMXK40ngR1eRfpn0PezqlOMF//962VX/3rw4/vBFAyUwJEmPg/O+vPRuDJR+CHgxmn6CGlGlVr3yvEbyIQiN03RkqR4yuCeSdZ/nJu6d3Ln3x181Yql+8PZBI0AgR7nhfpBMlskTwLy4Ptf3lIHuG+8fgomC1NB5X6MJg11fLA3O4rEYr914WLf33v/TtrwWhR+D/svYdz20jT4H1/8H1139W97z1xn83rHNY5yZbknK1kyco5MCAyU5QYEEgFRhAA81VPgyOIlLyyLMuJLhQ9AgEQHM4P3dPTQVByUJmaFIKiCf4/Bub5UNIOs5AEE38naurgY7dzZEsPHA/MlmpNzGC8BNIYSYbRm8gJUn7JG33Q9+7s1VsPnr70gG/2J4a5RTIbRkkvlu0wp/NFJyv8fu7CT2cu9M8sstGkqEKoF6rBFGbrSXYoyTwXVG++nvjvMzdRMsPytURMhR29utMDh+qBzwIzj4OW+F+AS5WUXwrEH/aPnr584/6TFyJkGrFgxvAHdME8Sslsh9kwShRmRLqgmel80cHwv5w+++8TZ/pnFvn4hqjm4TlEdGxXIme5c9onD7a2/ZHZol3TPynMd/qnlyKbvAqJxTENmP30TrvTAwfsgWODGXOMoK8IwswpGllb1US54AjLjwfHT126fv/JC08giGo2JrGmavY+68z7qNlNFRv+RzW7Xq+Xy7vmzAZRsxFmQ68gyXqxTGH+6eTpf/5+qm96oQkzZDNDX86jgvn/nr3VNTCzvLYFXqIdyXwoiXTAsf7NH3b8MBOztuUuhTALUt4VUZ8NT524eLXn6bHDjL5fdpjzBQMl88+nLMksJDaJZAaYYc2pWeGSitmWhn3ctLxF/5wLqrfeTP7t3G07zJ05s73rOu0P6oFjgxldOIn3CBSBwCFN7EcFPpFj1lPPR6b/uHCl+8lz0R9AyYxJrKlkpsYwu4g2zQ+UzJbKThalUDI3r7tj00aYnazw65nzP54+PzTv9MjgMcJLBfDfJJo2BlpQMlsa9t+g5S36ZzvMoLd0rNkd4XzYHjhOmHE51i6ZyVqMxidyfHzr5ejsb+cu3Xv8TPD5Kcyaph0TzKZZxplzUStRmH8/d/GXc38OL7p9as6XMnip4I4XOFLh7Uhgvvl6AtXspcgmWrPh9bC/ZefE77wHPi/MvFoUkkVByotS+vX4PMLMe325Qr5YLBSLxcPAbJ8tY9s+Z94jnpk8LhDmogZmba1YwqWpP87/eerKjXGn4JEzHrXIJfIQ80iEJ3YcFbMtDfuoankLF5N5tYjrzH8/f+d239Ty2hbpC+J/0oG50wOH6oHjgRmrneIIx4ouNGqQkXKiXOBim4MzKycuXr3V+5DzeLP5HHH/gipu7zFlk4zXbWr2+2FuD7RA0U9hNvQKwswI3pMXL5+5dmvS7fEqWYQZ/L06MB9qqNkfcJ32p+iBY4aZeDdC/WdUuclr3qNoXGxzaNZx4uLV2/cf8V5fJpdFmGnu+z3XpT4W5ibGmM3PmjObRrWol7eyBVb0nb509fzNrmnW51NzCDNkFOnA3IH5i+yB44QZSAZXZQtmVD9ZGWDm41tv55wn/7yGMKezGeLICbSVSiXTNEslKxkuAkhf9zCA7SeZG41GpVKhANsuATCDRydx6iyZNd2obGULjOA9e+X6n3e6Z/mAP5n3JnUukUcDGI2maFehrW9l+7Hbj0Ev7o6a/Smk0/d8zeOEGfu5BWZGylGYT126fvv+I87jRZhRI0aZfGSSGbV2TNxH0/e1w7yd09y85+yV65fv9s4JwSbMJBtB0zcbimjZHEXsbfuQsu/Hdgdme/902kfVA8cMM8n+ZaXrwExgOGdGyWyHWdc1/GfVPzdNKkrtjQ+QzLVarVQq4eWKhk43C++mZDaNqm5U0AB27uqNK/fuz4uhppoNMNMc9x2Yj2oUdq5zJD1wnDA3P2sXzFh3io9vDc+7EGZW9GRyUDhO07RCAWzaxWLxCCRzrVEvVSBln1W9tckzxmRRp05DrxT1Mkrm89duXu1+0IH5SIZa5yKfugeagEEEQdMoBXNa30ZxlAmevvv0XxduDTt9vJwFDygZqjdC7JBUhOINCWig5vj+qCm0Zjc/awdm2EPqTgHMi+5TV27cvv8IYTYMpLhoV7btMhnbHyCZ641GuVqxVOuSaZRMS9mGpEQaeVqUwHhOYE7ni27Be+H6rWs9jxFm+NrxHJHMpPQMyc7ZrkJb3dGZM9t64FMP4s71sQeagH00zIq2L88KJM9xq+ANQdXsnU+X8qKiCYnt4UX36as37zx4zHm8n9CavcMwyXcP2bKNYsnUDV2DF/hnoprtFnwXb9699eDloifikTMYaIGBENhrJDthawqB/fBu37+4unHz9QSuM6+sbwtJXUwZ8EDtbJ0eOFQPHAHMmGkDP90Ww2wfk3TYWx8HB+tY+4FTNIj5j6ffLbJnr9658+AxK3pyuZxR1NGCjd6Wummgdkzo25HQJcMsGR9UOI4K5CbMplEslwyTIA0zakM3zOo2SObAxZvdtx++WvKueaScoORIgEiemrLpt7J/1XZo99uzEE7deDVuhxmdwOxX67Q7PXDwHjgamEn0AXzoh8PMAszFNpgLXwTMf97qufPo9bJv/dPB/I8LXXf6p1EyW4FTh3oqH/wn7xz5rfbAlwwzGr0+uWQ2dM1Ssw2YoIMCYFS2cppbCFy63Xv3Sd+KP0phhmxmtqWp9mGxnxxu34/rzBRmdOfETCbtl+3s6fTAX/bA8cBMb4Oq2bQmxHsks0m8wIpFYgP7dGr2wWHmEjkIEzlSmDu+2XRwdBof2QOfBWbyoVaBl/1g1jVYjsJVYWKVglqr1MuDTpqPZs5M5tHEDGbAZxhmlUrmrsdvqGQm6Y5yRwXzfChJ58ydQIuPHMed0+mwpGEPZIHqA5emZMgebXXmPnNm2tW04tpfSmYoK2GAdZlK5k8FM0pmNIDBR9pgbpkzc4mcO5GlvfaRBrDZgHL95dg/LnR1DczQOXNHzaZjpdP40B44NslMwxMwEPiLgxmRpnPmzWyhxZotqpCI8AhhnvZJ116M/uNC193BWWcsg+VpOjnAPnQEd46nPfAZYXYlCqTSy97WbJTMGNJ8lGq2panbFqgsmaxrMC0nklk3KhuZvIP1/nmrB5emfErBkyyQhH5HZgCb8cuXnrz9x4Wu3pFFRzSNKdE668x0aHYaH9oDxwYzfpDttVkUVS16VJ2Nbb9bZM9d68J15mw2D/kzTRO9wCzltwkgnTBDTNWHrjN/EMwXb3aj0wiF+QgNYB2YP3Swdo5/fw8cG8x0pon3Q9VsrgnzyAJDnUay2TyUmiAw06Up6rt1HDBvZgsO1nv++t3rPc8WxFWvnEfJ3IH5/eOp8+5n7IHPBTN6gEHptd0wo292LgdOI+BoSdaljk8y2+fMDtZ77lrX1XtP5vgQhfkI15k7kvkzjvtv8qOPB2a0fu3uQHDnbIH5zJXb+8EMTpbHoGbbYXZyvrNX71y5+3iWC3rlvDeldebMu3/Cjhv5l9UDnwVmwjYp7Eoks6gU2dj28Lz79OVbmJwgn9eIN5aVAwxE9LHBrOlF3ahsZgsu3n/myu1Ldx7OsAEqmTtqdofnL7YHjgdm/Pp0XdYOMzqNIMynLt3EtEH5vKZrxLeSJPT7tDDbPcDAek5g3sppLt5/+vKti7fuTzN+j5TzJKEuVgfmL3Yod27s2GC2PogEEbwfZsHnR5jphPkTwgzTcZtvNlrPdYOk2uW9py/fuHCzd8rtwxBIdyLrlo/MA6wzZ+7gd7Q9cMwwo3BmkjBbbm6aIGsomU9eBsks+PyFQkHXACyILiYJg45MzW5PWULjOSCvL3yiXigU0pmci/ec+vPKyT9vjK/wkDYoCYkU3HIOvNggPltzKQW3BK7aaKm3QimIQxxk5JV1gWztIRbocDcbUP58PPTPi3d7hhdW1rcxMRgcTPIeHu3P3Lna99ADh4RZhjotmGlkVy+hOyeKX1uuO+QWEXCrmlMtuJSiU9YcEtSH8CYNdn1rYHbljz+v3r7/UAhAeRrDKGoapMIvlQzTBKSbZWTsK1OwFm2SAs003f3/2C87p1U4ri2ZWAvMRhFgzuSyK27ut7MXfj3757tFxqukPUnQsRklDwwTkp1yvgPzrp+/E7z5WXvg+GF2JQFmp1p0qkWXUuSTujdpuCMbfdNLAPPDR2IQqkDaYTYMK+hiF8fkjyOAGS+KXuCwuq0bmqZlctllF/vLiTP/OXH27ZzTI29TmJ0y8OxSCn8JM8rndsmMe94jmTuEdHrgED1wvDDrblV3JWFDmN2qLiR1j6o7w8lXY3O/X7zS9fhpC8ymqR8TzJgxCGHO5nMuN//rybM//HFmcGZFlLYIzFlGye8JM0v1EJua3Q4zZlp7P8yH+BU7p3R6YMcrS/7AHGAfomanF4HxAAAgAElEQVSTQCCdUw0mCZsdZlbRebUoKsWVoPJ8ZPr3i1egcFwgkM3nqGQ+bphLBjiRZvM5hhV/P33+PyfODkwvk5KuWVZ+H8w4niyA7Ug3OaexaR2YO+x9ih741JIZBzBxDim1w8zIRV4tehXdSWA+cela77OXvN9PYSZpM49FMqOyja7eCLObEU6cvfjTqfP9UwtsNCmqWUHJMUrWbgBDg57dJ2Y/mK2OaObN59Xifmr2p/iZO9f8Hnrgk8JMBzCrmKxiYsJdKpldCti0ebXoUw1XCIqtn7py4+HLN9QAViwW7DC3T5ixEtXHGsDs1y2ZeskEV5VsPudmhNMXLv927lL/1IIrIgsKJOhk1V3W7HaY0da3C2kimWlfoFh+D8x0OR5U90655s9qUvq6HgHHBrNbNZub7lLA9IUwiwrA7AjIT99Onr568/HrfoSZWK81Mlu2JLMdOto+AgMYXgKvaIeZYfnzl6+dvHSlf2rBuZoQ5C0IaVbIOnOyiAbtY4C5w/PXRdRnvNujhZlLkgSdzaUplEbEB5uSDPIZSXZLkENfkDWfUlz2JZ70j52+fOPJm4EWmEnFOLBmt68QH0YyI7R7XgvWvkhUs67r6WyGFzxXb3Wdv3ZzYHLeGYohzEIS4pnZlM4QninMWIGd/JCwgI5phC0p3Zwzo0ymr9M+6eKjwfZ15s84Gjof/VX3wNHCzCiwEGu/JitDBgJGNlAsWxg3E+KTpNlFj1SYYUOP3rw7e/XWo1d9vlA4r4GCrYPjSIGUgwRfDlrelYpl2iiXywddZz4gzJlMRhC9t+71Xr59d2Byftm/xiU2BCkNMKsFJlnswPxVj/tv8ubt4H1AeZp9rNn7wcwqJpMsMclSE2YSbSIXeKngUTRPPDPjDj7pH/vz1r1nrwc8geAHwfxhc+a9YC6RQlOQcAwls1HUMxmQzF29D2903x+YnF/whJlYkotviSnQPRBmlwJ1anBm+zGSGTONUA+wb3Kcdb7UMfTA0cJsJcFvqtmoURJl04KZ2MDAFRK+mpznJSjOLES3p1ze52/Hr/fcf9k/JPoDeY0KZJg2N0u7UUm8q/GpYOZ48e79R10PnwxOzc0JfjaqcvEtIVlglDx156Qw4yof+cEOqmZPeRMXHw3+6897998tOaLpDszHMNy/7Y84NpiJmg1OI0CyWoDoIzkvSHmfUuDXNyaXhVfDk3cePH49OCz6fXkN1pkJwxbM9qALO8o4l/5INXtvyczx4r37j+4/fzUytzTLepl1hY1t4lIzjglGBj8wt6qhyo1ty2RP7HukvpZOJ8ktDYT535e6KczNh9+XFSX7bQPwLX2744GZkQ2XYriUolU+TiGFIKWMKOf8qsatpcYX2dcjE3cfPekbHvYGA7lCltqxEenPALMoeu/df/C0b3Bi2TXp5B3hOBNLsok0eGiDJQCiLEDTblq294TZre4L86QnfvHR4L8vdT8YXXbGMrzaLKjZWYzp9MCheuBYYNYY2XDKYMRGsQyhR1KGkzJeteBP5t1haWyB6Rud6nn6vH9kxBcKZvMZusL8OWDWtUwm4/X6u3p634yMzTHC6JJ70b/GxlOCkmEkWGruwPwtybRv47t8JpgzjJTh5axXzXmV7Io/OrrgHJqce/DiFcKcyaWpHfs9MKOO/fFzZktvh+hHMJpDIGQmkxG9njvdPQNjE0u8ODzvWPSuColN3wYEQiLJ6KTtTllrzk3JDNVrm4Y+mD+3aNf0T5TMP1zu6Ujmb4Olz/4tjgFmkgraGt5MssglNfCJJDD71Jw3sbXkWX0373g3M//0Vd/gyDtvMJDJbB8fzKYOCXtRj9c0TdOLhlFKZzMen/dOd8/I5CTjC8wxwtgyIyQ2fMk8m0i7E1lXIgcwJ3VXynCniMc5mT/jL9pcZwbHN/AG22upedITP9v75j9Xeh9PON3RjCBrXCLPd1y+DqVhfnaQvoQb+HiYdw9UKG2ze4+GMGP6Pj4J/puMlOMIzKKUZlblSSc/6+bnnMyLvsH+t8OgZmezkCmAlKfB1085ZyaZRiyYi4ZG8iCkMznBI97r6X43MSmGI8uC592ii42qHiXLJtKueAZhhuCvpI4bSmY06JNuheX1Q8DcyYP/JYDxNd7D8cDcFFSQWJdTNIRZkNKilF7xrY0tuhZY3iF4+4aH+98Oe3zezwAz6tgagdkwSplMThCEnvu9I+MTqzGJCYSG5x3u1YQgpZn4NpXMDkVbUTQHQRrWq4hLCSxEN31lGNk4iGR2raepZO7A/DWC9CXc87HBTDyxYc3FDjMf35rjAiNzK06vnw+u9o+MvBkcojA357A75ePsi1LYPoqlKSKZ22Hmeb73wf3RsYmYkvKux0YWnMv+NT6xzcXTjJRjZUhOQGF2JWH13A4zqalVZGTLRt2urkx64ufu9/3nSu+jcQfCzEuFjpr9JVDxld7DMcDMKhpdlCIwwyIzn8gIiW1uTZ1yecbmnZ7VdV94/c3gUF//YCAUzOVy6L+Jr1Tf/rQwGwbo2KT6pAEeYATmd6Pj8sZ2SFLGlpk5IchLm3wiw8p5jnwrh6w7ZMi0gGawHZgVyCjUVEisZ1gLzwjzj1fvPxp3oNMIpi74SkdS57Y/ew98Cpjpl8KLk/hfyC6Cjl9kUl0QpCzCPOkUJ5eYUFwOrsXfDA71DwyFw2E7zCh793PMPkrJDElAdZPCLAhCb2/v6NiEupWJbmzNsMKEi4fAZjknyAWOLLW5FMOpgPXLnSrCnJmq2UoeU/9haTxUSFpgnhBj5+73dWCmw6XT+Mge+HQwU5IhYRaMdgOjBsHxS8kBEYlNdlWacnAzy0xUTkVi0uDQ8ODgYCgUOlaYcUUbdYCibhahQDNIZlEUu7u7JyanN9I5JZ1zeIMjC07nquRVC6KiIcxu1XSpJgnRhmSdLgx4ViAhSRNmEmXVtNDaebbDjNk50Tn0I3/RzunfbQ8cFcxWB9qycx4E5mVvZMrBLbNeZTOzFpctmAOWmk3nzHR6/EnU7PfDPD09u5nJJrN5JhgZnFla8Ud9CsCM4WAUZpKdcBfMGD7WMrD2hPnh2EoH5paO6vx5iB44NpidSR0TWqJkBlN2bGPK5ZleYXhfaDunRWOJ/v7BoYHBcDCE1mwrYSYhmCbQbuH5KNRs4gWOS2GoZus6OI0IPNvTc29ycnJzK53RjEBMmSDTZi66LSoarxZdiYJLMdzJkks1HTCFBphhDb25udQ87CGRVVYkBkkbhJ6buM7807UHjyecy+vbnSQEhxi+nVPsPXBsMLtSBsIsJIvu2JYgpd2riSkHN73CxNXNTEGPxhLDw+/63/SFiGRGaHH1F1MJ7JlQ4BPCLArc/d7uqamp7XS2YFbWU5uzbnGWDzBrmxC3qepuKQ/hIwRmzBtMYIbUQpBdSMkeBOYfr97vwGwfkZ32oXvg+GAmkplR8hDen9jyyNvOUGzKwS2xQiqdz+ulaDQ+NDTc9/pN0B/I5XKfB2ZdN8FZpahn0yCZ7/d2T05ObqezermmpHMrQnDK5XGHFUHKQ4V4RXOrENtpTZuVIpkzF5BkhNmpgO8n/jzQIJJZVCDBCkpmO8wYs3Ho37Jz4nfeAx8Ps70DMW0QrVyBueLRAAbLNyT4kVfzvJz2yNvL3sjkCsv4gjm9rJdr0Wh8YGDoM0tmhNnUjVwmK/Bsb8+9ibHx7XTWrDa2iyYfWh9f4Ze8UTa27SHuL6yi02kz8ceGaGeqZjuV3EFgfkTU7JZURPZu7bQ7PXCQHjhymDn0niDFmNB8jTCvyDkCc45TcqKyzcWS87x/eoXxRqLFck0v19aj8cHBt4P9A+EgWLOPWzJD8UfTsMPs5UHNnhyfyGbzlWpDK9XC8eS0Q5xhA86ICgZtRWNkyEuIq1NOWSOyl4R3Emu2U7Yy5uOi3J6S+T9X7z8cdyyvb9thhiObBvBOo9MDB+yB44HZqRZX5JxLAQ2UlbOisu0Kx6fd4gIjrkqqUW0US9X1aHxg8O3g4GAwCNbs44a5UNTaYX7QfW98dCybzZYrNb3SSGxkF3n/uFNYCiYEKcuRtEEIM+QkkEjpKZJ1AfMn/SXMZ3pe/3Cl9+G4YzEKMLtTRaflCmolJDrgr9g5rNMDR17RYj81G+IRsMqanOXlLC9tzouhGRfHBiLydrZUa2hmaT0a7x8YGhgY8Pl8nxNmqDtJ1Gwvz/Xe7Rofe5fL5UrlqlFtbOZNJrg+ssTM+6JcHLIUkGkzBmrvghnDLeg0Yz/JfKbn9b8v9zwYW+nA3KHx43vgaCWzOwlOUDRDFpivoUYc1HyEnVKeJTBzsdSES5x2ssG4uqUZ5XqjYJjRWKJvoH9gYMDv9x83zLquUclMYfaIfE/33Ynx0UKhUCpXy/VGvlzzR+Xhede8N8LGNnk5C3n8kgamCnLKsDrVoiFDUqGmztyiZk+IMQozVbPxCtavYtO0OwtXHz/Wv/krHA/MkC0opUOhcjkryhk2mhxdYmdc3Lq6kTfKlUZDM41oPNY30P8Z1GzQrk2DhlxiI5vN8jzf3Q3W7K2trWq9VoW7LMVSm/OsOLLEOMIJUc5wSsGVyLEp4gdGlqnAHoalOpIQI8ZAhiR7UGiBVzVe1TilMOmJneh69tO1B0+n3I71LJ803RJMwu2OJVa7U7HZ9lz75pk89Bc8JMxSkZUMJqGzUjNxFfH9YpQ8l9TABibnHDKss1LLNrdhOOJpXs2LcmYlFJtwcCueQDKbL5RKlUZDN41oNDow0Dc40BcKgmS23CtJVPOeK8w4qT6Cdeb9YBYEobubrDNvb1frtVqjXiyZyXTa5Q+PLTNL3jU2timqeVciB6lFwK+z7EpVXKrpVAxSXMvAADFWhlioZoqvXTCfvPscYV5Zy/CK4Y4X3HE7+WBjw4jIjmQ+9BD/fk48AphJIg3oMRXWZXC26JZhUcYOM5PS3Im0oGS4xMaCJzztFsXIerqg6+VKncAci60jzMEAzJm/CJjv3bs3NTWVTqcrtWqlVjUq5ayuhxLJSSc/5fY5wrII2czybkkjriNld3IHZkwYhGK5HWZWzk96YnaYwdk7lnfFIB6rZft+hmPnm35MD3wczFBfBmPvrXtA+UwSV+JUEVen3EnwdOSUHC+nnWvyhItfEnzrqc2CWSnV6hTmwcH+wYG+Lwjmu3fvTk1NZTKZSq1aqpTNakWvVpWMtsj7x5a5eW+ET6CmXWBTZZdcciolWKYiktme/asFZk6BKNAJMXry7vOfrz98Ns2Amv1eyfwxv3Hn3O+kB44GZhm8oWAjwhnXaOwwMynI+yWmNCa+ueBbG150ugOrm4WiUW2U640vGubJyclMJlOuVoySaVYrpUYjY5S5cGxsmZthA+z6lqho7niBTZlOWScpSHfBjNp1C8w4Zx7j1050Pfv5+sPnM6wzlhGSOpMgT8eOZO7MkA/VA0cLMxZpIWH5BayaRoqoFfhUkZWz3pTmiEgTjPfdossblbJm2awBzLVGXdf1WCw2SP7hOvMXoWZ3dXW1wGzW61q1EVE25xjPhEt0hGVPsuBO5DjVcEuaQyoiz5iWgCPxGPsZwEa5yImuZ7/cePRyjncncmKKJBjaK/vfdyJYOl/zI3vgU8DcXItp1kKUC0KyCOWN5cyCb210hZvlxNjmdr5cLdXq1VqjXrdgHiD/7PHMaFr+PAYwURTv3r07OTmZTqfL1YpZLqGaXaw1UnnD5Y9MOIRFz7pXLTCxDCw4S7A5ZUi1y8hFYpougOHKsmaDas0plgGMV7UWmD0bkMeTV4ymqWxn5vyRv3Hn9O+kBw4J867CcZAc2qpeqoId12rLoDaC5igXSDaCDBPdmOYDIwtOIRLbNkqFSg1grtfq9bphGLFYrL8f1pm/IJjv3YMQSIQZ58zFEqgT+XLNE4lPOLg5PuRTc0x8u5lM28qQBG6eCSh5AX45Etq0dmAWkkUK8683H7+aF9yJHMIMPO+Yvnes2d/JcOx8zY/pgaOFeYdk1WClIi61QJq6RMYjb7si8hTjfTe/HFFTer1RrFRKNRDMjUaDwtzf3/+lwMzzfE9Pz8TERCaTqTcapUq5VKvq5RLRtOuJ7cwC55njAkuBqCBlRUWDSa9ccMbBuI1atytR4FQDYcblZfvrKBf5487TX248fDW/o2YLqtliyu4k6/yY8f1dnXsImAUSycdKRbTXUIAtgdwUzrjUwsRgnPvUHLsmz/KBKZfg8oeldFav1I0KLPeAO0a1appmLBZ7+/Ztf3//cftm77fOjE4jFOZytVKu18xqpdxomPX6ZqHIhVZnGM+cEPTIGUHJWd6dkuZKYE1qkppTNZqrU+ArgqYvVLbbYWalIq/A6nTL9l2NyM6XPXQPHC3M4L9EYIbxnIAxyUsFUc7x8Q0ukphlvXOMEEzI20VDL1fMas0OczQa/RJhHh8fT6fTtUa9XK1UGvVSrVpp1MuNhlaqrqsbC5xvwiHw8S1ByrLxrJAssormjGfdkoZ+I/CEgznzzlSZJDSE2LEWmIUkHNk+Ye5I5kMP7u/txMPBDJrzXpKZkYt8EvREVzzLxnMetehRizDOI4o7FJ1jPE5PMJXTjCp4RpYAj0qtVqtWy6apR6PRoaGhL0gyQxL8np4WmMv1Wpm4dhqV6mahyIfWx5aZFX+Ui29xUgZhBp8womkTXQVsBhRmTE3KKbtgfjnHuRO5DszfG3tH/n2PFmZW0WkBGjaeFdW8Ry3yiW33amJJ8M27hUA0oZWq4L9plHTT+GpgrtZrpUoZJXO5Wqo2Gnq5UjArUXV7xiWMrwgrIQmDInGRHfWTZoSzHWbAuB1mF0h1vWkq66jZnQrVh+mBo4UZ15mJOVYDQaVA0VZR2nIG1qaW3UucV97OGtVGqVaHmMKSWalU6vWqXTL3DfRjEvzji2feb84siiIawFrV7BqsjevlUrFS2Szo7sDq0KxjigugcGYg932BT5qsomMcFUpmu0zeE2ZSg2sPX86Omn3kEuxbveCRwgxPExcJ2heSBV4GT2yPkuViqSUhMLnsEEKRbNE0qzWzCmEL5WqlWi3X69VarVIqQaDF0NDQFwQzqtnUAAbz+0ajXK/VG7VaowrGsHo9Y5TXUttjy9w7h+BYVTgpg7YrNAZaBamJmt0CM6/mR7nwH3ce/3z9wcs5zhXP8mrRnYCqNy3Wrw7M3yp7R/69jgpmjI7i1CLCjIm+RDUtyFtLgfVpJ+sQvHF1s1iGtWX0x8bZcqNRq9erOzD3DwZDq8caz7yfZEaYJycns9lsvdGABfEGeKs1GjDLhz2NRq5U2TZKy2JwdIVb8K3xiYyX2LHA0K/onGrA0hRY/8FdhGyWjt2B+ciHcueCh4a5ZWkKYRY2dEbJE5KzbGLLm4QYqSlGnFha8a1F0wXdqIGOCgGFNfAVqVbLCHO5bDYNYMcOM1XoafFYwzCy2SyFOZfL1Wq1RgNc1RrNf3Xyh1Gp5o1yfGN71s3PMB42oviUgiDlYfYLZn2TkQFmGk2GMWUI9igX+e3WY1xndsbSsGqVyHFEOLfI584w7fTAQXoAYQZVjuh34K1FNt9GcZQJnup68s/zN4edPsj1o2qwkkpkjFXOgcTSN5dgIKMG1GpVwN8LJsxQsXVrJRSfdPLzDJfY2tSrVb0KnhfVeqVWqxAxV22AD1ilWinF1qODg4MDA0MhIpnbfbP3dOo8gnjm98M8MTHxHpirtYZerW5mC0wA0iCt+NaE6CasxUkFeNoByR8GMw/ZWKyMvFTfPsgP2Tmm0wOHgxnjCJpFDkGdxJ60HJxIOhGPnGHW1XkhPOnkxcjaplYoNWpGpVytV+qNWn0vmIcGAOZgEArHUcRoLYvPBnM2m7VL5nq9StQJENO1Rr3UaBTMSlhWFzjPDONzBGIeJS8qxP1NAtfW/STzO3b1t1swZ341z6Nk5qV8B+YOk4fugX1hThmj7vB+ktkOMybAojCD6JbA7iVK6UVPZMIhzrNeaStdrJQqjTqFGQVyo74jmZtq9h4eYAj2Fwdzg8BcrtcgyDmd5YJrk05+jg+JUtqjaGw8x0pFa6mZhIZSZRvVbArzyzmuA/OhR3DnRNoDh4IZjDtULFOYOUgLX+DlrCClfWqGX09OuTzgH7Ua3daLZh0MwAgzKtggnPeCORCwKlqYponlaT4bzN3d3ePj43tK5lqNrKoRHxKzXk/r5qqSnGfFKZfHFZEhaUEiJyo0WxBMY+z6M68W37GR3249+fn6w5dzvDOWgTLrzalOZ85MB2incfAeOBDMjgAogDtzZkg755asDLMINlQgJjCLat6r5rxK2hmITq6wS0IgvpUulEpkqgz+m9ZsGTRUSyxbc+ZYDJemfAErO6dpmvZCkJ9BMrfAjMo2foFaDeb98CXIjEGvVtVMjglCPqQFT9gVUQUp61WLxAIBTiDtMI9ya+0wtxzWXOg6jAvBwQdB58hvowc+BmYM3YUKLWAJA+9jQcl5lKxXSXPrygLnm3Px3rXElmYYlSoGSNUadRRpSDKiUK9VymUItGiBuVQqIcz4+tlgzmQyTYzBBI8wV6tl+CaNWrVOfLYbjaxZjiQ3ljyhadZHQqnSXjUHigqxKBIP2AIvFQRZE2RdVIxRNvrbzWc/X3v8clZ0RNMomTswfxtcfZZvYcEsW3k2d6zZOGe+8+yf524P75LM4NTAyEWHBOH36BwBMBPRDUbvxLYQTa341qadvNsXVtI5TPRFZDKs78CqFPiMgFi2TNnVarlchkwjb4fe9Pd5/VYS/C8UZjSAUZgrtTJxIKkajcaGVuRXo1MuYdG7KiQ2vUoaMnjKOUEGjHGjMI9xsd9vPacw26V3R83+LDB87R96WJgNO8yuRI6RciJJo8vFUvyasiQEZp1cKC4Xy+DvZbk2g/MmWWKGVVvCMzFrgz9nuRyN74LZNM0vFGZcGUfPtWq9Uq1DWLZZr+qNeq5STWxnXH6w4DuC0YAKBfJEOedRNEHKc/EsIVnjpaKoGONs9I+bz36/8bRv3ruyvk1hZtpWp6zazofKC/W1D9DO/R+8BxBmMLtKYH+BIDyiCXqT+qg7fLrr+b/O32mXzJxaYmSD5NKAquNCUocg50SaT2yT2fLa5Iqb8QU3s4VSrVGtQWB/uQye2CCTaySFH6zrULBJcoJEfPDtUN/AG3/QVygUDMNAA1ix+e9LUbPr9SrdEGZ4VkFoZMNoNLY03R9LLPLeBSHAryk+aVtMZCnMTflcFGR9jFn//cbT32887V/wOaJpa3rctJPZhXMH5oMP6O/5yMPBjKZskvQKfBx4VRPVvCClhcSmezUxz3rnGS60Hs8V9WoN/L0qlRLZ3gdzNB4bGBrsG3gTCPkRZsOAOhO6rttLrqNlm75+WqcRNIC1zJnB92vnH3jAVOuVcqNSbtTNRqNQqSW2M0wwMuXmFoSAGE+JUtor51Ey8/G8kCjwcU1IFEfdawjzwKIffbOpcLaTDDs7W6cHDtAD74f51K45syW6Yc5McsKCj5OU5xJ5QS54lLxHyfLxjRnOP7nCssFwcjtrVKoAc7WKMFvTzKZPJAKBpiXDMKLRtf7+N4OD/aFQAGGmGNtt2hRjul5lmma5XEY3y3q9/j+aDpc7/1P0yuUyPa3lQu3labCixfj4+PthBn0btA8w8YFbTLWR1s2wrM4xwpSDc4finvi2Tyl4FI1P5Owwv3NFfrv+5PcbTweXAhjPTF2+WhodmDs9cJAeOCDMYMEh66AoMyCLiAyJMSDJbALsOwCznHGHpUknv8CI6+oG2r1qtVqlAtFRuBFTNjg4U76wYZrm2trq69cvh4YGwuGgpml2R2lst9BHqTxumMF6V7e+AH4ThNkyg1UbWrWezGtMMDzjAuHMraleJetTCmIiKybyHqnAx/N8PP/OFfn12uPfbzweXPI1YcZgjE48c0cZOUwP7IKZzJztc2YqmWF5hYQDIcw49eMSeSaW5RPEvhPPMOupOT40y3o9kfhmQdcrdTB9gVjeF2aL6mqtZJiR1dCrl89HhofWImG7ZMbJM7pqt/P8WdRsgNn+D2GuNOqYi9eoNrJmZS254fQEp1wC5CGJbXrlvEfKeWXNK2tE0waYf7n66LfrjwaXfGQxAHxuyNaB+TBD+SCy69s+5i9h/tf5OyPOoB1msnwFyb0IzBlBykPFpfXUgm9t0ikywXVpO6+VqkalXoY5MvCMHhZUzaZimcJcNkur4eDzZ09G3w1TmFsE8pdjAGuHuQ7x2STdH0STVOqFSn1LN4NxdY7xzLJ+VyghJMAS5pU1n1Jsh9mdsAJZSIKhHb+xjtPIt43f0X6798OM1mw7zLhuwgPAEOrHJ3LkNbMSkiYY3zwfXFW3s6W6UW2YVZhJ4qqy5S5FnKaaJKOuCoH+NZDcldVw8NnTx2OjI2uRcD6fbxfIXxDMdrGMHtroClYGszakHYV0KvVGMltweUMTS9yyb51fTwqJba+c9ylFUYYHIZHMD3699nBwyQvJAGEhAbPkd2DuSObD9MD+MEOgxZ4wQ5wjmScTnsETG3KJeNfGV1guHEvmdKPRwLozGNKPocuU5/1gDocCT588QpgxaorSizp2qVT6QtTs5lfY/X+1apnCKqRRKtezuaKkbi3zgWmH6AxExdiGT81x8bQHkopkBx2BHy73/Hz94dCyj4lliAkRbInvN1/TGrm0cbRP987Vvt4esGBuhtCSdWZYBPUmS+9c4dNdL/557s6wIygqkGcTIufjWRZim60MBKKcERKbC57grFtkAqHEZjpbNCH9QIMk+qrVsZTU7lFvLS83IQcXyVKptLq6+uLFi7dv366vrxcKBYx8pDy3Y/zZDGAtX8b2JwjsOskqhK+6bqYzBe9qfN7tmWf8TDjhk7bBRY4k2R5yBv9zpfeXGw8HVgBm4lsCCk8H5q8Xp8975++FOXLm7ksKs5d4hnBShpeznJJjlcvludgAACAASURBVLQnmYOsQL7IpIt1eHyhuJTOF4qlMmTJqkNFuApJrVNps13bxj+A/Y3ATHVvNHc3Go1qta4bFXUry/hXpxzcsjciRFOwgidDZYBhd/jHq/d/ufEIYUYX7o5k/rw8fNWfvhfMEAtAJLMF89uVANmji5DUPs/LIJxZJe3bKLDx1LhTmFxx+6LxZDavl6HeMs4fyQIOiOgKKUCDQ92OMbYRZtM0V1dXnz9//hVL5uaSFTEDWMtXjUq1kdPLa/LmEuddEgLOUMynQgU9T7IwwoR/uvbg15uPB1bAaQRStMgkvuq97gFUu6aNr3r8dW7+CHvg/TCf7nrxj7O3h5b9XAIyYCPMmENXVNOisr0chLACpy8kbaW1ctmskhTxdXDGpjBjNSkqtywLdhPrdpjX1ta+SjWbWO2hdDzY9JpbpVovlqoZzfStxZY47wzj49ZUyKik5t+xqz9ff/DLzccDjoAznoUgUlrn+r08H+HP37nUt9QD7TDjSrKYLA27IifvvvjbudsDK37i1AClCzH9gKhmPWp6ORibYrwufzi6sZUtmkalqpcr5SpZj4JQ3ypRt0HptpPcIqIpzOFw+Pnz50NDQ18rzPhNiD8JwAx+npVapVIzSxWjUle3MowvOLHMLAgh95oiSOlRJvjTtfsgmR0BV8KqZ83IzeQkHZ47PfCBPfB+mE/de/mPC12DjoAV4Ugqn0F9VmWbjarTrG/SyQfi0nbRKJbKRqVslEwoukzye1GSvxeYm7qG9T+6y5TL5XK1YlSqWrm8rqaWOO/EMrPki7DR5IjL/+PV3l9vPh4kMHNqya2aLmWnKK6VcugDf9FPIGp2avZiyOtRv37oMsyXdj8fev+f4njMNge1CjFYivr5c4ompoxhd/jE3Rd/v9A15AwwUq5ZjTQvKBk2qi55QnOMhw1E5O1swaxAIbhyqVwuQ51WgNm+7ZLMLWO+XTJHIpGvUs3G+UNzYd3yfYMeqUHxjmqjkTdNbyQ6Nr8yx/mYiDTi8Px05d7vNx4NOYOkNlXJrZQJzFANo7l9ih/+Q69Jb+YTNb72+/nQ+/8Ux+/AbLlnNpPbUJj/6Hr+94t3hpwBdyJL8uyCHVtUoHbUjItziAFciyoYplkumeWS5YNdM+uNMvJMrNpWFETLbBmp/nJh5nn+3r179hxgGBTS8jTa809Eukr+VSqlcrVEarXXtjTdsxZd4DyLYnBwwf379Z6Tt5/CNAYKzZWcEkpmgBkT6OMrCltUoiClPknRxCd1ToWik25SEAfDJBkZKrzjMfQsK6WTWsTqQZDeiWztMrz9dHqM/Sy8E6yqhR9H74026P3gHnoz9P7pzdO39rwgvQF6Zfud0E/B74h/0uvgveGf9HT8jvvdtv1d2m/0Du0X+cs2/Yj2r2D/gfZ89y8vjlcgh4E0tm92mNHHS0gZw8zq6d5X/33u5ltXkFfzgpITlAwT33REErNucZHh/evxNPHBLtXqIH4MA+N8d4tlFNHWrBlHfsu0uV6vm6YZiUSeP38+ODj4pawz0/rMbQn99uR31047zGAXrIJ8LtdrxUpF2krz4ciS4Hs9ufDjxRt/3HjwdsXPKZpns8Iny27JSpVo/3noT0uHqX000HdbGq5EjtSjzNOz7IObDjU6fO0ktFxqzz+RRnzL/hH2K9MTKXW4h47g9+xvQQj/hJoptu9l7wd6Dy23RO/hEzXs38Xeph9n33mQNj3xYI1dJGNaAvC1bkpm8L5OGcNs+Lc7T/5+8dYoF+blNKkdte2ISDOif57hfOG1jUxer1ZLNawaBQEV+8C8o2Z/TTDTWlO5XA5rWdgrWuxv07NSF1B/dJx4kGAM8N8uVirxjS2XL/ByZPKH05dO3OgddQUgukU1WanoiOV2Y2zZw0Ac2X4eW70bENT7bZxaRAGOxFriq+khRAr87biOQmUDUosDX2k2Mrrfncjhhgfg/TBS3p3IueLZnQ0q2oJ20LIhbPTZsfMn5KmxUv/jh7bfgP1m6P3QnXgPlqcx5spI6ntWum6JLd3vT/tttNwbvmU/kd5GS8N+DFQqV6Gr97ur/faTa0LpieZm5Xjd+SzMK2J/bf6+0FFKHkrMpIrDbPhE17N/Xrz9zu1j4ikuscHE1Hnv6gwnsv5gcmsbBHIDZDLm96LpNzBJFiQG2tm+Qslsh5kq2O0Mt+2Br419gTyTtGdg3K/USDkPMnkOJ+RXw+P/+uPsH1e6xt1+j6KJShHWmWXdGc8743lXooCZXDBbIoBhI42RIFGTtRHV2i6XKCeIkyuRc8azjljGGc86CXUUS3uDPizoKKTjD4fazgAibmr0MHoiHoDqgE0P3KEaHzqMXEDpikfS6+DpSCZ9atA8DfSpQW+GEsLKBXyUuHc/F/AUev0Pati/LN4D3dNyHfq70AOwgYfRNnamkNRbTqffon1/cw/G0rVG1FkfZ8cY22So4LuMknfLOQJz8EzPi7+dvza4zHKJlChtLgUjU4zoCASljQ3NNLBcMS4pY85NyrMNY0T664S5u7t7YmKiRc1uo5fusD+9gGeEGTN4koWqcqliYq9t5fOTiys/n77w67lr7xZZbyILcc7g8q41U+fbps2KlayX/vBojcSQSVwwbIZPQtoXbAtJWEtsPtGtRzsWEOIUqGVHN6wFT//EZ4Q7kcWN7scGI+XoW4yUs79L38L9eBt2JQI/iH46/on3SXfSC9JvRD8Xr8/KedqAjLBJCB2lZx1FA6RfEyQrHNUipyn07O/up0fgMfRE22+3r3y2X9bWPijMnKzDpkB6TfwKCLMAHkrB03cf//3s5REnL8gpJhqf4fkZlgsmpLypV2plyEtZLSG31nJUc+JIx3e9YfP/avp14rvNY+H/L3HObM80UoVyrrsKx9FvaGu0wkyT/lVqUJUHsgtVwRhmVivFkukNRc5dvfGfE+dfDk8LaxsBpeCRcv6UwStQO5JPmnzStMxg+8CMSNtpwaFMKUIsWRmSnlNm6Lv2gyHzU0rHzY4Hhb+5mAFPCsTJTizd6U5kWwjH2+NVjd4MpZQ+kugF6bkUe+TWFc/Yr4w76cF4upjSW74jfpClv1BFptnYD3sKJ8WJAkkb9C27VmLfiW16vP3psJ9GbT/dfuLu+9xDzbYYRpKbMOOzg1ULIJnV/AjrP3nn/r//vDbq5pdDqzM8P8txwtpaMp8zqmalZqJbiKVF4tqyDVCL2O8ZZmvaXAcdGyUz8myWDaNSXo3Hr3bd+9tPv1/tfvRukV30rC95447VjcXw1sJqej68OR/eXFjdWoxsr6xlHOtZRzRNt5X1LUd02x1NM7GMK57BYW0f96ycRwAoA1R84RC300sZFlO6Z8NAKoRkETdEDtsU+JZj7O9Sxuz0IswUbDvGuwcr6AuU9hbIkXD7uXZQ7Q+U/XQH+2fRT2lr7EoOsZurNpbaZDWdm9jhfD/z7eTTDyUydkeHovuh0VSwbTCbnAzGAnx2wFMjqVGYz9x79M8LV/oXVsYZbpJhhGhULRQKIF3A3YsuPtXqpaaCvYtmFMv2rBz49rcvme1zZmhDXHelVNFrtUoVQsSMcrW0Fo/d6e39X3/7x//96Zfz1+9e73l2tff5nWfDVx6/vfh4GLdLT99dezlx6/V018BMz/BC99u57rfz3QMz3QMzPYOzD4YXHr1bej7pej7DvJ7lXsyyT6dcTyadz6bdL2bZ/mXvoMP/1hV86woOOQODDv+gA17fsatj/NqkJzbtS8z4pRm/NO1LTHnj077EbECeD6kLYWUplFwIK8vh1FJkY3E1hdtSZGN5bROfI85Y2hHddkS3V9a3cI/9mcJI8HyhrwTCPHkQgPz3bBTJI0PDWQA+CIRkkT4gcKaAVAtJONi7aXo3TXzQIMx0NoFKh/0ZRA94f4N+7p4NIj9R30aVGzFGQ93er+ShgHMc+GoEUetcbBPTXW7P/eQpg5MFqKVKtAPrdfezZudBA5VGWx4lRCwTmOGB2JxnQZDjKOM/c/fhf/1+9sXY9JSbcQeDqUJeb9S1sgkCpqIDww3wEkFNmzR2knvRjLo2PXQnc1bLmvMXrWYfcM5se47RJrFsQwAZpi0wa1WzWjOIS5iRTEkzc9N3uu9dvHbtzMXLP544/eOJ039cvPnLld6frz3+9cbTX248+uXGo19vQp6w364/PHHryR+3Hv5+49EfNx6cuPmQbqduPz5x+9HJW49O3nl86s6z013PT95+euLWk7P3Xp3uenHqzvNTd56f7npx5u7LM3dfn7n78lz3q3Pdr873vsTtwv1XuJ3tfn6+9+WfD99cedJ349nbGy+Gbr0Yufly5MaL4ZsvR26/Hu3qG783MNkzNN37dub+8GzP0DRuvW9nHozMPR5bfDqx/HzKQTZovJheeTXrfjPv7l/kB5f5wWVxaEV46/C+dYhDKx5sj7j8Y2xojA2Nc+FxLjzBr9q3ac/6nD8+H0jM+eOzvth8ILEQlGZ9sTl/fDEkO9ZS7tgWE99m4tvu2JZjLbUSSeJOXs56kgVPsgDJ3NW8J1nwpjRvSrPvsb+F+wUFKpDgwb6UAcerRThMISeSV9wDIW7gcQH7vUkdPoscKcjwiR61iOfCZZvHwA00j/RtFMmzCXQfEk6s8SrqIzkuqXFJsD9zyTxp7zwdQJlSNExiAQFPiRy8ShgDD/NqYrvOuhNpIZXjFNCuGSnjim76N/VxJnDiRvf/+enk08FRNhjeyOQ1s2SWKiSnF+TPbYofsqjagGAp3Ozi104yBfgrk8wfCTNJKFSq10y61apGrWqYJS21Ia+uhf1B36LD+ebt28cvXj9+M/R6ytU3L/YveF7Mck+n3E8mXU/GVh4ML9zrn743MNk9ONU7ON0zMNXTN3n31djt5yPXnw5dezJ49fEAbE/eXn3y9srjoUsPByjMJ28/O3n7BW4nbj395eqDn6/0/nj57g9/3vnXhVv/PH8Ttx/+vPPDn3f+c/HWfy7e+uHCTbrRA/514da/Ltz698Xb/754G4681IUbnkhf/3PpNm4//HkLt39fvPnvizd/vHznpytddKN/nup6cubes3M9Ly7cf3XxwWvcLtx/deXJwNWng9efv8VHyZ03Y11943f7J+72T+Az5cHI3JPxpWeTK7i9nHG9nHG9mnX3LXBDK54Rl/+dO/DOHRhjQ6NMcJQJjrGhCX51UohMe9ZnvNEpcW1KXJsUIpNCZEpcw4fFYkimz45ZX4w+OJZX1aWwsryq4vPCsZai22JIXokkXdFNNpHmpAzd2EQa90DEK3mmEFeNHD4yIPCQxBJzCoCH7AHSyTyr5lg1R2DO86mCZ8OgeodHLXqSBV9Soxs+pMSUJqY0YUPjN3J8Mssn04y8LW7kA1tFUc541dzQInfiSte/fj8/tehKJLf0Mpi8YDEZrLSQTIPKH6C5STIES5F/Fsa7LWD2t6zjyH/fgmRueW6RP8EkVquXQIeplRr18q6tUalUjVLFLFXMTEGLxOIOjptcdrhCMp8ASxhNB+GKZ5yxNCq0zlgaEkTEs0w07YxsroRTyyFlKSgvBJSFgLIYVBeD6lxQmQ3IM355ypuY9MQnxNiUANskH5/koxNibFxYH+UiI0x42B0adodw0A+teAaWhL4F7tWs+/mU49nkytOJ5acTy9h4PLb4YGSu9+1Mz9B09+DUvYHJ269Hcbv16t2NF8NXnw5eftx/6VEfCvzzvS/P9bw42/389N2nJ++A7vDz1e6fr3b/dOUebfx4+e5/LnXZnxH/vnibPl/+ce7G385c++9TV/771JW/nbn297PX/3bm2v89fRX3/NfJy//nxKX/OnkZG//nxKX//fvF//37xf//twst2//389n/+dOZ//nTmf/16/n/Onn5H+du4MPopyv38Ab+c6nrx8t3f73e+8ethyfvPL5AVBX6LS4+eH35cf/Vp4NUN+kenMLt3sDkvYFJfKa8mHa+nmP6Frg38+zrOeb1HPNmnu1b4AaXxWGnb5QJjhPVY5wLj/Gro1x4lAtPiGvTvth8SF4IK4ur6nxIngtKsyFpLiwvRNTl6IYzse2S0u5EmmofbGxbkLIeJe9L5v2pgj9V8G3A5tkseLc03MSNvHdL8yRzvo1CeNvwb+T8cnpwZuWXs1d/PHmB80eyxVK10UCYAd3dMEPRmQ7M+8FsebS2kFwHf9dK1TBKeqkC/mEFw4wrKusPLXlWmVXIzutPFX1JolklQSuDJUrL8QBM0/CQVoseRYPa7qScFWh04DKByhu410OpEbJ5VJ1spkeFPXTCiSYlqoh6klCSl02k3bEtV3QTN5YMJld007GWWgoriyF5ISgtBCVHUzqtRJLLqyqVaTPe6Iw3imJtxhud9qxTATgpRFA2ojyEkc2G3jq8g8ti/yL/eo55Neum2/Mpx+OxRdTn8fHR1Td+583YvYHJO2/Gbr4cwcfHnw/fIH74KLn44PXZ7uenusiU5OaDP249PHH70R+3Hv524/5vN+7/er0Xt1+u9fx05Z59+/HyXWR7P9Xjn+dvomLyA1Fh6HMHHzR/P3sdN/rnP87d+NeFWz/8eefHy3d/vtr9y7Ue66Nv3P/lxv1fbz74/fajU/eene19ee7+q/MPXp+7/+rc/VdnH7w6/+jNxSf9l58PXXs1cuPN6N3+ia6+cdzu9U30DEz1Dk7eH5p6ODzzcHjmwQhs90dnH4zNPRibezg+/3zW0b/Ivp5zvZlzTHD+lVCMCSdejkyeunTz9J/Xw1GpYJSrtYZhlrHEDIWZas4dmPdiuYGLVTtBJwg2vmKyUngy1qpYjCuTzUflJONfWxFXHf4oSUsCkyKwiMgFcaPMpsBtG11BiPHDmjLhPIpkKYF1ZmA1CT7b1BPLbimh3guEc1iLbtl2W1zAjoKmFHpY+x76lr3RbljCd9HWJaZ2nimsnHcnsqiAUEOaK55xRLeX1zYXV1PzIRW3hXAS98wFFbTbTXpiuE1541Pe+IQYHeUiw+7QkDPw1hUcdodGmDBub13BgRXf6wXhxSz7fIZ5Mcu+nONezfOvF4SXc9yzaffjCcfDseXekYX77xYfjC49HFt+MLp0/91iz/D8vaHZO/1Td/qnugam6YZ7br2ZuPl6/PrL0avPRy4/fXv56dsrz4avPh+58mwY//zz8eDFRwMXHvbjdv5BH22cu//mTM+r090vYet9darnJW4nu1+c7H5B2qDanL77+EwXbKduPzx568EfN3p/v97z6/XuX693/3LtHt1+vnH35xvdZ+49OX0XjrzQ/eTJ8OSkk2f8q+PzS68HR171D6mb6aJulis1o2TCwKtWEWY6fFEy18EOBiLarkvDKrPNnG1/yzqO/Pctq9ktruqU52q1TBaiYepSrsKmG6V0vrguJd2+8DzrdQaiHjnjTwFL4JOswOaUNacMZTibPmFghsGUQ8QiCssY6Cpg91u2w0zXUckCBlpQLTcMXFVCcU2xbGF7vz/RqowWaSr50SKNp9AL4pEU9ZYL0sPwXFydogtsdMEc9+NXbrkCvkVswuDT4oyladAfpxTwqWFft8MlPbTPr6xvLa9tLq9tLkU27NviagonL7MBeTYgzwUV+nyZCyr0rWlfArcZv0QfLmP82jt2FWc09tchZ6BvyfNqnn8xy8LzZc7ans0yT6ZdjyYdDydWHowvP4bJzuKzySXYxhcfj80/HJ7rfYuq/sS9gfG7/WNdfaNdfaO3+t7d6nt38+Xb608Hrj95c+vpm8eDo4NTc25vwL+6Hl6Ph8KRom6iJogwlypl8KGo2RglwHZgpk832gDJXG9UyIZZGlodS4BkCBy1CmSWK7XNTD60Hl/hPfOs1xGIQcJt4n3tlDWHrDtk3akWmaTBEMKJ4o0GT8ASxqVsbS6l4FYtt20U5vZXGhJEg5Dsbpj2d+lDAd2q0TnUGc9SB1KU/+iqidEX1G2TfiJGd9FT6GfRA1oa9mvagzFYRRNSBjqc453zSZ36n7dcBO+cfkEaGYK3gfvtbu30gvZvgf7t9FPoMbiHT+qsovFJXdwwPZslccMUN0whZeBN0gZe0LpUqsiTjUtqrGq5T6MHNe4npmx4y3pXyqC1DDJpotkMvFbBi8adgBm1K77tjG05YqmVaNK5nlwJyyshadm3Pu32zjq5JVaIK2qhqGEBJoivJ/VlSiWjUquSUMfqnkEHdmFLB7S98T1K5lqjTDZYbcZFPHylS/NYwgfSGBCqG41GvlCMxCTgmfEvBaJsbBvkTNJwqaZTMZyK4VKKbhWGEVBn1cEgMBPHekbJs2rBKeddCoRh4BBvx4Oi1dLA4ymc70eCavL0LHD/bgY20QeB/elgD9tEGOhjgkJO4W/hk94q/Qi3lLd7erd8TfwWbimPd8XIBQon7RZ6TdxDY0vxnu0Y087EBn40fiK9LH0Q2Ptt1yPDxjCX1IQNXdjQKcbtDaLCwOyJVWH9CV5VeBzAYyWp8aC4FYRkATPmCkrGp+YCSkZYVxd5P+MLRuJyXivoulYy9UajVi4ZuBBVLptQuaFaqVY7MNufUfu2gV4SL2UVl9vVxjhJ67WC7mJgWyQlM4HnuOwQQ7N8YNEfc65twaABgWyAiJYKbhWdt61kTqhau+Uco+RdKtmUgotsTnln8tzCxl/9ieF1ECNNtxZycL/9OvRI+06kyD7Q8d32Z4F93NM2ykN8bbks/ZMeTJGjbx284Zby778O/Xb0zu3Ht7Ttn0tPtO+0P+yourHHRRSIQnMpELJCFC4ddK6UCb8s2kdkWM3i1Tyb2OLWVIcnMu/2uMTguqRmtWKpZJhGoVLW62WjXivVa1biAYyRskvg/dp7DvDvUzLvRXIDHof4j+C8A3OjCokMSqVSrmiuKSmHNzzHhxYDkjuadiVynFoUUiU+CZYwK6AKvOpBFKOPAasWEGaavpMq2y2jpOXPlkFG/gSY6WH0ADousUH3/2WDXsouqO1n2Q9ovzi+az/e3rafa9+/X5t+C3qA/QotTwSEHI+031jLYXgAvQ69cnvgp/2tg7TJc5kYTdSiK6m7krpD0VxJoBrUGTkH68zJgns9teRZXeYDnD8SlVPpfEHTi6apVytGvaI3qhbMIDNIjH2ltjMOm+Nxj/87MJPCNTuqNXQImgPx1W4tbKrc4DGGMEMGlkYjb5RDieSSZ3WaD8551x1rKVLCBnz6wCitGBgiA5o2eA5Zc7AWyYxPdDpi6FDDBhV6zf2QgMat7mzN/ftOv1uuTP+0ix37oG/53P2Op7BRGYhHttzPnn/ar9lyOr0IvT7dY7+U/QqIIr5r39++Z7+vjGfRT6QN+9XoTmzgW6wC9k60fbrIDAvnWQ7VcKpFd8oAQS1BII2o5h1rqXkvyGTBH5FS2wWjTHLcgGwA18OKUauaKJmbUQNWGl1qtUaOwc7T3Kw9hObdxuxv2p1zr6eXfZLcCrO9a+wwkx63HpylWj2nl1fljSXP6pTbNytGHKtJy4Mvkecl4JksNQHJoGBLWWci41Ry7mTBIeWcch43OlBcCVjlopt9+Dbb+8JMz2pvNM/dN02CHeb203FPy0XoYS37D/gnPd3e2PNc+wEHadthazm+/fotB1AR3b6/fQ9ejZFxIcNwga3EQCOoQ9HcKQOUL0KyJ1lYCcuTbHCOC7C+VTm5jT5e5XIZ4hnr1VoVeKaeSxRmuqRsF8eUZAjMt1U8tY9YuiiNw95++je9NGXrA2y2vzYNY7AiXauWMb0BGB5rUEYgp5cjyqY7sDbD+GbYELu+5VOKbDTrimQE4luPYTcMMfM4YhmHlHMpBaeSs0S0CotVuMGk2pbWo0WS0LHYLpn3G2r0lIM38FL0+fKXJ1LdARt/eXzLAfhxdCe9Gt1zkAdN+9dv2WO/Wvt92g9uillrrZEYMndlSrSnmmnmdYQD6NqkQyo4pIJTJubPRI6Jbq2EpGnGP8v6xdWEkkrrRqkOPkmVUsnKlduswGqlwWkKD1iR2q0hEnpRLNvGrUXsrmXm71My7+6UdpLJGh/KcIC5UjbR3oj+JJVqXS9X8kY5lkyLq4k5LjjLhZ1BRYjnvJIhSjoTy1I+0b6Kdmxr5pwsuJNgAqWrIPbYWvsQtLfbYba/+/52+1B+//HH+S4lGXMb7vcs2xPvA94n/Yj9jrf3LbaRWE61siwjzG5Jww0mUyRWmZGLbgm0blC8yXoBOPMkMgu+6ITTM8P4xDVJSecMs0rWn6qknLK1ENWkt2pfSWlBFKVrqwKJB5HX3QP5e4bZtiy/F8+4Ck1grpToakGlUjFKplEyS7V6tlhKZfVAbGOBDU65QyvBpBgvipLOxjFWDuLy7BIAJTMuU1GS3XKOLmXRBpqj9hp8KDHepzy3n3VAmP9y0Ldf+Uj2fK7PpTe/J8zNNKzQ4a0wN9O/UV0GlgbQ+yW6uRyMzYuhZTHoj8qprK6ZFahGWilVK6VaFXRsNHRZ4tdGpgVt046z6x37ALW90YGZVOehvUO6hv5layDMIJ/JQxSekvhkJZl6K6TwT6NgVjdypYiSWRbWRhc9M8waF8141SI4coIjAdmauXhxjQplsl0yU4Zpg46ztsYnhLntsz7skfHxp7dQTZ+DH3/l91+hHWbUtKlkpjyjnx+sLRN3IOrTJig5j5JnohuTrH98hV/xhFbljYxRBnf/ar1SKjeqlXoNVDxYTIbiMrCe3IIihRntsjZmm3y3ndCyY0eSN1MI4Z5vdc68q4sO9geW3YOVKuKpA96zkNCgVjerDb3S0KqNrFFbU9MOcXXaIU65PI6wzMW3vGpBlHMQI0Fyd7kk8NCiIhflM5q7wTWauJrAECHuJdQSDsxbjig7QfD2oWlf7tqvbT/+e26jIaPlFZxhyEpBc+ZsuFXTrZpMssQkS8TEZbkDoakMHjHkNyI+p2lByfmSeSGx6QjE5ty+RdbH+SOJ5BYYrmuQmAosXtVyowKvQlexuAAAIABJREFUdsmM/v9Y/82mIx5sSO5zVAfmfTrGvrtebdRBQSI8WzBXa1AjxKw1jGqjUKlvazCFFoLri7yXeJWssxFFSGx7FAid5WUIWgAfbCKlYVgQZxK3nHNJWG6S+BIRmCnPlgzvwEx64OMfQy0Y4597wuxSTTeBGTlHR12ct4PXgJTlUwUxpXHSNhPdcEXkZW9k1i06eL9/NZrazhZLYCgtQ65r+FevVVAy18kQglFEKjnSYo4dmCH3t91Mb6fviNsAM1gdCc/gUYI/RqXRKDcAZr1SN2uAtLyd9a4loFCQEFwQQq5QwqukAxuaVy1wJHEPOJOQDYnF9G40daN9jk0GmdbiXkLH38eP7M4VaA/slswgh92qziQNbBBjGMw44Ccj6dCIS3ZaUDJcfGvRvz7p9ky7vQ5vOBxPptJ5o1KHgUGioMplCN0BmMkQghUpFAmANUTmdSTz+AEzjRwd0nTmbHnnoPUCl6kqhOdSDcDWSrWNfDEYVx3e4JSDm2F8jmCUi6U8kFyiwCYgWgg3mB43vUowuTSkmCNu2+hT0YGZwnZUDZyEt19tT5ibO4kJkyS7xh8O0hgpWV7adK8pi/71KcY77Ra5cCyaSmc0s1iulWp1rNholg1r/akGwhk3agDrwCx0d3fba00dk2RuOo3R5QSYnNisEhUMxSKhlaV6Y7torKsbXHDNIQaWhMCyN8KtK/5kVpBgisXLWZJYDyNvIKyK+I1goQwwnGLMBg4m8toqn9uHY2fPQXoA5zjtlgU8F/djZBu2relxU5nCHEOinOHjG9y6suSLTLmERd4fiCnJTDFbLOmVepl4aoHIrYEAqNUg3QWVzDtqNql5hpL56ETOd7c0dbiuwzVnqywGWRiE62CIabUObp644US60mgUy7XtfHFd3XD7wrNucZb1OoJRIbEpyhmPkrUhnXPFM0S7tgoUtZEMvr4tyvZBBm7nmP16gMLMJIu4YbQJ3Y/BMOjSwyk5Vobfi+R+yQlSmoulHP71Wbc4ucI6vMGIsrmRL2qlWqnWKNVI8gAYDDBUyDipQMXGpo6NkzWMmcfJGllZOdyY3OOsjgFsj07ZbxfpLGuVH9f6UWsivxy47lheJVCSrmFWa2lNW5dUl8c/42Dht/dHmIgkJDZBREtQK4xI6RykYpXA/YDEaYCIdqvgXWQTzrgiRV//etHIbuzZb1h/BfuJa83H3ycFlTYsklMakwLHWzrloev/jJSBtH5qRlAy+AjmpU3nqrTgCS9wnlkn5/aEEpvpglktliDPtZU8oGnigoHRrL1KFTqbfwgMJay3ut9gO8T+Dswf0GntMNt+HhKSQRTyeh1sG2j30MuV5HbWs7q+yHomll1znM8VjrPRJCItyhlYolR1gDkOtaxIUBRA24EZGP40MFOZzG4U2Q0IQrbDzOI8SN5mlTQvbwnylihtColNJiLNCcF3i655F7sak2GGXKrq5VqViFcsB4VpBqhMrtbMao0sLDdT5zbBJop4DTytP2D8/dWhHZj/qof2ft9SvBFmux4FbZwsVUpo5CiWyhuZ/JqSYgKhRd47w3gWvavu1QSzrvLxDa+aE+QCG8+5oxl3IgfphJorMS1B+UQbBM5xLNLD9mxYdm+Sk33PAz7rTlQxWvWLXZ5qiPGhYG5qNBp2FJXGbtXaA/uJTMZXDDzGdAKQYVdOs4ktqMwobfLSBhtVnaH1OSE47RYXxSAbWkskt7ayBcQYktETGYvLyFbgBKxawtZEd+dB33z6I3fW695D7MP3dmD+8D6DM3bDDL7xsHzV3CDDvpUekFTl1MxSRjOS2XwwITu8MCxmGM+CJ+xeTQiJTa9a8CV1r1rkEjniCgo1FsCaTTIQ2CON0RUJR+f7afyy1ey9Yd71jZowg19N8+l2wAYuLFHxyySLlGecD4OVK1lAkiE3iJoXkrBu7EkCyZy0KSjbHnWblzaWgpFp1jPl5uYYj8MbDCWSqZyWK5qGWYbMuDVYSoYfmmw0BMqWZA7GCUW6SXJrxPLhhmD7WR2Y2/vk4HtsSO+QTMoRWB4m5XIZ0rWVKmWjUjVqtaxZlrYy4mpsjhHGlhnysA+LsS2/qgWIj757fZtNpDGtJ2bYQ/MMXVYhiQStjCV0jGKjPUqhKesQnoO/fjA/B8SseZj9Tto+q4nxTnaHg8FMvUGbkhkjwDUKMH469cmhmb04JSco1txYkLd4aUOQNz3KhiO4NrrsHJyam2O4UCKp5gppvaSVqqVyvQIJ62uQVapEHLxAHavshplgDPjW7dlsmmADd1Zg48GH218d2YH5r3rofe/bYLYJZ7qiWC6bhlE0jKIJQekVo1JFP5PNgh6ISw4xMOvkJpaZBSHsCslCdFNIbEO2QDknyjlOynhJPu0WTxJW2RmdLTDTBeomM8AJVc7tsXt/1W4D7GA42T/3ve29YcYHFnWn+VCYqQpjh5mSjNnX4BiSpotm8CMkg5lakNKisi3Im0xUWgpG5kXf2IprxsWwwXB8YytjlIvlmkEWn0rlahk2kua6SozVqFSTBEBQL6VBfEXqMJvuwGwYhoG5C3Vdx0Y2m6UlXY/daeR9QFvvWT7voG+TrEPEUaxarZD8YaCJQW33KvHormmlak4vqZl8IJpwiIE5l3fO7V8WVpmwJEZTnvi2KKVFOUP8usG1G0vAkqpuUBUd0huoBadacCU13JBqTHtgrayQgK0mUXZ4DtL+MJgtCHeHiLWrCc2b0fZ6lMAnUpjtPIOTHFmce8/rrsVhWHCynLco1fjReEs0mgUTGEM1GbXgkTNCYhOWncLxeTEw6ebGHU53ILSqqFuarlerRqVuVEhenxpJIletN5eKwRuEZhqAtCHEWRCTXZNgnT0ksz3ZgLWqeYAh9peHdCTzX3bRwQ6gMMN0Gv5hzzZ/WjCBgP5ds4I0ynXwA00X9PjGti8CeQJnHOK0Q1xgAyu+dX49GUgVvCoUQ8Poq2a+axjx74GZCiJ78o294Hk/0nvDvB+0++230bvrghhRuPvVFivaTNtgmbL/Cmb6lSnSzZAJK9mASyEpzUkaUJDMJOYJ+9Ob1AMbukfOMOvqUiA6xfnHndyEi132+b3ReKqgZUtmsVLRy5VK1bI7V2ERqgE68v9r70q82ja2fv/11+/1vX5N0qRZmwTwAuS1TdKCgZCSAGG1rdXywhLAmyzZBu+WZXnlnTtXGoQXHjSkgZY59wzDSJZGM/rpzty5C0mWalejd51sqR5YOgimG0l8H0wA01COlyTSvgHz+bB6wbOsITRRbRlpoIIQ+CoBMHc6ertda3aKppFGYkOILDOBD3zEG4kKsTQx0gCNhQDxyUwc4oNXV79S9qcrTKbKZIA5I5cGRk38clMuzaTKlrctUyPlNH7OqLRBq4/f9kN3OGiHXaf/1rYzLTBTZyx2uNrL+KTgwsVyxoRHGVVjiKcu022ABWYMqo4+nszojXJZTOR9u/JqaG+Z31riw6tihN+Lxo/yxWa7YDRqoL1FIoaib3rzk22CGda9KCuxxNcE0sRqwAbm9vEx8WoPeDaVSfA6g8D8KZtVN2C+IEzPcfqgMTpZXZsWlcSIsgXDfNwgppT5in4AoXD2N4TQChdcYkPeSJQ7UEKpwlamEklD0Cnk0kyq7FPLjGpOttl0lVErjApOuXH3hU9rrFL5U8GMppqWwSad1vYjn9aIKWSYJtuk9RTDtGAHsL1MZtHgW4+CGfy6QCeA6IvMR0BkAO5TIb4X2SyQC5JcDKukP+W8f1ddCe4vcZFFJrgqRgJ7iYNMLlPRSs22DqpboPlTbzXB9hgZM4C3AxA+4aXmeFowtuZlNjAT5MKM+8RPO/3Y04L1Xv3VwKzrev+auVwuX+k1szUY//OvuS1pmV61OzDIAOnOcbXezJW1ZPpQ2t1f5YQlP7/IBNalXTGqRORcRM6heAw8BKYrQlbjM+DEF3NGKaHTZroLbcGjhn7nMBeUuqgaFpmTbdBUwR1pkls/BG5pgof4/abaUcRvGQSasSb/VRLhoWLlpmWYZcEPHlfoVpl1o0pQwWgBmnUaOBinRJ2lwQMSc1FsFZ1CEyU58FguKHUpY0gZA+YdMsQJwuU38ZcKUf7gI5gsBJI5KZkLJLKhxKEUT7M78RUhvMTCd9MnbQV3YzE1l6/oaCnR7B7DuNClkrVksrO+voE2YdxX/+dV2JuHZVQyMwxjb2/v5cuXc3NzBwcH1WpV13WDpHq9TgsgqTqd8FATnCxA6na7X/U/De2cZrOJPzcMg17nbDAvLi5eRQFY/0MOqqFdTIVknQ4JzNsmhuytTr3V1ozGYbGCkPZKoRVGhBcutMvtJoIxUB2DkCgQMbgqqCUa+wYdgOKcE/wHyjDHRgEvWNurTbS5t2CMeD4BM0IFJed2vjoQzGgMKCoQVZzsopkBjVGTmULaWp1WEcwYHy8AgbgwFhfkKI6iZqEUzOiVhf5LnTRYYDZdCHBqnU+BdYqYAgooupSuhdQaRFFP1wLJAh87CiSOQqnCtlLYVvNSNOWL7K0JwSU//4EV2a2P2wk5lc0fFquVWtNoA4YBxh2I4AbSaJOh0hcWF8wnfHnQIH+xOmwl3p6+ad1u1w7maDTaA2bEM0WfvfC5wIzSbJfL9dcDMwT+IwG1LcvX48bxca3VypQqsexRcD+6KYaXfeIyE9gQd3ywnM5Kcn4ro21nqyGImVAAReJMhVeKvFJmVSDk2HwGRcHgOuM0nTLZRVVwIijC1axtBYtrZsIzqUQKNo1ICB4EMw1ZflIgIMejuEYNKlpIBZjZCjphzjYPKmRecMLDVc3+cbHMIU4UXUUVQoiAb2O1HgKqSakqBsoOpkpAyWJILu2o5XAyL+yl/FvRNSG86BNWGJGLAIzlfPGoqmuNDsKYqHOBsBoZGgq3cFXcj5MvBtnhN+5vJOXM+/v7L1++fPPmzUAw2wFsL9+AeXhnkyP0k0mZMy6TusfHKO4G9bFOt97pGN2u1u7mND2qZqWdqE/aWmWDSz7pAxNeEbZ9kagUy4SVfFDJodmGoOQFtSSoJS5dItNUzCuWmrdBFpOYDwYz8j37NNss28CMaswYVtKMXAtKF6eJgFlKQYBbi6qEIQNbDqn1oKIHFV1Cdqpq4OxS1YC1grT5FNFtdpwv0N2mQLouKDUzGi75Umxl9LCqSYkCYDhViMgF2ORL5AIH6kZwb9ELW/rLPt4biOzE5UypWmm2NeJYAnaPW51mi/jrAhVc+LbCMFlGyMTa6YpyY/vbNgzMjUZjf3//1atXb968icVi/Zy5Xq/jdNiOZDoD/6RpNl7Rvs+s6/pfgzNj1/fgmco8zL2rDu5It5tdwHOtBW59i1pdLZR34yoX2l3xBd6tcgsr7BoXEXeToWQ2nDwKyIeSkguki2KmKKQLjFJglBybKQlZcLtPxNoY1wai21l7tgBpLgNRLJFIdBUz3LS1Ru3VNqO6GYAu4KW4VC5ZgRFPFsw4ebYWyeZkG0Erpupiqi7IuiCDkYmYAue1mCPOaY5yMkSyff6Pl0XHiWIiL8nFLbW6k6ntqOVtpQQdcqD6t6If+Mh7L7/oE1bZgLhzsBOXlXypTBS5aq1WvQ1i6CYBcLvdNd38EDeaFMlojUzHyA6eq1b+FDD3wBj/vQTOfAaYv5BzgksetR4wm3yA1KIRpWl0BUompqoJsak8Lmn1bK4ci6XD21GGD6/7xVU2sBHY8kX22I8x7iAlyBlJyUmZQiBbEDN5Ll3g0gVcV4PKhE3aDCGRIIqdCWMKZgibROKhgaMy0NZAg+pTeQ+oiAuOIjriwIDSNtkYsFmKZxBKqYBhWOgSJBMwA7ApURgj65aQXROhtKnZCsHuKwEZDFTCagVIKUbkQihxGIpnpWiajcQ2xB3Yt/cHVtngphgOfYzH0oe5cq2sgwsBo93Rm61ag+jlYXxzUL8lfU/0cHuQjJz56uN5GJgNw7BPsyuVSq1Ws0upBiL583JmSZIQzMViEQJSE+ukM3CGz3Z1cmwqlWbTabYpZbHcjKEZnWWnATZY7W6n2W5BmKImKCHVtEa5pKcz+e2PMTYQXmelNU5aF0Nrga21yK53J8ZGAdUB5ZBPHbLJDPJMssoFH9249BXUCqyurR1au0oZ3Z4ls24IocSlDQA5yTF+LZ7DKqY1CHwvbIEpTXEaKIGCjA2dxZ9Ya6d0TmkIKRspdRCzE0gHUwaQNQ+HqTgRhlvysyrO24OpkiQXwWViMh+MZ/mPsje8vyHurIuRVTb4wR/Y4MKB7YN9OZsuVsp6k2AYt5raEDaV+N9C38nEUsIAI3Qyr7asZSwJBtlJpm+RTR3IrKNvID3nTy70NIC+Zvim9QvAEMx2AA8D9mfkzMPATFHRU/iT+/Sct8NGojIg5sRlial+gOolaBwLSmOgAmy02016cSIpg31Oo9GpVOtHRO4d3o/5guFlhlvwsW83/Qt+YVXa8u/FhHhKSKSJ1XQxlC4hocyZSMJBYIYyMy5dYdMQjpRPQ3haQjUmVTMDKZGY8jQYNcSXBzKDORC3CichZm1LblM5hE9pnAzW2nxKE1WDVQDMKGAXlSYK2AUFOLaYqkkyXVFXgS3LFTFZppoeYVWDXWKlspUuB6JZDjB8sC5sL/mkd+vs4ia/xoDbgO39eDKdz5VrWr1ttGHbr95q424T7guTngePq6CSRXSqUSWTQpr6+rELwHAUcATpiHzxwoXAfHBwUC6XNU3rAfNAPF8CmOkmmE6SYRi6rlcqFbrPXCgUMMQELs2/eG9+agPaHVBFsMQtpNAAKVjbsBFY58AhS/UbXBS1YcZYMYxcWVPyxY/JlLR3wIS3vIHIhhBaE4KrvLQqRtbCexs7MeYgJSazIC0jFkLgQCNdQmATMXiRVU1hOE6/YdcnbXDpJqs2kLDMKAaj6OZREmX+DMUywplhGwywSra4A2nijzptWC6pDSFTR3fzGHOPzK6rgURZkstBuRpWNQgqkIK9YuLXNu3bTXgj0c3I/oqw9YGVlvziGif5pC1xa3/rQI7K6Wyhki9rlVoTHGVau01g9GDpYFKjRWK6aO9kWia9bWlZn3N8e3gJ/fecP7+U0yiwaaHT6dRqtf39/devX6MArFarUXEXFhC0dnhj+ZLBjBN3XdfL5bIoiqOjo+/evUMwHx8fk5h6ZNFj53TXrQxIHgTm427TRpaxNNH9NtlLt0MsdEzNUK3RLtWMbKEsZ4724qlAZHeDEd6v+edWffOb7DtGXAlE1iP7vt04d5DiowoXUwHeaj6cKQaz4CJHUPK8XLBsJMDdLPqCJ6iGzWpAoAKu4clGlxm3xdT9Bo0u2OwVFNjvhcoUuECSVIjYFFBAqQOEXoppCIFiOdPSi2xK9bBfAHA8L8ZyfDTD7Cn+7fhm+GAtsLvIBN9viu+9/AojbQghIbK3HUvG0ofpXClf0St12C5ukB1icOWDHvZAkZIqdVjaeMRuETS3TvUz9rnpXJmoUveibNj7RdF7zsKw61y0vud2tLmGYSDPq9frCOa3b9/G4/FqtUqlyxTV/Ui+tDUzMn1k0Y1Go1arlUqlUCjkdDoRzK0WSCxoCCj6HbqOhWFgbrfqhCCcLwYrwnhF3W4XDLBaTb3ZqJNjRrtltFsI7BYok3XrRrtUrqnpo/1YKvBxn4nsrgnBRR83v87MrzNvvdyCX1gL7vq2o9xBSkpmQ6lcWMmH04VIpghe+9MaUYHUg2kD2SbIvWVwVEYYLMIYBNSiUuXlMi+XAzLKpSAHxynE0QLWB1TYjiLqHBC/mq7bcbMarJeUEph8khggkpyXkjkxfsjuq76txEZof4kNvfMFFtb539eZd+vsso/3iRFhazeqZtVCuayDcSIuicHhcfe41SabTG3YcAJBQ6tpmivCW49hSZoomMCJD/ZzCzx51dHKDXM7SOxjdO3eMVQaefXq1fz8PG5NIXPGme9AGF8aZ8YL0Tm2YRiaphWLRQTz/Pz80dGRYRiNRgM5M4zVdU7g+63VRm8VVk7neyCYoWT5aiUOxoisu0FyiNvdampGQ2+2jEarbjQb8Aq36/VGVYNJeLZcVQvleOZoOyELOx83AsEPrLjMCMuMsMgKS5y4zIFy8kYY4C3E0nwsK8RzQjwXSIJCOChjKFWQIataJFOPZHSTshoxIaxF0gMopFRDIHDWtjL6dra+c2igQxVJKRFnhoVAKh9I5vhYljtQmD3ZG4muB/c+iGDwsMSGkD6w0jof9klb0k70YyKdUA/Vo+JRoVrS6sWqXms0m11cEneJlWJXb0LACLJvDKp1EFaiY61MiKTajme6ikFnXZC3TZyTwgmPtI/RVXvXGiT1t6rdbuMhTdN2d3dfvnw5Pz+PSiPIme2IHQjpS5hm4xa2/bNRrVZxn3lkZOTFixfhcDiVSsmynEwmsSBf55SMJ04oEUtalEjEbJRIJBJJkuLxeDyZSMjJZEqWlVQyJSdTckJOplRFSaupVApOiMehc5Jw0kEieSDLsVQ6KqsfY8nQzh4TDG8K0rKXebe2Obv04bff372cm/9l9s3PM3P/8byZmJ6f9Lyd9Cy8mF38eX715fvN35a56RVhdl2a94Z/Z8ILbOQ9E3nPhN4zoUU2vMRtD6RFdoucBie/84cXfKH5jcDcmuD54J9a8v76fuOXtys/zS2+mHk36Xk7MT3/08zvP88uvJpb+HX+/fTC8pvl9ffr3g8+1i8EhdD21l70IKnEU+loUo7Fk/EE5PDssmKWZSWhqPGUkpSVRDKVkJM9FE8mCMXiSXvHxhJJ6KFEAuqtc/BMyDHRQUkmYsPeNRyd8+fDrnPRenrH/h/iaxCPx71e79jY2NTU1MePH1FphKJ32IL50qbZiGTMa7VatVotl8s7OzsOh+PevXsvXryYnp72eDxTU1O//fabZ0iavmJpSDM9s56ZE5qZnrXI45myEfx65nTyzM4gzczNzszNTs94PLPmGfaT3/7+bvbt77Nz81Ozc1PTM6+nPb96Zn71zPz8emry5Uv3f34Zm5h47hx/PDJy79GP391/+PXt7/9x684/vrv7j+/ufn370Td3f/zXg5FvH43dfuq+82z87sjED2MvHoy+eDA2gfTD84kfnk/cezZ+96n77lP3vWfjWEPze8/G8eidJ87bjx23Ho98++DpN/cef33nwde37v/f7R/+dffht/cffnf/0d0nz56MOEdcE87Jn9z/+eXFL69/evX6Vw80e9oz65mFHEd1ZmZmjqSZmZkpzzSe8NvM7Otpz8zsG8/MHO2Z2Tdz9v7xzMI1ZmaAzO6Fzvh1emaKkGd6xiTzCqRH6aBAEy4pXdbreUZzpqenoX+mphwOx61bt16/fo1gxml2jSRcNg9cPF8OZ6bMGe+nkSTL8sLCgtPpdDgcTqfTTdL4+Ljzuqcxh3PMcTqNOhyjpx/L7XS6Xa5xl2t8wj054Z50O8edTrfD4XI4XGNOh8MFx8kpbvfEuGvcPeZ0mDQ2NuZ0uFwu98T4+DgccricUOOecE6MuyZfuCYnXJMvxtyuZ2OOJ89Hfnjy5N7jx3cfPvn+weNb93+8df/H7x48u/Xw+e1HI0h3Hj836dGPtx8++fe9R/+6+/ib7x/9887Df955+M338O+/7z359ofH/3//yXcPfrz18Omth09vP3p2+9Ez+OHDZ0i3Hzy98/DZ3SfPHj4dfTLiePx87OmYa9Q14ZyYdI9PQvNc4w6Xc2TUMTY25nK5Jibck5OTE+Mut8vhdjkmxl0uF7wJLvJsLveEYxwIfuU0H9/hcrrG3Ui0i0hHOZxuIIdrzCKnw+UcNck96nLjARwXp2PU6Rh1j0F+elxO/oNmDEonZ3ye0qB7Qp3DQQbd7XY4HKOj0Gyv15vJZDRNo2ySlj8XmOmWF/oM0jQNPyTValWW5UgkwvO83+9nGIbneUEQuGueeJbj2Z5nYDiO4TiOPUk8xwlIAieKfEDkAwIn8rzIcQLDsQzHcgKPBcgZxuv3+f1+vAjHYV9xAiSOh8SycEmWFwVe5HhR4AS4AifwgaAkBCUxEOSlIBcIsWLQLwD5eMnLBTZZcZMVvZy4yQqbDL/u51a97Moms7zuW1rzLq15l9d9K5vMqpdd9TJrPnaD4eFMVvByoo8PMGKQESRWDPJSWAhGhGCEl8JcQOICkiBKvAiNYHlsIY+NF0WR4zjG76XEsX6BZwWe5Vh4DViWZVjez3B+0guCKHG8yHCsn2X8LHPSJ6SXWJ4jxLA8EMP5sWDVc34eupLlBI70C+krHm9n3rRnrK7qvyzLkuEWfD4fy7LBYDCbzdrn2HbOTGfd9sJAzmxtBlgeaonEH7wunLi8M3T0fUdy+wVPlavVarFYzOfzhUKhSFLhJlk9kLOl/BH8g3kud5gvZPP5o0LxsFDIYTmXzxQKOaw5lRdyhUIhX4SL5ouFfKFEKZcvDqSjXCELF+2lQ7juAILLDqISJBzWfLGYh+YRylvJelBz6K3qT/1LL4sFfPaeyqv877Dnt7e5WCz264qcgtagfxDMDdgnIZpNx2DPfDlgbjQaqEBinxLYy4Pa8xesswsU7GV8VEOv95Cua3WjWjeqRkMzGmZZr1cGk35KN+hc3dcw6oNIN+oDyTD0gWT7mtd0XaOEDKQ/P1fb/sYnDewxOu09T8cMBPNxT+paaaBzgmG3oZtjw074m9RjF/fn+Pg9SDb0OoCZePy15xQq/YWLdmN/S7Bm+HXA/XA/DUS4Yei4v4I5vReVqtg/Z1gedt/+M88+f9h1rlr9Gc+FO7jIBf9As7G3ezhzD5ZP3LFcCMxUh+QPN+4PPM8V/MkZgwfbCYM4cw+eEcD9cLJqLvbQZ7dn0LUGILleP8WN7Q22AxivNuyOWD/ojlA37FfDzr8u9cOei/bG//q2Dn3Qzwjmns8MTrDpSP99CsP63uz6utE4TXi+vX/6a+xHv1TZ/lz2NtgcAjbdAAABnUlEQVTr7WX7OTfl/h6w9xXdNP4D0+xLcE7Q05SeLysVxNFV9Nnfp7/S0f6ewRrzS1zT66fpujw7PsX5X8rr8lxfqp10AvuH5Uo4Fp8FzP2DjeuoYS/3X7V+2MuBXd/Dlhum98V+jAytGdZvw35w0fMNozmQdN2gVK83bDT4DsPac9H6wVe/PrVnPC9lgfRpLgRsvPJnATN9iWnLaFvpob9Dwf74/eX+NXP/OWfXDOvDs391kaN2oJ6nfJFrX/zcYc97XerPeGJ8hD82x6a/OgVm6ui7xydat9s9EYBZYptG/cTn7hmtvDk0rAc+HczDrnx59ecBsP2cy7vzzZXO3QOU4dttE7+6AfO5O/ASTrwB8yV04s0lSA8gnlstK6DH8fEpMCOwcasKOXPPy3fDmT/xRerpT9Csu3LJznXPU75yD/A3aZAFZvBVheHyvrKi1GKsWshpAg9XoMep0/xKvnzXaexuwHydRutqt9USgLU7xOlSt3t8ATAjqq+L4OFqtrNnXwp0MW7STQ+cowfww2LfiDY5c6PdaZlB7/4LSDcZ5jlgkqkAAAAASUVORK5CYII=)"
      ],
      "metadata": {
        "id": "Fukm5S9jA6EZ"
      }
    },
    {
      "cell_type": "code",
      "source": [
        "import math\n",
        "\n",
        "def calcular_lados_quadrados(raio):\n",
        "    # Lado do quadrado externo (circunscrito ao círculo)\n",
        "    lado_quadrado_externo = 2 * raio\n",
        "\n",
        "    # Lado do quadrado interno (inscrito no círculo)\n",
        "    lado_quadrado_interno = raio * math.sqrt(2)\n",
        "\n",
        "    return lado_quadrado_externo, lado_quadrado_interno\n",
        "\n",
        "# Exemplo de uso\n",
        "raio = 5\n",
        "lado_externo, lado_interno = calcular_lados_quadrados(raio)\n",
        "print(f\"Para um círculo de raio {raio}:\")\n",
        "print(f\"Lado do quadrado externo: {lado_externo}\")\n",
        "print(f\"Lado do quadrado interno: {lado_interno}\")"
      ],
      "metadata": {
        "colab": {
          "base_uri": "https://localhost:8080/"
        },
        "id": "tiy3nzVZDsHY",
        "outputId": "1cdc1d71-c06e-4e5a-d35a-ca6c583c6450"
      },
      "execution_count": 2,
      "outputs": [
        {
          "output_type": "stream",
          "name": "stdout",
          "text": [
            "Para um círculo de raio 5:\n",
            "Lado do quadrado externo: 10\n",
            "Lado do quadrado interno: 7.0710678118654755\n"
          ]
        }
      ]
    },
    {
      "cell_type": "markdown",
      "source": [
        "# 6) - Crie uma função em python que dado um número inteiro positivo maior que 1, determine se o número é abundante, Um número abundante é aquele que é menor do que a soma dos seus divisores."
      ],
      "metadata": {
        "id": "a72bMeKpGghb"
      }
    },
    {
      "cell_type": "code",
      "source": [
        "def eh_abundante(n):\n",
        "    if n <= 1:\n",
        "        return False\n",
        "    soma_divisores = sum(i for i in range(1, n // 2 + 1) if n % i == 0)\n",
        "    return soma_divisores > n\n",
        "\n",
        "numero = 12\n",
        "print(f\"{numero} é um número abundante.\" if eh_abundante(numero) else f\"{numero} não é um número abundante.\")"
      ],
      "metadata": {
        "colab": {
          "base_uri": "https://localhost:8080/"
        },
        "id": "zkM5wAFcJRO6",
        "outputId": "64735d25-f8c7-4513-e8e1-12e5259a3806"
      },
      "execution_count": 4,
      "outputs": [
        {
          "output_type": "stream",
          "name": "stdout",
          "text": [
            "12 é um número abundante.\n"
          ]
        }
      ]
    },
    {
      "cell_type": "markdown",
      "source": [
        "# 7) - Crie um algorítimo que determine se as linhas e colunas de uma matriz bidmensional possuem a mesma soma.\n",
        "Exemplo:\n",
        "815\n",
        "357\n",
        "492\n",
        "No caso acima todas as linhas e todas as colunas, apresentam a soma 15.\n",
        "Representação de uma matriz bidimensional:\n",
        "matriz = [[815], [357],[492]]"
      ],
      "metadata": {
        "id": "TInSy4y2LTfh"
      }
    },
    {
      "cell_type": "code",
      "source": [
        "def checar_somas_iguais(matriz):\n",
        "    if not matriz:\n",
        "        return False\n",
        "\n",
        "    num_linhas = len(matriz)\n",
        "    num_colunas = len(matriz[0])\n",
        "\n",
        "    # Calcular as somas das linhas\n",
        "    soma_linhas = [sum(linha) for linha in matriz]\n",
        "\n",
        "    # Calcular as somas das colunas\n",
        "    soma_colunas = [sum(matriz[i][j] for i in range(num_linhas)) for j in range(num_colunas)]\n",
        "\n",
        "    # Verificar se todas as somas de linhas são iguais\n",
        "    if len(set(soma_linhas)) != 1:\n",
        "        return False\n",
        "\n",
        "    # Verificar se todas as somas de colunas são iguais\n",
        "    if len(set(soma_colunas)) != 1:\n",
        "        return False\n",
        "\n",
        "    # Verificar se as somas das linhas e colunas são iguais\n",
        "    return soma_linhas[0] == soma_colunas[0]\n",
        "\n",
        "# Exemplo de uso\n",
        "matriz = [[8, 1, 5], [3, 5, 7], [4, 9, 2]]\n",
        "if checar_somas_iguais(matriz):\n",
        "    print(\"Todas as linhas e colunas possuem a mesma soma.\")\n",
        "else:\n",
        "    print(\"As somas das linhas e colunas são diferentes.\")"
      ],
      "metadata": {
        "colab": {
          "base_uri": "https://localhost:8080/"
        },
        "id": "mIOFdtBEMj3l",
        "outputId": "7f7385df-0368-4df5-aff4-59bddbbc6ee1"
      },
      "execution_count": 5,
      "outputs": [
        {
          "output_type": "stream",
          "name": "stdout",
          "text": [
            "As somas das linhas e colunas são diferentes.\n"
          ]
        }
      ]
    },
    {
      "cell_type": "markdown",
      "source": [
        "## Crie uma função que calcula a área de um hexágono de aresta X, onde ao menos 2 dos seus ângulos internos opostos são iguais a 90 graus.\n"
      ],
      "metadata": {
        "id": "ZTYSjkJaSogj"
      }
    },
    {
      "cell_type": "code",
      "source": [
        "def area_hex(x, z):\n",
        "  y = (z**2 + z**2)**(1/2)\n",
        "  h = (z**2 - (y/2)**2)**(1/2)\n",
        "  at = y * h / 2\n",
        "  return at\n",
        "\n",
        "area_hex(1, 5)"
      ],
      "metadata": {
        "colab": {
          "base_uri": "https://localhost:8080/"
        },
        "id": "_qL5YWP86VyJ",
        "outputId": "d4d524c8-89c2-43fb-aeb6-d995aaacf63d"
      },
      "execution_count": null,
      "outputs": [
        {
          "output_type": "execute_result",
          "data": {
            "text/plain": [
              "12.5"
            ]
          },
          "metadata": {},
          "execution_count": 17
        }
      ]
    }
  ]
}