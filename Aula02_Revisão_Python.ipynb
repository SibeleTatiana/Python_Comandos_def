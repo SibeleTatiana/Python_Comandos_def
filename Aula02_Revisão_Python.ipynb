{
  "nbformat": 4,
  "nbformat_minor": 0,
  "metadata": {
    "colab": {
      "provenance": [],
      "authorship_tag": "ABX9TyOgqYcDURST3Hi/deZjbMjo",
      "include_colab_link": true
    },
    "kernelspec": {
      "name": "python3",
      "display_name": "Python 3"
    },
    "language_info": {
      "name": "python"
    }
  },
  "cells": [
    {
      "cell_type": "markdown",
      "metadata": {
        "id": "view-in-github",
        "colab_type": "text"
      },
      "source": [
        "<a href=\"https://colab.research.google.com/github/SibeleTatiana/WebAggregat/blob/main/Aula02_Revis%C3%A3o_Python.ipynb\" target=\"_parent\"><img src=\"https://colab.research.google.com/assets/colab-badge.svg\" alt=\"Open In Colab\"/></a>"
      ]
    },
    {
      "cell_type": "code",
      "source": [
        "import math\n",
        "#Crie uma função que calcula a área de um hexágono regular de aresta X.\n",
        "\n",
        "def area_hexagono(x):\n",
        "  area = (3 * math.sqrt(3) /2) * (x ** 2)\n",
        "  print(f'A área do hexagono de aresta {x} é {area:.2f}')\n",
        "  return area\n",
        "area_hexagono(10)"
      ],
      "metadata": {
        "colab": {
          "base_uri": "https://localhost:8080/"
        },
        "id": "dxEW0oPh17MH",
        "outputId": "9ac4a74f-32ce-496c-a4a2-420511d16dcd"
      },
      "execution_count": 21,
      "outputs": [
        {
          "output_type": "stream",
          "name": "stdout",
          "text": [
            "A área do hexagono de aresta 10 é 259.81\n"
          ]
        },
        {
          "output_type": "execute_result",
          "data": {
            "text/plain": [
              "259.8076211353316"
            ]
          },
          "metadata": {},
          "execution_count": 21
        }
      ]
    },
    {
      "cell_type": "code",
      "source": [
        "#Crie uma função que dada uma lista de inteiros positivos, indique quais números dessa lista são primos.\n",
        "\n",
        "def primo(lista):\n",
        "  primos = []\n",
        "  for i in lista:\n",
        "    primo = True\n",
        "    for j in range(2, i):\n",
        "      if i % j == 0:\n",
        "        primo = False\n",
        "        break\n",
        "    if primo:\n",
        "      primos.append(i)\n",
        "  print(primos)\n",
        "\n",
        "lista = [1, 2, 3, 4, 5, 6, 7, 8, 9, 10, 11, 12, 13, 14, 15]\n",
        "primo(lista)"
      ],
      "metadata": {
        "colab": {
          "base_uri": "https://localhost:8080/"
        },
        "id": "W4GVHNpAUjJy",
        "outputId": "fb339abf-b9f2-40b4-e4c2-01ea86260106"
      },
      "execution_count": 19,
      "outputs": [
        {
          "output_type": "stream",
          "name": "stdout",
          "text": [
            "[1, 2, 3, 5, 7, 11, 13]\n"
          ]
        }
      ]
    },
    {
      "cell_type": "code",
      "source": [
        "#Crie uma função que calcula a área de um hexágono de aresta X, onde ao menos 2 dos seus ângulos internos opostos são iguais a 90 graus.\n",
        "\n",
        "def area_hex(x, z):\n",
        "  y = (z**2 + z**2)**(1/2)\n",
        "  h = (z**2 - (y/2)**2)**(1/2)\n",
        "  at = y * h / 2\n",
        "  return at\n",
        "\n",
        "area_hex(1, 5)"
      ],
      "metadata": {
        "colab": {
          "base_uri": "https://localhost:8080/"
        },
        "id": "_qL5YWP86VyJ",
        "outputId": "d4d524c8-89c2-43fb-aeb6-d995aaacf63d"
      },
      "execution_count": 17,
      "outputs": [
        {
          "output_type": "execute_result",
          "data": {
            "text/plain": [
              "12.5"
            ]
          },
          "metadata": {},
          "execution_count": 17
        }
      ]
    },
    {
      "cell_type": "code",
      "source": [
        "#Crie uma função que dada uma lista de inteiros positivos, indique quais números dessa lista são primos.\n",
        "\n",
        "\n",
        "def primo(lista):\n",
        "  primos = []\n",
        "  for i in lista:\n",
        "    primo = True\n",
        "    for j in range(2, i):\n",
        "      if i % j == 0:\n",
        "        primo = False\n",
        "        break\n",
        "    if primo:\n",
        "      primos.append(i)\n",
        "  print(primos)\n",
        "\n",
        "lista = [1, 2, 3, 4, 5, 6, 7, 8, 9, 10, 11, 12, 13, 14, 15]\n",
        "primo(lista)"
      ],
      "metadata": {
        "colab": {
          "base_uri": "https://localhost:8080/"
        },
        "id": "9syytkZb6x2b",
        "outputId": "36bc40f4-4a5b-40ef-d769-5cf8db15639a"
      },
      "execution_count": 16,
      "outputs": [
        {
          "output_type": "stream",
          "name": "stdout",
          "text": [
            "[1, 2, 3, 5, 7, 11, 13]\n"
          ]
        }
      ]
    },
    {
      "cell_type": "code",
      "source": [
        "##Crie uma função Python que calcule as raízes de uma equação de segundo grau completa, dado os seus coeficientes.\n",
        "\n",
        "\n",
        "def equacao_2grau(a, b, c):\n",
        "  delta = b**2 - 4 * a * c\n",
        "  if delta < 0:\n",
        "    return \"A equação não possui raízes reais.\"\n",
        "  elif delta == 0:\n",
        "    x = -b / (2 * a)\n",
        "    return x\n",
        "  else:\n",
        "    x1 = (- b + (delta ** 0.5)) / (2 * a)\n",
        "    x2 = (- b - (delta ** 0.5)) / (2 * a)\n",
        "    return x1, x2\n",
        "\n",
        "equacao_2grau(1, 1, 0)"
      ],
      "metadata": {
        "colab": {
          "base_uri": "https://localhost:8080/"
        },
        "id": "fbWJOao07BjR",
        "outputId": "df648693-712b-4e39-89db-0c33a5965a42"
      },
      "execution_count": 15,
      "outputs": [
        {
          "output_type": "execute_result",
          "data": {
            "text/plain": [
              "(0.0, -1.0)"
            ]
          },
          "metadata": {},
          "execution_count": 15
        }
      ]
    }
  ]
}