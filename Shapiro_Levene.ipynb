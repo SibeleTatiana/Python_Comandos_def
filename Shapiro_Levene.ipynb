{
  "nbformat": 4,
  "nbformat_minor": 0,
  "metadata": {
    "colab": {
      "provenance": [],
      "authorship_tag": "ABX9TyON4CWNHq9boyoIUn2uLAYo",
      "include_colab_link": true
    },
    "kernelspec": {
      "name": "python3",
      "display_name": "Python 3"
    },
    "language_info": {
      "name": "python"
    }
  },
  "cells": [
    {
      "cell_type": "markdown",
      "metadata": {
        "id": "view-in-github",
        "colab_type": "text"
      },
      "source": [
        "<a href=\"https://colab.research.google.com/github/SibeleTatiana/WebAggregat/blob/main/Shapiro_Levene.ipynb\" target=\"_parent\"><img src=\"https://colab.research.google.com/assets/colab-badge.svg\" alt=\"Open In Colab\"/></a>"
      ]
    },
    {
      "cell_type": "markdown",
      "source": [
        "# Shapiro e Levene - teste de normalidade e homocedasticidade"
      ],
      "metadata": {
        "id": "aYXY7dqq8XM3"
      }
    },
    {
      "cell_type": "markdown",
      "source": [
        "Para as amostras dadas, realizar um teste-t, verificando as características da amostra, que diga se os valores são estatísticamente iguais ou diferentes.\n",
        "\n",
        "Utilizar alpha de 10%."
      ],
      "metadata": {
        "id": "5-_o-zxH8wNd"
      }
    },
    {
      "cell_type": "code",
      "source": [
        "import scipy.stats as stats\n",
        "\n",
        "paciente1 = [794.1, 716.9, 993, 724.7, 760.9, 908.2, 659.3, 690.8, 768.7, 717.3, 630.7, 729.5, 714.1, 810.3, 583.5, 679.9, 865.1]\n",
        "paciente2 = [976.4, 656.4, 861.2, 706.8, 718.5, 717.1, 759.8, 894.6, 867.6, 805.6, 765.4, 800.3, 789.9, 875.3, 740, 795.2, 823.8, 791.7, 948.5]\n",
        "\n",
        "shapiro_p1 = stats.shapiro(paciente1)\n",
        "shapiro_p2 = stats.shapiro(paciente2)\n",
        "\n",
        "print(f'Teste de Shapiro-Wilk para Paciente 1: Estatística={shapiro_p1.statistic}, p-valor={shapiro_p1.pvalue}')\n",
        "print(f'Teste de Shapiro-Wilk para Paciente 2: Estatística={shapiro_p2.statistic}, p-valor={shapiro_p2.pvalue}')\n",
        "\n",
        "levene_test = stats.levene(paciente1, paciente2)\n",
        "\n",
        "print(f'Teste de Levene: Estatística={levene_test.statistic}, p-valor={levene_test.pvalue}')\n",
        "\n",
        "# Teste t de Student para amostras independentes\n",
        "t_test = stats.ttest_ind(paciente1, paciente2)\n",
        "\n",
        "print(f'Teste t para amostras independentes: Estatística t={t_test.statistic}, p-valor={t_test.pvalue}')\n",
        "\n",
        "# Conclusão com alpha de 10%\n",
        "alpha = 0.10\n",
        "if t_test.pvalue < alpha:\n",
        "    print(\"Rejeitamos a hipótese nula: As amostras são estatisticamente diferentes.\")\n",
        "else:\n",
        "    print(\"Não rejeitamos a hipótese nula: As amostras não são estatisticamente diferentes.\")"
      ],
      "metadata": {
        "colab": {
          "base_uri": "https://localhost:8080/"
        },
        "id": "qaUpfz0Z9716",
        "outputId": "905f1b9c-c642-467c-f006-a6ffaad20a06"
      },
      "execution_count": 2,
      "outputs": [
        {
          "output_type": "stream",
          "name": "stdout",
          "text": [
            "Teste de Shapiro-Wilk para Paciente 1: Estatística=0.9508075752265375, p-valor=0.4694182269784564\n",
            "Teste de Shapiro-Wilk para Paciente 2: Estatística=0.9759394217800006, p-valor=0.8855984790712832\n",
            "Teste de Levene: Estatística=0.18805925028648113, p-valor=0.6672760513946409\n",
            "Teste t para amostras independentes: Estatística t=-1.7814198432262078, p-valor=0.08377921158115816\n",
            "Rejeitamos a hipótese nula: As amostras são estatisticamente diferentes.\n"
          ]
        }
      ]
    }
  ]
}